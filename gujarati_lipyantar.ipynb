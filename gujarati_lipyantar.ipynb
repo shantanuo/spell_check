{
 "cells": [
  {
   "cell_type": "code",
   "execution_count": 1,
   "metadata": {},
   "outputs": [],
   "source": [
    "mydict = {\n",
    "    b\"090\": b\"0A8\",\n",
    "    b\"091\": b\"0A9\",\n",
    "    b\"092\": b\"0AA\",\n",
    "    b\"093\": b\"0AB\",\n",
    "    b\"094\": b\"0AC\",\n",
    "    b\"095\": b\"0AD\",\n",
    "    b\"096\": b\"0AE\",\n",
    "    b\"097\": b\"0AF\",\n",
    "}"
   ]
  },
  {
   "cell_type": "code",
   "execution_count": 2,
   "metadata": {},
   "outputs": [],
   "source": [
    "import sys\n",
    "myobj = open(\"/root/marathi/dicts/gu_IN.dic\", \"w\")\n",
    "sys.stdout = myobj"
   ]
  },
  {
   "cell_type": "code",
   "execution_count": 3,
   "metadata": {},
   "outputs": [],
   "source": [
    "with open(\"/root/marathi/dicts/mr_IN.dic\") as f:\n",
    "    for y in f.readlines():\n",
    "        newlist = list()\n",
    "        for i in y:\n",
    "            x = i.encode(\"raw_unicode_escape\")\n",
    "            for k, v in mydict.items():\n",
    "                if k in x:\n",
    "                    z = x.replace(k, v)\n",
    "                    newlist.append(z)\n",
    "\n",
    "        print(\n",
    "            b\"\".join(newlist).decode(\"utf-8\").encode(\"ascii\").decode(\"unicode-escape\"),\n",
    "        )"
   ]
  }
 ],
 "metadata": {
  "kernelspec": {
   "display_name": "Python 3",
   "language": "python",
   "name": "python3"
  },
  "language_info": {
   "codemirror_mode": {
    "name": "ipython",
    "version": 3
   },
   "file_extension": ".py",
   "mimetype": "text/x-python",
   "name": "python",
   "nbconvert_exporter": "python",
   "pygments_lexer": "ipython3",
   "version": "3.7.6"
  }
 },
 "nbformat": 4,
 "nbformat_minor": 4
}
