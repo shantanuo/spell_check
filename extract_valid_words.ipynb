{
 "cells": [
  {
   "cell_type": "code",
   "execution_count": null,
   "metadata": {},
   "outputs": [],
   "source": [
    "# wget https://datameetgeobk.s3.us-east-1.amazonaws.com/hunspell/my_corpus1.txt.gz\n",
    "# gunzip my_corpus1.txt.gz"
   ]
  },
  {
   "cell_type": "code",
   "execution_count": 1,
   "metadata": {},
   "outputs": [],
   "source": [
    "def isvalid(myword):\n",
    "    for y in myword:\n",
    "        for i in y:\n",
    "            x = i.encode(\"raw_unicode_escape\")\n",
    "            if x[:5][-3:] not in [b\"090\", b\"091\", b\"092\", b\"093\", b\"094\"]:\n",
    "                return\n",
    "            if x[:6][-4:].upper() in [ b\"0900\", b\"0904\", b\"090E\", b\"0912\", b\"0929\", b\"0934\", b\"093A\", b\"093B\", b\"0946\", b\"094A\", b\"094E\", b\"094F\"]:\n",
    "                return\n",
    "    return myword"
   ]
  },
  {
   "cell_type": "code",
   "execution_count": 2,
   "metadata": {},
   "outputs": [],
   "source": [
    "import sys\n",
    "sys.stdout = open(\"valid_word.txt\", \"w\")\n",
    "\n",
    "with open(\"my_corpus1.txt\") as infile:\n",
    "    for line in infile:\n",
    "        x = isvalid(line.strip())\n",
    "        if x:\n",
    "            print (x) "
   ]
  },
  {
   "cell_type": "code",
   "execution_count": null,
   "metadata": {},
   "outputs": [],
   "source": [
    "# restart kernel"
   ]
  },
  {
   "cell_type": "code",
   "execution_count": 1,
   "metadata": {},
   "outputs": [],
   "source": [
    "import sys\n",
    "sys.stdout = open(\"exclude.txt\", \"w\")\n",
    "mylist = [\"्\", \"ा\", \"ि\", \"ी\", \"ु\", \"ू\", \"े\", \"ै\", \"ॅ\"]\n",
    "for i in mylist:\n",
    "  for y in mylist:\n",
    "      print (i + y)"
   ]
  },
  {
   "cell_type": "code",
   "execution_count": 1,
   "metadata": {},
   "outputs": [],
   "source": [
    "#! grep -vf exclude.txt valid_word.txt > valid_word2.txt"
   ]
  },
  {
   "cell_type": "code",
   "execution_count": 2,
   "metadata": {},
   "outputs": [],
   "source": [
    "#! grep -vE \"^्|^ा |^ि|^ी|^ु|^ू|^े|^ै|^ॅ\"  valid_word2.txt > valid_word3.txt"
   ]
  },
  {
   "cell_type": "code",
   "execution_count": 1,
   "metadata": {},
   "outputs": [],
   "source": [
    "#!cat valid_word3.txt | grep -v 'च$' | grep -v 'ही$' > valid_word4.txt"
   ]
  },
  {
   "cell_type": "code",
   "execution_count": null,
   "metadata": {},
   "outputs": [],
   "source": [
    "#! wget https://datameetgeobk.s3.us-east-1.amazonaws.com/hunspell/all_nesco5_home.csv"
   ]
  },
  {
   "cell_type": "code",
   "execution_count": null,
   "metadata": {},
   "outputs": [],
   "source": [
    "awk -F';' ' \n",
    "NR==FNR { \n",
    " gsub(/\"/,\"\") \n",
    " a[$2]=$1 \n",
    " next\n",
    "}\n",
    "{\n",
    " if($1 in a)\n",
    " print a[$1], $1\n",
    " else \n",
    " print \"XXX\", $1\n",
    "}' all_nesco5_home.csv valid_word4.txt > valid_word5.txt"
   ]
  },
  {
   "cell_type": "code",
   "execution_count": null,
   "metadata": {},
   "outputs": [],
   "source": [
    "grep 'XXX' valid_word5.txt | cut -d ' ' -f 2 | awk '{n=substr($0,0,8);c[n]++;w[n]=(length(w[n])?w[n]\"\\n\":\"\")$0}END{for(n in c)if(c[n]>6)print w[n]}' | sort -u > valid_word6.txt"
   ]
  }
 ],
 "metadata": {
  "kernelspec": {
   "display_name": "Python 3",
   "language": "python",
   "name": "python3"
  },
  "language_info": {
   "codemirror_mode": {
    "name": "ipython",
    "version": 3
   },
   "file_extension": ".py",
   "mimetype": "text/x-python",
   "name": "python",
   "nbconvert_exporter": "python",
   "pygments_lexer": "ipython3",
   "version": "3.7.6"
  }
 },
 "nbformat": 4,
 "nbformat_minor": 4
}
