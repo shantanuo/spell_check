{
 "cells": [
  {
   "cell_type": "code",
   "execution_count": 1,
   "metadata": {},
   "outputs": [
    {
     "data": {
      "application/javascript": [
       "\n",
       "            setTimeout(function() {\n",
       "                var nbb_cell_id = 1;\n",
       "                var nbb_unformatted_code = \"%load_ext nb_black\";\n",
       "                var nbb_formatted_code = \"%load_ext nb_black\";\n",
       "                var nbb_cells = Jupyter.notebook.get_cells();\n",
       "                for (var i = 0; i < nbb_cells.length; ++i) {\n",
       "                    if (nbb_cells[i].input_prompt_number == nbb_cell_id) {\n",
       "                        if (nbb_cells[i].get_text() == nbb_unformatted_code) {\n",
       "                             nbb_cells[i].set_text(nbb_formatted_code);\n",
       "                        }\n",
       "                        break;\n",
       "                    }\n",
       "                }\n",
       "            }, 500);\n",
       "            "
      ],
      "text/plain": [
       "<IPython.core.display.Javascript object>"
      ]
     },
     "metadata": {},
     "output_type": "display_data"
    }
   ],
   "source": [
    "%load_ext nb_black"
   ]
  },
  {
   "cell_type": "code",
   "execution_count": 2,
   "metadata": {},
   "outputs": [
    {
     "data": {
      "application/javascript": [
       "\n",
       "            setTimeout(function() {\n",
       "                var nbb_cell_id = 2;\n",
       "                var nbb_unformatted_code = \"import pandas as pd\\nimport numpy as np\";\n",
       "                var nbb_formatted_code = \"import pandas as pd\\nimport numpy as np\";\n",
       "                var nbb_cells = Jupyter.notebook.get_cells();\n",
       "                for (var i = 0; i < nbb_cells.length; ++i) {\n",
       "                    if (nbb_cells[i].input_prompt_number == nbb_cell_id) {\n",
       "                        if (nbb_cells[i].get_text() == nbb_unformatted_code) {\n",
       "                             nbb_cells[i].set_text(nbb_formatted_code);\n",
       "                        }\n",
       "                        break;\n",
       "                    }\n",
       "                }\n",
       "            }, 500);\n",
       "            "
      ],
      "text/plain": [
       "<IPython.core.display.Javascript object>"
      ]
     },
     "metadata": {},
     "output_type": "display_data"
    }
   ],
   "source": [
    "import pandas as pd\n",
    "import numpy as np"
   ]
  },
  {
   "cell_type": "code",
   "execution_count": 3,
   "metadata": {},
   "outputs": [
    {
     "data": {
      "application/javascript": [
       "\n",
       "            setTimeout(function() {\n",
       "                var nbb_cell_id = 3;\n",
       "                var nbb_unformatted_code = \"df = pd.read_csv(\\\"ttfinal1.txt\\\", sep=\\\"/\\\")\";\n",
       "                var nbb_formatted_code = \"df = pd.read_csv(\\\"ttfinal1.txt\\\", sep=\\\"/\\\")\";\n",
       "                var nbb_cells = Jupyter.notebook.get_cells();\n",
       "                for (var i = 0; i < nbb_cells.length; ++i) {\n",
       "                    if (nbb_cells[i].input_prompt_number == nbb_cell_id) {\n",
       "                        if (nbb_cells[i].get_text() == nbb_unformatted_code) {\n",
       "                             nbb_cells[i].set_text(nbb_formatted_code);\n",
       "                        }\n",
       "                        break;\n",
       "                    }\n",
       "                }\n",
       "            }, 500);\n",
       "            "
      ],
      "text/plain": [
       "<IPython.core.display.Javascript object>"
      ]
     },
     "metadata": {},
     "output_type": "display_data"
    }
   ],
   "source": [
    "df = pd.read_csv(\"ttfinal1.txt\", sep=\"/\")"
   ]
  },
  {
   "cell_type": "code",
   "execution_count": 4,
   "metadata": {},
   "outputs": [
    {
     "data": {
      "application/javascript": [
       "\n",
       "            setTimeout(function() {\n",
       "                var nbb_cell_id = 4;\n",
       "                var nbb_unformatted_code = \"df.columns = [\\\"word\\\", \\\"tag\\\"]\";\n",
       "                var nbb_formatted_code = \"df.columns = [\\\"word\\\", \\\"tag\\\"]\";\n",
       "                var nbb_cells = Jupyter.notebook.get_cells();\n",
       "                for (var i = 0; i < nbb_cells.length; ++i) {\n",
       "                    if (nbb_cells[i].input_prompt_number == nbb_cell_id) {\n",
       "                        if (nbb_cells[i].get_text() == nbb_unformatted_code) {\n",
       "                             nbb_cells[i].set_text(nbb_formatted_code);\n",
       "                        }\n",
       "                        break;\n",
       "                    }\n",
       "                }\n",
       "            }, 500);\n",
       "            "
      ],
      "text/plain": [
       "<IPython.core.display.Javascript object>"
      ]
     },
     "metadata": {},
     "output_type": "display_data"
    }
   ],
   "source": [
    "df.columns = [\"word\", \"tag\"]"
   ]
  },
  {
   "cell_type": "code",
   "execution_count": 5,
   "metadata": {},
   "outputs": [
    {
     "data": {
      "text/html": [
       "<div>\n",
       "<style scoped>\n",
       "    .dataframe tbody tr th:only-of-type {\n",
       "        vertical-align: middle;\n",
       "    }\n",
       "\n",
       "    .dataframe tbody tr th {\n",
       "        vertical-align: top;\n",
       "    }\n",
       "\n",
       "    .dataframe thead th {\n",
       "        text-align: right;\n",
       "    }\n",
       "</style>\n",
       "<table border=\"1\" class=\"dataframe\">\n",
       "  <thead>\n",
       "    <tr style=\"text-align: right;\">\n",
       "      <th></th>\n",
       "      <th>word</th>\n",
       "      <th>tag</th>\n",
       "    </tr>\n",
       "  </thead>\n",
       "  <tbody>\n",
       "    <tr>\n",
       "      <th>0</th>\n",
       "      <td>अंकी</td>\n",
       "      <td>NaN</td>\n",
       "    </tr>\n",
       "    <tr>\n",
       "      <th>1</th>\n",
       "      <td>अंकगणित</td>\n",
       "      <td>f</td>\n",
       "    </tr>\n",
       "    <tr>\n",
       "      <th>2</th>\n",
       "      <td>अंकगणिते</td>\n",
       "      <td>NaN</td>\n",
       "    </tr>\n",
       "    <tr>\n",
       "      <th>3</th>\n",
       "      <td>अंकगणिती</td>\n",
       "      <td>NaN</td>\n",
       "    </tr>\n",
       "    <tr>\n",
       "      <th>4</th>\n",
       "      <td>अंकन</td>\n",
       "      <td>f</td>\n",
       "    </tr>\n",
       "    <tr>\n",
       "      <th>...</th>\n",
       "      <td>...</td>\n",
       "      <td>...</td>\n",
       "    </tr>\n",
       "    <tr>\n",
       "      <th>14575</th>\n",
       "      <td>धरणी</td>\n",
       "      <td>Aacd</td>\n",
       "    </tr>\n",
       "    <tr>\n",
       "      <th>14576</th>\n",
       "      <td>धरणीकंप</td>\n",
       "      <td>f</td>\n",
       "    </tr>\n",
       "    <tr>\n",
       "      <th>14577</th>\n",
       "      <td>धरती</td>\n",
       "      <td>NaN</td>\n",
       "    </tr>\n",
       "    <tr>\n",
       "      <th>14578</th>\n",
       "      <td>धरपकड</td>\n",
       "      <td>l</td>\n",
       "    </tr>\n",
       "    <tr>\n",
       "      <th>14579</th>\n",
       "      <td>धरबंध</td>\n",
       "      <td>f</td>\n",
       "    </tr>\n",
       "  </tbody>\n",
       "</table>\n",
       "<p>14580 rows × 2 columns</p>\n",
       "</div>"
      ],
      "text/plain": [
       "           word   tag\n",
       "0          अंकी   NaN\n",
       "1       अंकगणित     f\n",
       "2      अंकगणिते   NaN\n",
       "3      अंकगणिती   NaN\n",
       "4          अंकन     f\n",
       "...         ...   ...\n",
       "14575      धरणी  Aacd\n",
       "14576   धरणीकंप     f\n",
       "14577      धरती   NaN\n",
       "14578     धरपकड     l\n",
       "14579     धरबंध     f\n",
       "\n",
       "[14580 rows x 2 columns]"
      ]
     },
     "execution_count": 5,
     "metadata": {},
     "output_type": "execute_result"
    },
    {
     "data": {
      "application/javascript": [
       "\n",
       "            setTimeout(function() {\n",
       "                var nbb_cell_id = 5;\n",
       "                var nbb_unformatted_code = \"df\";\n",
       "                var nbb_formatted_code = \"df\";\n",
       "                var nbb_cells = Jupyter.notebook.get_cells();\n",
       "                for (var i = 0; i < nbb_cells.length; ++i) {\n",
       "                    if (nbb_cells[i].input_prompt_number == nbb_cell_id) {\n",
       "                        if (nbb_cells[i].get_text() == nbb_unformatted_code) {\n",
       "                             nbb_cells[i].set_text(nbb_formatted_code);\n",
       "                        }\n",
       "                        break;\n",
       "                    }\n",
       "                }\n",
       "            }, 500);\n",
       "            "
      ],
      "text/plain": [
       "<IPython.core.display.Javascript object>"
      ]
     },
     "metadata": {},
     "output_type": "display_data"
    }
   ],
   "source": [
    "df"
   ]
  },
  {
   "cell_type": "code",
   "execution_count": 6,
   "metadata": {},
   "outputs": [
    {
     "data": {
      "text/html": [
       "<div>\n",
       "<style scoped>\n",
       "    .dataframe tbody tr th:only-of-type {\n",
       "        vertical-align: middle;\n",
       "    }\n",
       "\n",
       "    .dataframe tbody tr th {\n",
       "        vertical-align: top;\n",
       "    }\n",
       "\n",
       "    .dataframe thead th {\n",
       "        text-align: right;\n",
       "    }\n",
       "</style>\n",
       "<table border=\"1\" class=\"dataframe\">\n",
       "  <thead>\n",
       "    <tr style=\"text-align: right;\">\n",
       "      <th></th>\n",
       "      <th>word</th>\n",
       "      <th>tag</th>\n",
       "    </tr>\n",
       "  </thead>\n",
       "  <tbody>\n",
       "  </tbody>\n",
       "</table>\n",
       "</div>"
      ],
      "text/plain": [
       "Empty DataFrame\n",
       "Columns: [word, tag]\n",
       "Index: []"
      ]
     },
     "execution_count": 6,
     "metadata": {},
     "output_type": "execute_result"
    },
    {
     "data": {
      "application/javascript": [
       "\n",
       "            setTimeout(function() {\n",
       "                var nbb_cell_id = 6;\n",
       "                var nbb_unformatted_code = \"df[df.word.str.contains(\\\" \\\", na=False)]\";\n",
       "                var nbb_formatted_code = \"df[df.word.str.contains(\\\" \\\", na=False)]\";\n",
       "                var nbb_cells = Jupyter.notebook.get_cells();\n",
       "                for (var i = 0; i < nbb_cells.length; ++i) {\n",
       "                    if (nbb_cells[i].input_prompt_number == nbb_cell_id) {\n",
       "                        if (nbb_cells[i].get_text() == nbb_unformatted_code) {\n",
       "                             nbb_cells[i].set_text(nbb_formatted_code);\n",
       "                        }\n",
       "                        break;\n",
       "                    }\n",
       "                }\n",
       "            }, 500);\n",
       "            "
      ],
      "text/plain": [
       "<IPython.core.display.Javascript object>"
      ]
     },
     "metadata": {},
     "output_type": "display_data"
    }
   ],
   "source": [
    "df[df.word.str.contains(\" \", na=False)]"
   ]
  },
  {
   "cell_type": "code",
   "execution_count": null,
   "metadata": {},
   "outputs": [],
   "source": []
  },
  {
   "cell_type": "code",
   "execution_count": 7,
   "metadata": {},
   "outputs": [
    {
     "data": {
      "application/javascript": [
       "\n",
       "            setTimeout(function() {\n",
       "                var nbb_cell_id = 7;\n",
       "                var nbb_unformatted_code = \"#df = df.replace(\\\"\\\\t\\\", \\\"\\\", regex=True)\";\n",
       "                var nbb_formatted_code = \"# df = df.replace(\\\"\\\\t\\\", \\\"\\\", regex=True)\";\n",
       "                var nbb_cells = Jupyter.notebook.get_cells();\n",
       "                for (var i = 0; i < nbb_cells.length; ++i) {\n",
       "                    if (nbb_cells[i].input_prompt_number == nbb_cell_id) {\n",
       "                        if (nbb_cells[i].get_text() == nbb_unformatted_code) {\n",
       "                             nbb_cells[i].set_text(nbb_formatted_code);\n",
       "                        }\n",
       "                        break;\n",
       "                    }\n",
       "                }\n",
       "            }, 500);\n",
       "            "
      ],
      "text/plain": [
       "<IPython.core.display.Javascript object>"
      ]
     },
     "metadata": {},
     "output_type": "display_data"
    }
   ],
   "source": [
    "# df = df.replace(\"\\t\", \"\", regex=True)"
   ]
  },
  {
   "cell_type": "code",
   "execution_count": 8,
   "metadata": {},
   "outputs": [
    {
     "data": {
      "application/javascript": [
       "\n",
       "            setTimeout(function() {\n",
       "                var nbb_cell_id = 8;\n",
       "                var nbb_unformatted_code = \"mylist = list()\\nfor i in df.tag.values:\\n    try:\\n        mylist.append(\\\"\\\".join(sorted(i)))\\n    except:\\n        mylist.append(np.nan)\";\n",
       "                var nbb_formatted_code = \"mylist = list()\\nfor i in df.tag.values:\\n    try:\\n        mylist.append(\\\"\\\".join(sorted(i)))\\n    except:\\n        mylist.append(np.nan)\";\n",
       "                var nbb_cells = Jupyter.notebook.get_cells();\n",
       "                for (var i = 0; i < nbb_cells.length; ++i) {\n",
       "                    if (nbb_cells[i].input_prompt_number == nbb_cell_id) {\n",
       "                        if (nbb_cells[i].get_text() == nbb_unformatted_code) {\n",
       "                             nbb_cells[i].set_text(nbb_formatted_code);\n",
       "                        }\n",
       "                        break;\n",
       "                    }\n",
       "                }\n",
       "            }, 500);\n",
       "            "
      ],
      "text/plain": [
       "<IPython.core.display.Javascript object>"
      ]
     },
     "metadata": {},
     "output_type": "display_data"
    }
   ],
   "source": [
    "mylist = list()\n",
    "for i in df.tag.values:\n",
    "    try:\n",
    "        mylist.append(\"\".join(sorted(i)))\n",
    "    except:\n",
    "        mylist.append(np.nan)"
   ]
  },
  {
   "cell_type": "code",
   "execution_count": 9,
   "metadata": {},
   "outputs": [
    {
     "data": {
      "application/javascript": [
       "\n",
       "            setTimeout(function() {\n",
       "                var nbb_cell_id = 9;\n",
       "                var nbb_unformatted_code = \"df[\\\"tag\\\"] = mylist\";\n",
       "                var nbb_formatted_code = \"df[\\\"tag\\\"] = mylist\";\n",
       "                var nbb_cells = Jupyter.notebook.get_cells();\n",
       "                for (var i = 0; i < nbb_cells.length; ++i) {\n",
       "                    if (nbb_cells[i].input_prompt_number == nbb_cell_id) {\n",
       "                        if (nbb_cells[i].get_text() == nbb_unformatted_code) {\n",
       "                             nbb_cells[i].set_text(nbb_formatted_code);\n",
       "                        }\n",
       "                        break;\n",
       "                    }\n",
       "                }\n",
       "            }, 500);\n",
       "            "
      ],
      "text/plain": [
       "<IPython.core.display.Javascript object>"
      ]
     },
     "metadata": {},
     "output_type": "display_data"
    }
   ],
   "source": [
    "df[\"tag\"] = mylist"
   ]
  },
  {
   "cell_type": "code",
   "execution_count": 10,
   "metadata": {},
   "outputs": [
    {
     "data": {
      "text/plain": [
       "array(['अंगतीपंगती', 'अंगुली', 'अंजली', 'अंधाऱ्या', 'अंबारी', 'अंबोशी',\n",
       "       'अंबोळी', 'अकसा', 'अख्ख्या', 'अग्यारी', 'अठळी', 'अडत्या',\n",
       "       'अडमड्या', 'अडी', 'अडीचकी', 'अडेलतट्टू', 'अणी', 'अणेली', 'अतृप्ती',\n",
       "       'अधल्या', 'अधुऱ्या', 'अपन्हुती', 'अपुऱ्या', 'अफिमे', 'अलीकडच्या',\n",
       "       'अलीकडल्या', 'अवघ्या', 'अश्रफी', 'असल्या', 'अशा', 'अशातशा',\n",
       "       'अस्तनी', 'अस्तुरी', 'आगलावी', 'आगळ्या', 'आगळ्यावेगळ्या',\n",
       "       'आग्यापिछ्या', 'आगाशी', 'आगीमाशी', 'आघाडीपिछाडी', 'आटापिटी', 'आठी',\n",
       "       'आडगल्ली', 'आडगिऱ्हाइकी', 'आणे', 'आरशी', 'आरी', 'आलीगेली',\n",
       "       'आळीपाळी', 'इकडल्या', 'इकडली', 'इटुकल्या-मिटुकल्या', 'इतक्या',\n",
       "       'इतक्यातितक्या', 'इतक्याशा', 'इवल्या', 'इळ्याखिळ्या', 'इक्ष्वाकू',\n",
       "       'उंचेली', 'उघडी', 'उघडीबागडी', 'उघडीबाघडी', 'उघडीबोडकी',\n",
       "       'उघडीवाघडी', 'उजखुरी', 'उजळाई', 'उट्ट्या', 'उडी', 'उण्या',\n",
       "       'उण्यापुऱ्या', 'उताण्यापाताण्या', 'उदकाडी', 'उधळी', 'उपटणी',\n",
       "       'उपडी', 'उसपणी', 'एकीकडच्या', 'एकोक्ती', 'ओकऱ्या', 'ओक्या',\n",
       "       'ओक्याबोक्या', 'ओझेकरी', 'ओल्या', 'ओलीसुकी', 'ओलेत्या',\n",
       "       'कंकणाकृती', 'कंगोरी', 'कंठी', 'कच्च्या', 'कच्च्यापक्क्या', 'कपची',\n",
       "       'करंडी', 'कर्ती', 'कलत्या', 'कल्याणकारी', 'कवठी', 'कसकसल्या',\n",
       "       'कसल्या', 'कशातरी', 'काखमांजरी', 'खाकमांजरी', 'काखोटी', 'काचोळी',\n",
       "       'कानोशा', 'कापऱ्या', 'काबू', 'कायशा', 'कावऱ्या', 'कावऱ्याबावऱ्या',\n",
       "       'कावळी', 'काळजीवाहू', 'काळ्यागोऱ्या', 'काळ्यानिळ्या',\n",
       "       'काळ्यासावळ्या', 'काळ्याबेऱ्या', 'कितक्या', 'कितव्या', 'कितवी',\n",
       "       'कितीशा', 'किरकिऱ्या', 'किरकिरी', 'किरट्या', 'किसगणती', 'खिसगणती',\n",
       "       'कुइरी', 'कुइली', 'कुंटणकी', 'कुकुल्या', 'कुचक्या', 'कुजक्या',\n",
       "       'कुजक्यानासक्या', 'कुठच्या', 'कुठल्या', 'कुढी', 'कुरळ्या',\n",
       "       'केवढ्या', 'केवढाल्या', 'कोंडणी', 'कोरणी', 'कोलांटी', 'कोल्हांटी',\n",
       "       'कोल्हाटी', 'कोल्ही', 'खंजिरी', 'खंद्या', 'खजुरी', 'खट्याळकी',\n",
       "       'खडशी', 'खबदडी', 'खबदाडी', 'खरपुडी', 'खाई', 'खांडेनवमी', 'खांबली',\n",
       "       'खाजगी', 'खाजरी', 'खायखाई', 'खाऱ्या', 'खारोटी', 'खालच्या', 'खाशा',\n",
       "       'खिंकाळी', 'खिटी', 'खिट्टी', 'खिलाडू', 'खुज्या', 'खुरट्या',\n",
       "       'खुलत्या', 'खुशालटेकडी', 'खुश्की', 'खुशकी', 'खुसपटी', 'खूशमस्करी',\n",
       "       'खेळत्या', 'खेळत्यारांगत्या', 'खेळीमेळी', 'खोजा', 'खोट्यानाट्या',\n",
       "       'खोटारडी', 'खोडी', 'खोडाळी', 'खोतकी', 'खोदाई', 'खोपटी', 'खोबणी',\n",
       "       'खोवणी', 'ख्याती', 'गच्छंती', 'गट्टी', 'गठडी', 'गडणी', 'गडबड्या',\n",
       "       'गड्डी', 'गण्या', 'गतवर्षी', 'गतसाली', 'गप्पाटप्पा', 'गबरू',\n",
       "       'गबाळग्रंथी', 'गल्लोगल्ली', 'गव्हाळ्या', 'गहिऱ्या', 'गळक्या',\n",
       "       'गळचेपी', 'गळणी', 'गाजावाजा', 'गात्या', 'गारठलेल्या', 'गारशा',\n",
       "       'गाली', 'गाशे', 'गिणगिण्या', 'गिनी', 'गिरकी', 'गिरदी', 'गिरी',\n",
       "       'गिऱ्हाइकी', 'गुंताडी', 'गुंफणी', 'गुडघी', 'गुडदी', 'गुड्डू',\n",
       "       'गुणवती', 'गुण्या', 'गुमास्तेगिरी', 'गुरकावणी', 'गुरक्या',\n",
       "       'गुलकाडी', 'गुलकावणी', 'गुलछडी', 'गुळणी', 'गुळवण्या', 'गृहस्थी',\n",
       "       'गेंगाण्या', 'गैबती', 'गोकर्णी', 'गोजिरवाण्या', 'गोजिऱ्या', 'गोठी',\n",
       "       'गोडघाश्या', 'गोडशा', 'गोड्या', 'गोडीगुलाबी', 'गोणती', 'गोदी',\n",
       "       'गोबऱ्या', 'गोमट्या', 'गोमाजी', 'गोमाशी', 'गोमुखी', 'गोरट्या',\n",
       "       'गोरटेल्या', 'गोऱ्या', 'गोऱ्यागोमट्या', 'गोऱ्यापान',\n",
       "       'गोऱ्यामोऱ्या', 'गोवंडी', 'गोवरी', 'गोवारी', 'ग्रंथोपजीवी', 'घडाई',\n",
       "       'घसरड्या', 'घाई', 'घाटी', 'घाणेरी', 'घाबऱ्या', 'घाबऱ्याघुबऱ्या',\n",
       "       'घामाघुमी', 'घामोळी', 'घायकुत्या', 'घासणी', 'घिरटी', 'घुगरी',\n",
       "       'घुमटी', 'घुम्या', 'घुशी', 'घुसाघुशी', 'घेरी', 'घोगऱ्या',\n",
       "       'घोटाळणी', 'घोडतोंड्या', 'चंचू', 'चंडी', 'चंद्रमा', 'चंद्रमुखी',\n",
       "       'चंद्रमौळी', 'चंपी', 'चंपू', 'चंबू', 'चंबूगवाळ्या', 'चकणी', 'चकली',\n",
       "       'चकल्या', 'चकाकी', 'चकाचकी', 'चक्रवर्तिनी', 'चक्रवाकी',\n",
       "       'चक्रावर्ती', 'चक्री', 'चढत्या', 'चढल्या', 'चढ्या', 'चढाई',\n",
       "       'चतुर्थी', 'चपट्या', 'चमकी', 'चरबी', 'चरवी', 'चराई', 'चरी', 'चर्र',\n",
       "       'चवरी', 'चवली', 'चवळी', 'चहाडी', 'चहात्या', 'चहूकडल्या', 'चळवळ्या',\n",
       "       'चाऊ', 'चांगाभांगा', 'चांगल्या', 'चांगल्याचुंगल्या', 'चांदणी',\n",
       "       'चांदुकली', 'चाचरी', 'चाचऱ्या', 'चाचेगिरी', 'चाती',\n",
       "       'चातुर्मास्यारंभ', 'चानी', 'चापटपोळी', 'चापलुसी', 'चाफेकळी',\n",
       "       'चारशे', 'चारशेव्या', 'चारापाण्या', 'चारोळी', 'चालत्या',\n",
       "       'चालत्याबोलत्या', 'चावटी', 'चावडी', 'चावऱ्या', 'चिऊ', 'चिंचोळ्या',\n",
       "       'चिंधडी', 'चिंधुकली', 'चिंधोटी', 'चिकट्या', 'चिकी', 'चिक्की',\n",
       "       'चिचुंदरी', 'चिच्छक्ती', 'चित्शक्ती', 'चिटुकला', 'चिठ्ठीचपाटी',\n",
       "       'चिडक्या', 'चिडचिड्या', 'चिती', 'चित्रलिपी', 'चित्राहुती',\n",
       "       'चित्शक्ती', 'चित्छक्ती', 'चिद्वादी', 'चिमुकल्या', 'चिमुकली',\n",
       "       'चिरक्या', 'चिरकी', 'चिरणी', 'चिरफळी', 'चिरेबंदी', 'चिलीपिली',\n",
       "       'चिल्लीपिल्ली', 'चिळकांडी', 'चीकवडी', 'चीजवस्तू', 'चिडे', 'चिळे',\n",
       "       'चुंफणी', 'चुकत्या', 'चुकती', 'चुकल्या', 'चुकल्यामाकल्या', 'चुगली',\n",
       "       'चुगलीचहाडी', 'चुणी', 'चुळबुळ्या', 'चुळके', 'चेटक्या', 'चेपा',\n",
       "       'चेपणी', 'चेरी', 'चेहरेपट्टी', 'चेहेरेपट्टी', 'चोंबड्या', 'चोखणी',\n",
       "       'चोखामेळ्या', 'चोथापाण्या', 'चोपडी', 'चोपणी', 'चोरट्या',\n",
       "       'चोरीमोरी', 'चोरीलबाडी', 'चौथ्या', 'चौपदी', 'चौफुली',\n",
       "       'चौऱ्याऐंशीव्या', 'चौसोपी', 'छत्तिशी', 'छत्तिसाव्या', 'छबकड्या',\n",
       "       'छबकडी', 'छबड्या', 'छबडी', 'छापणी', 'छापापाण्या', 'छिन्नी',\n",
       "       'छुप्या', 'छोट्या', 'छोटी', 'छोट्यामोठ्या', 'जंत्री', 'जडी',\n",
       "       'जडीबुट्टी', 'जनी', 'जबऱ्या', 'जमातदारी', 'जमादारी', 'जलधी',\n",
       "       'जवानी', 'जसल्या', 'जशा', 'जशातशा', 'जशीतशी', 'जळक्या', 'जाई',\n",
       "       'जांभळ्या', 'जागत्या', 'जागले', 'जाग्या', 'जाडगेल्या',\n",
       "       'जाडगेल्याशा', 'जाड्या', 'जाड्याजुड्या', 'जाड्याभरड्या', 'जाडी',\n",
       "       'जाणत्या', 'जातभाई', 'जानू', 'जान्हवी', 'जाह्नवी', 'जामदारी',\n",
       "       'जामीनकी', 'जायपत्री', 'जावळ्या', 'जावळ्यारावळ्या', 'जाहिरातबंदी',\n",
       "       'जाहिरातबाजी', 'जाळणी', 'जाळी', 'जिकडच्या', 'जिकडल्या', 'जितक्या',\n",
       "       'जितकाल्या', 'जितकाव्या', 'जितक्याशा', 'जित्या', 'जिथच्या',\n",
       "       'जिथल्या', 'जिभली', 'जिवणी', 'ज्या', 'जीवघेण्या', 'जीवितहानी',\n",
       "       'जुंपणी', 'जुपणी', 'जुन्यापुराण्या', 'जुलै', 'जुळवणी', 'जेथल्या',\n",
       "       'जेवढ्या', 'जेवढाल्या', 'जैशा', 'जोगत्या', 'झरणी', 'झांजरी',\n",
       "       'झाकणी', 'झाकी', 'झाडणी', 'झाडी', 'झिंजी', 'झिंझी', 'झिंजोटी',\n",
       "       'झिंझोटी', 'झिडकारणी', 'झिणझिणी', 'झिपरी', 'झिरमिरी', 'झिरमिळी',\n",
       "       'झिळमिळी', 'झुकत्या', 'झुकांडी', 'झोकांडी', 'झुरणी', 'झुलकावणी',\n",
       "       'झुलणी', 'झुलत्या', 'झुलवाझुलवी', 'झेलणी', 'झोंबऱ्या', 'झोंबी',\n",
       "       'झोटिंगपातशाही', 'झोटिंगपादशाही', 'झोटिंगशाही', 'टकमकी', 'टणकाई',\n",
       "       'टपोऱ्या', 'टरकी', 'टवळे', 'टवाळकी', 'टहाळी', 'टांगत्या', 'टिर्री',\n",
       "       'टिवलीबावली', 'टुकणी', 'टुचकुली', 'टेंबी', 'टेंभी', 'टोकरी',\n",
       "       'टोचणी', 'टोणगी', 'ट्रामगाडी', 'ठकव्या', 'ठकाठकी', 'ठकी', 'ठासणी',\n",
       "       'ठिकरी', 'ठिणगी', 'ठुंबरी', 'ठुमरी', 'ठुशी', 'ठेंगण्या',\n",
       "       'ठेंगण्याठुसक्या', 'ठेकेदारी', 'ठोकणी', 'डगमगत्या', 'डफरी', 'डफडी',\n",
       "       'डरकाळी', 'डरावणी', 'डागणी', 'डायनामो', 'डावखोऱ्या',\n",
       "       'डाव्याउजव्या', 'डिंगरी', 'डिकऱ्या', 'डुकरी', 'डुक्करमुसंडी',\n",
       "       'डुबकी', 'डुरकणी', 'डुरकावणी', 'डुलत्या', 'डोई', 'डोंगरी',\n",
       "       'डोलकाठी', 'डोली', 'ढकली', 'ढगाळलेल्या', 'ढबुल्या', 'ढमढेऱ्या',\n",
       "       'ढमाल्या', 'ढळत्या', 'ढाण्या', 'ढासणी', 'ढिल्या', 'ढुमणी', 'ढुशी',\n",
       "       'ढुसकणी', 'ढुसकी', 'ढुसणी', 'ढेकळी', 'ढेकुळी', 'ढेरपोट्या', 'ढेरी',\n",
       "       'ढोण्या', 'ढोलकी', 'ढोली', 'ढोसणी', 'तंगड्या', 'तंबी', 'तंबोरी',\n",
       "       'तख्तपोशी', 'तगड्या', 'तटबंदी', 'तटिनी', 'तट्टाणी', 'तडतड्या',\n",
       "       'तडसणी', 'तन्मणी', 'तन्वंगी', 'तरण्या', 'तरण्याताठ्या',\n",
       "       'तरण्याबांड', 'तरत्या', 'तरत्याबुडत्या', 'तरू', 'तर्कू', 'तर्जनी',\n",
       "       'तसल्या', 'तसल्याशा', 'तशा', 'तसू', 'तहसीलदारी', 'तहानेल्या',\n",
       "       'तहानलेल्या', 'तळणी', 'तांबडया', 'ताकड्यातुकड्या', 'ताज्या',\n",
       "       'तातोबा', 'तात्पुरत्या', 'तालू', 'तासणी', 'तिकडच्या', 'तिकडल्या',\n",
       "       'तिढी', 'तितक्या', 'तितक्याल्या', 'तितक्याव्या', 'तितक्याशा',\n",
       "       'तितुक्या', 'तिथल्या', 'तिरक्या', 'तिरपगड्या', 'तिरप्या',\n",
       "       'तिरमिरी', 'तिरिमिरी', 'तिरळी', 'तिसड्या', 'तिसऱ्या', 'तीनशेव्या',\n",
       "       'तीर्थावळी', 'तुंबडी', 'तुटक्या', 'तुटक्याफुटक्या', 'तुटी', 'तुती',\n",
       "       'तुरटी', 'तेढ्या', 'तेरा', 'तोंडली', 'तोंडल्या', 'त्रिमूर्ती',\n",
       "       'त्र्याऐंशीव्या', 'थंड्या', 'थंडी', 'थंडाई', 'थापटी', 'थापडी',\n",
       "       'थापाडी', 'थापी', 'थिट्या', 'थोट्या', 'थोटी', 'थोडक्या', 'थोड्या',\n",
       "       'थोडी', 'थोड्याथोडक्या', 'दंडादंडी', 'दंताळ्या', 'दगडी', 'दबक्या',\n",
       "       'दर्दी', 'दश्शी', 'दस्तुरी', 'दहेल्ली', 'दांडग्या', 'दाणी',\n",
       "       'दात्री', 'दायजी', 'दिपवाळी', 'दिमडी', 'दिवान्या', 'दुकट्या',\n",
       "       'दुखऱ्या', 'दुगाणी', 'दुजा', 'दुण्या', 'दुबळी', 'दुरडी',\n",
       "       'दुर्मुखल्या', 'दुर्मुखलेल्या', 'दुर्वृत्ती', 'दुलई', 'दुसरी',\n",
       "       'दूती', 'दूधखुळ्या', 'दूधपित्या', 'देखण्या', 'देवभोळी', 'देवळी',\n",
       "       'दोडकी', 'दोनशेव्या', 'द्रष्ट्या', 'द्विरुक्ती', 'द्वेष्ट्या',\n",
       "       'धक्काबुक्की', 'धट्ट्याकट्ट्या', 'धडक्या', 'धडपड्या', 'धडशा',\n",
       "       'धनगरकी', 'धनत्रयोदशी', 'धनदांडग्या', 'धनार्थ्या', 'धनुकली',\n",
       "       'धनुर्धारी', 'धनू', 'धमणी', 'धमनी'], dtype=object)"
      ]
     },
     "execution_count": 10,
     "metadata": {},
     "output_type": "execute_result"
    },
    {
     "data": {
      "application/javascript": [
       "\n",
       "            setTimeout(function() {\n",
       "                var nbb_cell_id = 10;\n",
       "                var nbb_unformatted_code = \"df[df[\\\"tag\\\"] == \\\"acd\\\"].word.values\";\n",
       "                var nbb_formatted_code = \"df[df[\\\"tag\\\"] == \\\"acd\\\"].word.values\";\n",
       "                var nbb_cells = Jupyter.notebook.get_cells();\n",
       "                for (var i = 0; i < nbb_cells.length; ++i) {\n",
       "                    if (nbb_cells[i].input_prompt_number == nbb_cell_id) {\n",
       "                        if (nbb_cells[i].get_text() == nbb_unformatted_code) {\n",
       "                             nbb_cells[i].set_text(nbb_formatted_code);\n",
       "                        }\n",
       "                        break;\n",
       "                    }\n",
       "                }\n",
       "            }, 500);\n",
       "            "
      ],
      "text/plain": [
       "<IPython.core.display.Javascript object>"
      ]
     },
     "metadata": {},
     "output_type": "display_data"
    }
   ],
   "source": [
    "df[df[\"tag\"] == \"acd\"].word.values"
   ]
  },
  {
   "cell_type": "code",
   "execution_count": null,
   "metadata": {},
   "outputs": [],
   "source": []
  },
  {
   "cell_type": "code",
   "execution_count": 11,
   "metadata": {},
   "outputs": [
    {
     "data": {
      "text/html": [
       "<div>\n",
       "<style scoped>\n",
       "    .dataframe tbody tr th:only-of-type {\n",
       "        vertical-align: middle;\n",
       "    }\n",
       "\n",
       "    .dataframe tbody tr th {\n",
       "        vertical-align: top;\n",
       "    }\n",
       "\n",
       "    .dataframe thead th {\n",
       "        text-align: right;\n",
       "    }\n",
       "</style>\n",
       "<table border=\"1\" class=\"dataframe\">\n",
       "  <thead>\n",
       "    <tr style=\"text-align: right;\">\n",
       "      <th></th>\n",
       "      <th>word</th>\n",
       "      <th>tag</th>\n",
       "    </tr>\n",
       "  </thead>\n",
       "  <tbody>\n",
       "    <tr>\n",
       "      <th>1162</th>\n",
       "      <td>अलुबुखार</td>\n",
       "      <td>acf</td>\n",
       "    </tr>\n",
       "    <tr>\n",
       "      <th>1163</th>\n",
       "      <td>आलुबुखार</td>\n",
       "      <td>acf</td>\n",
       "    </tr>\n",
       "    <tr>\n",
       "      <th>1654</th>\n",
       "      <td>आजोळ</td>\n",
       "      <td>acf</td>\n",
       "    </tr>\n",
       "    <tr>\n",
       "      <th>1665</th>\n",
       "      <td>आठ</td>\n",
       "      <td>acf</td>\n",
       "    </tr>\n",
       "    <tr>\n",
       "      <th>3339</th>\n",
       "      <td>एकर</td>\n",
       "      <td>acf</td>\n",
       "    </tr>\n",
       "    <tr>\n",
       "      <th>3364</th>\n",
       "      <td>एकसष्ट</td>\n",
       "      <td>acf</td>\n",
       "    </tr>\n",
       "    <tr>\n",
       "      <th>3393</th>\n",
       "      <td>एकावन्न</td>\n",
       "      <td>acf</td>\n",
       "    </tr>\n",
       "    <tr>\n",
       "      <th>3394</th>\n",
       "      <td>एकावन</td>\n",
       "      <td>acf</td>\n",
       "    </tr>\n",
       "    <tr>\n",
       "      <th>3395</th>\n",
       "      <td>एकाहत्तर</td>\n",
       "      <td>acf</td>\n",
       "    </tr>\n",
       "    <tr>\n",
       "      <th>3396</th>\n",
       "      <td>एकाक्ष</td>\n",
       "      <td>acf</td>\n",
       "    </tr>\n",
       "    <tr>\n",
       "      <th>3447</th>\n",
       "      <td>एक्याण्णव</td>\n",
       "      <td>acf</td>\n",
       "    </tr>\n",
       "    <tr>\n",
       "      <th>3744</th>\n",
       "      <td>कंपास</td>\n",
       "      <td>acf</td>\n",
       "    </tr>\n",
       "    <tr>\n",
       "      <th>4997</th>\n",
       "      <td>किलोग्रॅम</td>\n",
       "      <td>acf</td>\n",
       "    </tr>\n",
       "    <tr>\n",
       "      <th>4998</th>\n",
       "      <td>किलोमीटर</td>\n",
       "      <td>acf</td>\n",
       "    </tr>\n",
       "    <tr>\n",
       "      <th>4999</th>\n",
       "      <td>किलोलीटर</td>\n",
       "      <td>acf</td>\n",
       "    </tr>\n",
       "    <tr>\n",
       "      <th>6995</th>\n",
       "      <td>गॅलन</td>\n",
       "      <td>acf</td>\n",
       "    </tr>\n",
       "    <tr>\n",
       "      <th>7798</th>\n",
       "      <td>ग्रॅम</td>\n",
       "      <td>acf</td>\n",
       "    </tr>\n",
       "    <tr>\n",
       "      <th>8727</th>\n",
       "      <td>चार</td>\n",
       "      <td>acf</td>\n",
       "    </tr>\n",
       "    <tr>\n",
       "      <th>9472</th>\n",
       "      <td>चौपन्न</td>\n",
       "      <td>acf</td>\n",
       "    </tr>\n",
       "    <tr>\n",
       "      <th>9558</th>\n",
       "      <td>छपन्न</td>\n",
       "      <td>acf</td>\n",
       "    </tr>\n",
       "    <tr>\n",
       "      <th>9559</th>\n",
       "      <td>छप्पन</td>\n",
       "      <td>acf</td>\n",
       "    </tr>\n",
       "    <tr>\n",
       "      <th>11684</th>\n",
       "      <td>डीझेल</td>\n",
       "      <td>acf</td>\n",
       "    </tr>\n",
       "    <tr>\n",
       "      <th>13154</th>\n",
       "      <td>त्र्याण्णव</td>\n",
       "      <td>acf</td>\n",
       "    </tr>\n",
       "    <tr>\n",
       "      <th>13155</th>\n",
       "      <td>त्र्याहत्तर</td>\n",
       "      <td>acf</td>\n",
       "    </tr>\n",
       "    <tr>\n",
       "      <th>13445</th>\n",
       "      <td>दरबार</td>\n",
       "      <td>acf</td>\n",
       "    </tr>\n",
       "    <tr>\n",
       "      <th>13673</th>\n",
       "      <td>दार</td>\n",
       "      <td>acf</td>\n",
       "    </tr>\n",
       "    <tr>\n",
       "      <th>14334</th>\n",
       "      <td>दोन</td>\n",
       "      <td>acf</td>\n",
       "    </tr>\n",
       "  </tbody>\n",
       "</table>\n",
       "</div>"
      ],
      "text/plain": [
       "              word  tag\n",
       "1162      अलुबुखार  acf\n",
       "1163      आलुबुखार  acf\n",
       "1654          आजोळ  acf\n",
       "1665            आठ  acf\n",
       "3339           एकर  acf\n",
       "3364        एकसष्ट  acf\n",
       "3393       एकावन्न  acf\n",
       "3394         एकावन  acf\n",
       "3395      एकाहत्तर  acf\n",
       "3396        एकाक्ष  acf\n",
       "3447     एक्याण्णव  acf\n",
       "3744         कंपास  acf\n",
       "4997     किलोग्रॅम  acf\n",
       "4998      किलोमीटर  acf\n",
       "4999      किलोलीटर  acf\n",
       "6995          गॅलन  acf\n",
       "7798         ग्रॅम  acf\n",
       "8727           चार  acf\n",
       "9472        चौपन्न  acf\n",
       "9558         छपन्न  acf\n",
       "9559         छप्पन  acf\n",
       "11684        डीझेल  acf\n",
       "13154   त्र्याण्णव  acf\n",
       "13155  त्र्याहत्तर  acf\n",
       "13445        दरबार  acf\n",
       "13673          दार  acf\n",
       "14334          दोन  acf"
      ]
     },
     "execution_count": 11,
     "metadata": {},
     "output_type": "execute_result"
    },
    {
     "data": {
      "application/javascript": [
       "\n",
       "            setTimeout(function() {\n",
       "                var nbb_cell_id = 11;\n",
       "                var nbb_unformatted_code = \"df[df[\\\"tag\\\"] == \\\"acf\\\"]\";\n",
       "                var nbb_formatted_code = \"df[df[\\\"tag\\\"] == \\\"acf\\\"]\";\n",
       "                var nbb_cells = Jupyter.notebook.get_cells();\n",
       "                for (var i = 0; i < nbb_cells.length; ++i) {\n",
       "                    if (nbb_cells[i].input_prompt_number == nbb_cell_id) {\n",
       "                        if (nbb_cells[i].get_text() == nbb_unformatted_code) {\n",
       "                             nbb_cells[i].set_text(nbb_formatted_code);\n",
       "                        }\n",
       "                        break;\n",
       "                    }\n",
       "                }\n",
       "            }, 500);\n",
       "            "
      ],
      "text/plain": [
       "<IPython.core.display.Javascript object>"
      ]
     },
     "metadata": {},
     "output_type": "display_data"
    }
   ],
   "source": [
    "df[df[\"tag\"] == \"acf\"]"
   ]
  },
  {
   "cell_type": "code",
   "execution_count": null,
   "metadata": {},
   "outputs": [],
   "source": []
  },
  {
   "cell_type": "code",
   "execution_count": 12,
   "metadata": {},
   "outputs": [
    {
     "data": {
      "text/html": [
       "<div>\n",
       "<style scoped>\n",
       "    .dataframe tbody tr th:only-of-type {\n",
       "        vertical-align: middle;\n",
       "    }\n",
       "\n",
       "    .dataframe tbody tr th {\n",
       "        vertical-align: top;\n",
       "    }\n",
       "\n",
       "    .dataframe thead th {\n",
       "        text-align: right;\n",
       "    }\n",
       "</style>\n",
       "<table border=\"1\" class=\"dataframe\">\n",
       "  <thead>\n",
       "    <tr style=\"text-align: right;\">\n",
       "      <th></th>\n",
       "      <th>word</th>\n",
       "      <th>tag</th>\n",
       "    </tr>\n",
       "  </thead>\n",
       "  <tbody>\n",
       "    <tr>\n",
       "      <th>135</th>\n",
       "      <td>अंत्येष्ट्या</td>\n",
       "      <td>bcd</td>\n",
       "    </tr>\n",
       "    <tr>\n",
       "      <th>2475</th>\n",
       "      <td>उक्त्या</td>\n",
       "      <td>bcd</td>\n",
       "    </tr>\n",
       "    <tr>\n",
       "      <th>2629</th>\n",
       "      <td>उड्या</td>\n",
       "      <td>bcd</td>\n",
       "    </tr>\n",
       "    <tr>\n",
       "      <th>6566</th>\n",
       "      <td>खोतक्या</td>\n",
       "      <td>bcd</td>\n",
       "    </tr>\n",
       "    <tr>\n",
       "      <th>10212</th>\n",
       "      <td>जायपत्र्या</td>\n",
       "      <td>bcd</td>\n",
       "    </tr>\n",
       "  </tbody>\n",
       "</table>\n",
       "</div>"
      ],
      "text/plain": [
       "               word  tag\n",
       "135    अंत्येष्ट्या  bcd\n",
       "2475        उक्त्या  bcd\n",
       "2629          उड्या  bcd\n",
       "6566        खोतक्या  bcd\n",
       "10212    जायपत्र्या  bcd"
      ]
     },
     "execution_count": 12,
     "metadata": {},
     "output_type": "execute_result"
    },
    {
     "data": {
      "application/javascript": [
       "\n",
       "            setTimeout(function() {\n",
       "                var nbb_cell_id = 12;\n",
       "                var nbb_unformatted_code = \"df[df[\\\"tag\\\"] == \\\"bcd\\\"]\";\n",
       "                var nbb_formatted_code = \"df[df[\\\"tag\\\"] == \\\"bcd\\\"]\";\n",
       "                var nbb_cells = Jupyter.notebook.get_cells();\n",
       "                for (var i = 0; i < nbb_cells.length; ++i) {\n",
       "                    if (nbb_cells[i].input_prompt_number == nbb_cell_id) {\n",
       "                        if (nbb_cells[i].get_text() == nbb_unformatted_code) {\n",
       "                             nbb_cells[i].set_text(nbb_formatted_code);\n",
       "                        }\n",
       "                        break;\n",
       "                    }\n",
       "                }\n",
       "            }, 500);\n",
       "            "
      ],
      "text/plain": [
       "<IPython.core.display.Javascript object>"
      ]
     },
     "metadata": {},
     "output_type": "display_data"
    }
   ],
   "source": [
    "df[df[\"tag\"] == \"bcd\"]"
   ]
  },
  {
   "cell_type": "code",
   "execution_count": 13,
   "metadata": {},
   "outputs": [
    {
     "data": {
      "text/html": [
       "<div>\n",
       "<style scoped>\n",
       "    .dataframe tbody tr th:only-of-type {\n",
       "        vertical-align: middle;\n",
       "    }\n",
       "\n",
       "    .dataframe tbody tr th {\n",
       "        vertical-align: top;\n",
       "    }\n",
       "\n",
       "    .dataframe thead th {\n",
       "        text-align: right;\n",
       "    }\n",
       "</style>\n",
       "<table border=\"1\" class=\"dataframe\">\n",
       "  <thead>\n",
       "    <tr style=\"text-align: right;\">\n",
       "      <th></th>\n",
       "      <th>word</th>\n",
       "      <th>tag</th>\n",
       "    </tr>\n",
       "  </thead>\n",
       "  <tbody>\n",
       "    <tr>\n",
       "      <th>35</th>\n",
       "      <td>अंगतीपंगतीं</td>\n",
       "      <td>Fbcd</td>\n",
       "    </tr>\n",
       "    <tr>\n",
       "      <th>49</th>\n",
       "      <td>अंगाऱ्या</td>\n",
       "      <td>AFacdh</td>\n",
       "    </tr>\n",
       "    <tr>\n",
       "      <th>52</th>\n",
       "      <td>अंगाऱ्याधुपाऱ्या</td>\n",
       "      <td>AFacdh</td>\n",
       "    </tr>\n",
       "    <tr>\n",
       "      <th>76</th>\n",
       "      <td>अंड्यापिल्लां</td>\n",
       "      <td>Fbcd</td>\n",
       "    </tr>\n",
       "    <tr>\n",
       "      <th>139</th>\n",
       "      <td>अंथरुण</td>\n",
       "      <td>Ff</td>\n",
       "    </tr>\n",
       "    <tr>\n",
       "      <th>...</th>\n",
       "      <td>...</td>\n",
       "      <td>...</td>\n",
       "    </tr>\n",
       "    <tr>\n",
       "      <th>14540</th>\n",
       "      <td>धनूं</td>\n",
       "      <td>Fbcd</td>\n",
       "    </tr>\n",
       "    <tr>\n",
       "      <th>14557</th>\n",
       "      <td>धमके</td>\n",
       "      <td>Facd</td>\n",
       "    </tr>\n",
       "    <tr>\n",
       "      <th>14560</th>\n",
       "      <td>धमकावण्यां</td>\n",
       "      <td>Fbcd</td>\n",
       "    </tr>\n",
       "    <tr>\n",
       "      <th>14565</th>\n",
       "      <td>धमण्यां</td>\n",
       "      <td>Fbcd</td>\n",
       "    </tr>\n",
       "    <tr>\n",
       "      <th>14568</th>\n",
       "      <td>धमन्यां</td>\n",
       "      <td>Fbcd</td>\n",
       "    </tr>\n",
       "  </tbody>\n",
       "</table>\n",
       "<p>917 rows × 2 columns</p>\n",
       "</div>"
      ],
      "text/plain": [
       "                   word     tag\n",
       "35          अंगतीपंगतीं    Fbcd\n",
       "49             अंगाऱ्या  AFacdh\n",
       "52     अंगाऱ्याधुपाऱ्या  AFacdh\n",
       "76        अंड्यापिल्लां    Fbcd\n",
       "139              अंथरुण      Ff\n",
       "...                 ...     ...\n",
       "14540              धनूं    Fbcd\n",
       "14557              धमके    Facd\n",
       "14560        धमकावण्यां    Fbcd\n",
       "14565           धमण्यां    Fbcd\n",
       "14568           धमन्यां    Fbcd\n",
       "\n",
       "[917 rows x 2 columns]"
      ]
     },
     "execution_count": 13,
     "metadata": {},
     "output_type": "execute_result"
    },
    {
     "data": {
      "application/javascript": [
       "\n",
       "            setTimeout(function() {\n",
       "                var nbb_cell_id = 13;\n",
       "                var nbb_unformatted_code = \"df[df.tag.str.contains(\\\"F\\\", na=False)]\";\n",
       "                var nbb_formatted_code = \"df[df.tag.str.contains(\\\"F\\\", na=False)]\";\n",
       "                var nbb_cells = Jupyter.notebook.get_cells();\n",
       "                for (var i = 0; i < nbb_cells.length; ++i) {\n",
       "                    if (nbb_cells[i].input_prompt_number == nbb_cell_id) {\n",
       "                        if (nbb_cells[i].get_text() == nbb_unformatted_code) {\n",
       "                             nbb_cells[i].set_text(nbb_formatted_code);\n",
       "                        }\n",
       "                        break;\n",
       "                    }\n",
       "                }\n",
       "            }, 500);\n",
       "            "
      ],
      "text/plain": [
       "<IPython.core.display.Javascript object>"
      ]
     },
     "metadata": {},
     "output_type": "display_data"
    }
   ],
   "source": [
    "df[df.tag.str.contains(\"F\", na=False)]"
   ]
  },
  {
   "cell_type": "code",
   "execution_count": 14,
   "metadata": {},
   "outputs": [
    {
     "data": {
      "text/plain": [
       "array([['f', 1648],\n",
       "       ['acd', 719],\n",
       "       ['Aacd', 697],\n",
       "       ['e', 667],\n",
       "       ['k', 591],\n",
       "       ['h', 467],\n",
       "       ['Fbcd', 393],\n",
       "       ['Aacdh', 297],\n",
       "       ['hj', 274],\n",
       "       ['g', 255],\n",
       "       ['l', 239],\n",
       "       ['Ff', 159],\n",
       "       ['Fe', 124],\n",
       "       ['j', 120],\n",
       "       ['w', 85],\n",
       "       ['Fg', 74],\n",
       "       ['s', 64],\n",
       "       ['i', 55],\n",
       "       ['Z', 45],\n",
       "       ['ac', 36],\n",
       "       ['Facd', 36],\n",
       "       ['Aac', 35],\n",
       "       ['Fl', 31],\n",
       "       ['acf', 27],\n",
       "       ['fg', 27],\n",
       "       ['AFacd', 24],\n",
       "       ['acdh', 20],\n",
       "       ['Fk', 17],\n",
       "       ['Fh', 13],\n",
       "       ['Aacq', 13],\n",
       "       ['fw', 10],\n",
       "       ['Aacf', 10],\n",
       "       ['AFacdh', 9],\n",
       "       ['Fi', 9],\n",
       "       ['ehj', 7],\n",
       "       ['Aad', 7],\n",
       "       ['fi', 7],\n",
       "       ['Zc', 6],\n",
       "       ['kw', 6],\n",
       "       ['Aack', 6],\n",
       "       ['kl', 5],\n",
       "       ['Ffg', 5],\n",
       "       ['bcd', 5],\n",
       "       ['Fbc', 4],\n",
       "       ['Aacde', 4],\n",
       "       ['Fs', 4],\n",
       "       ['Facdh', 3],\n",
       "       ['Zw', 3],\n",
       "       ['ack', 3],\n",
       "       ['acdf', 3],\n",
       "       ['bc', 3],\n",
       "       ['acq', 3],\n",
       "       ['Aacdeh', 2],\n",
       "       ['Fac', 2],\n",
       "       ['Fil', 2],\n",
       "       ['acde', 2],\n",
       "       ['eh', 2],\n",
       "       ['AFbcd', 2],\n",
       "       ['Fgi', 2],\n",
       "       ['cf', 2],\n",
       "       ['ik', 1],\n",
       "       ['A', 1],\n",
       "       ['acdk', 1],\n",
       "       ['Abcd', 1],\n",
       "       ['Aacdf', 1],\n",
       "       ['acdhj', 1],\n",
       "       ['d', 1],\n",
       "       ['ach', 1],\n",
       "       ['acklw', 1],\n",
       "       ['Zacd', 1],\n",
       "       ['fl', 1],\n",
       "       ['AFac', 1],\n",
       "       ['acg', 1],\n",
       "       ['Ffi', 1],\n",
       "       ['ज', 1],\n",
       "       ['ikl', 1],\n",
       "       ['Fhj', 1],\n",
       "       ['Aacdhj', 1],\n",
       "       ['gi', 1],\n",
       "       ['gk', 1],\n",
       "       ['il', 1],\n",
       "       ['acds', 1],\n",
       "       ['AFbc', 1],\n",
       "       ['&em', 1],\n",
       "       ['hi', 1],\n",
       "       ['Acd', 1]], dtype=object)"
      ]
     },
     "execution_count": 14,
     "metadata": {},
     "output_type": "execute_result"
    },
    {
     "data": {
      "application/javascript": [
       "\n",
       "            setTimeout(function() {\n",
       "                var nbb_cell_id = 14;\n",
       "                var nbb_unformatted_code = \"df.tag.value_counts().to_frame().reset_index().values\";\n",
       "                var nbb_formatted_code = \"df.tag.value_counts().to_frame().reset_index().values\";\n",
       "                var nbb_cells = Jupyter.notebook.get_cells();\n",
       "                for (var i = 0; i < nbb_cells.length; ++i) {\n",
       "                    if (nbb_cells[i].input_prompt_number == nbb_cell_id) {\n",
       "                        if (nbb_cells[i].get_text() == nbb_unformatted_code) {\n",
       "                             nbb_cells[i].set_text(nbb_formatted_code);\n",
       "                        }\n",
       "                        break;\n",
       "                    }\n",
       "                }\n",
       "            }, 500);\n",
       "            "
      ],
      "text/plain": [
       "<IPython.core.display.Javascript object>"
      ]
     },
     "metadata": {},
     "output_type": "display_data"
    }
   ],
   "source": [
    "df.tag.value_counts().to_frame().reset_index().values"
   ]
  },
  {
   "cell_type": "code",
   "execution_count": 15,
   "metadata": {},
   "outputs": [
    {
     "data": {
      "text/html": [
       "<div>\n",
       "<style scoped>\n",
       "    .dataframe tbody tr th:only-of-type {\n",
       "        vertical-align: middle;\n",
       "    }\n",
       "\n",
       "    .dataframe tbody tr th {\n",
       "        vertical-align: top;\n",
       "    }\n",
       "\n",
       "    .dataframe thead th {\n",
       "        text-align: right;\n",
       "    }\n",
       "</style>\n",
       "<table border=\"1\" class=\"dataframe\">\n",
       "  <thead>\n",
       "    <tr style=\"text-align: right;\">\n",
       "      <th></th>\n",
       "      <th>word</th>\n",
       "      <th>tag</th>\n",
       "    </tr>\n",
       "  </thead>\n",
       "  <tbody>\n",
       "    <tr>\n",
       "      <th>0</th>\n",
       "      <td>अंकी</td>\n",
       "      <td>NaN</td>\n",
       "    </tr>\n",
       "    <tr>\n",
       "      <th>1</th>\n",
       "      <td>अंकगणित</td>\n",
       "      <td>f</td>\n",
       "    </tr>\n",
       "    <tr>\n",
       "      <th>2</th>\n",
       "      <td>अंकगणिते</td>\n",
       "      <td>NaN</td>\n",
       "    </tr>\n",
       "    <tr>\n",
       "      <th>3</th>\n",
       "      <td>अंकगणिती</td>\n",
       "      <td>NaN</td>\n",
       "    </tr>\n",
       "    <tr>\n",
       "      <th>4</th>\n",
       "      <td>अंकन</td>\n",
       "      <td>f</td>\n",
       "    </tr>\n",
       "    <tr>\n",
       "      <th>...</th>\n",
       "      <td>...</td>\n",
       "      <td>...</td>\n",
       "    </tr>\n",
       "    <tr>\n",
       "      <th>14575</th>\n",
       "      <td>धरणी</td>\n",
       "      <td>Aacd</td>\n",
       "    </tr>\n",
       "    <tr>\n",
       "      <th>14576</th>\n",
       "      <td>धरणीकंप</td>\n",
       "      <td>f</td>\n",
       "    </tr>\n",
       "    <tr>\n",
       "      <th>14577</th>\n",
       "      <td>धरती</td>\n",
       "      <td>NaN</td>\n",
       "    </tr>\n",
       "    <tr>\n",
       "      <th>14578</th>\n",
       "      <td>धरपकड</td>\n",
       "      <td>l</td>\n",
       "    </tr>\n",
       "    <tr>\n",
       "      <th>14579</th>\n",
       "      <td>धरबंध</td>\n",
       "      <td>f</td>\n",
       "    </tr>\n",
       "  </tbody>\n",
       "</table>\n",
       "<p>14580 rows × 2 columns</p>\n",
       "</div>"
      ],
      "text/plain": [
       "           word   tag\n",
       "0          अंकी   NaN\n",
       "1       अंकगणित     f\n",
       "2      अंकगणिते   NaN\n",
       "3      अंकगणिती   NaN\n",
       "4          अंकन     f\n",
       "...         ...   ...\n",
       "14575      धरणी  Aacd\n",
       "14576   धरणीकंप     f\n",
       "14577      धरती   NaN\n",
       "14578     धरपकड     l\n",
       "14579     धरबंध     f\n",
       "\n",
       "[14580 rows x 2 columns]"
      ]
     },
     "execution_count": 15,
     "metadata": {},
     "output_type": "execute_result"
    },
    {
     "data": {
      "application/javascript": [
       "\n",
       "            setTimeout(function() {\n",
       "                var nbb_cell_id = 15;\n",
       "                var nbb_unformatted_code = \"df\";\n",
       "                var nbb_formatted_code = \"df\";\n",
       "                var nbb_cells = Jupyter.notebook.get_cells();\n",
       "                for (var i = 0; i < nbb_cells.length; ++i) {\n",
       "                    if (nbb_cells[i].input_prompt_number == nbb_cell_id) {\n",
       "                        if (nbb_cells[i].get_text() == nbb_unformatted_code) {\n",
       "                             nbb_cells[i].set_text(nbb_formatted_code);\n",
       "                        }\n",
       "                        break;\n",
       "                    }\n",
       "                }\n",
       "            }, 500);\n",
       "            "
      ],
      "text/plain": [
       "<IPython.core.display.Javascript object>"
      ]
     },
     "metadata": {},
     "output_type": "display_data"
    }
   ],
   "source": [
    "df"
   ]
  },
  {
   "cell_type": "code",
   "execution_count": 16,
   "metadata": {},
   "outputs": [
    {
     "data": {
      "application/javascript": [
       "\n",
       "            setTimeout(function() {\n",
       "                var nbb_cell_id = 16;\n",
       "                var nbb_unformatted_code = \"ndf = df.groupby(\\\"tag\\\")[\\\"word\\\"].apply(list)\";\n",
       "                var nbb_formatted_code = \"ndf = df.groupby(\\\"tag\\\")[\\\"word\\\"].apply(list)\";\n",
       "                var nbb_cells = Jupyter.notebook.get_cells();\n",
       "                for (var i = 0; i < nbb_cells.length; ++i) {\n",
       "                    if (nbb_cells[i].input_prompt_number == nbb_cell_id) {\n",
       "                        if (nbb_cells[i].get_text() == nbb_unformatted_code) {\n",
       "                             nbb_cells[i].set_text(nbb_formatted_code);\n",
       "                        }\n",
       "                        break;\n",
       "                    }\n",
       "                }\n",
       "            }, 500);\n",
       "            "
      ],
      "text/plain": [
       "<IPython.core.display.Javascript object>"
      ]
     },
     "metadata": {},
     "output_type": "display_data"
    }
   ],
   "source": [
    "ndf = df.groupby(\"tag\")[\"word\"].apply(list)"
   ]
  },
  {
   "cell_type": "code",
   "execution_count": 17,
   "metadata": {},
   "outputs": [
    {
     "data": {
      "text/plain": [
       "tag\n",
       "&em                                                [मंत्री]\n",
       "A                                                  [ज्वलित]\n",
       "AFac                                               [आयोडिन]\n",
       "AFacd     [अंथरुणापांघरुणा, अमला, अकडी, अकले, अग्यापिछ्य...\n",
       "AFacdh    [अंगाऱ्या, अंगाऱ्याधुपाऱ्या, अळवा, आडोशा, आळवा...\n",
       "                                ...                        \n",
       "kw              [अद्भुत, अवलंब, असत्य, असभ्य, असमर्थ, उष्ण]\n",
       "l         [अंदाधुंद, अदब, अब्रूनुकसान, अल्पबचत, अळमटळम, ...\n",
       "s         [अधिकउणा, अमरपट्टा, अर्धकच्चा, अर्धमेला, अर्धव...\n",
       "w         [अखंड, अचूक, अतृप्त, अनियमित, अनिवार्य, अनिश्च...\n",
       "ज                                                [तदात्मता]\n",
       "Name: word, Length: 86, dtype: object"
      ]
     },
     "execution_count": 17,
     "metadata": {},
     "output_type": "execute_result"
    },
    {
     "data": {
      "application/javascript": [
       "\n",
       "            setTimeout(function() {\n",
       "                var nbb_cell_id = 17;\n",
       "                var nbb_unformatted_code = \"ndf\";\n",
       "                var nbb_formatted_code = \"ndf\";\n",
       "                var nbb_cells = Jupyter.notebook.get_cells();\n",
       "                for (var i = 0; i < nbb_cells.length; ++i) {\n",
       "                    if (nbb_cells[i].input_prompt_number == nbb_cell_id) {\n",
       "                        if (nbb_cells[i].get_text() == nbb_unformatted_code) {\n",
       "                             nbb_cells[i].set_text(nbb_formatted_code);\n",
       "                        }\n",
       "                        break;\n",
       "                    }\n",
       "                }\n",
       "            }, 500);\n",
       "            "
      ],
      "text/plain": [
       "<IPython.core.display.Javascript object>"
      ]
     },
     "metadata": {},
     "output_type": "display_data"
    }
   ],
   "source": [
    "ndf"
   ]
  },
  {
   "cell_type": "code",
   "execution_count": 18,
   "metadata": {},
   "outputs": [
    {
     "data": {
      "application/javascript": [
       "\n",
       "            setTimeout(function() {\n",
       "                var nbb_cell_id = 18;\n",
       "                var nbb_unformatted_code = \"ndf1 = df.groupby(\\\"tag\\\")[\\\"word\\\"].apply(np.size)\";\n",
       "                var nbb_formatted_code = \"ndf1 = df.groupby(\\\"tag\\\")[\\\"word\\\"].apply(np.size)\";\n",
       "                var nbb_cells = Jupyter.notebook.get_cells();\n",
       "                for (var i = 0; i < nbb_cells.length; ++i) {\n",
       "                    if (nbb_cells[i].input_prompt_number == nbb_cell_id) {\n",
       "                        if (nbb_cells[i].get_text() == nbb_unformatted_code) {\n",
       "                             nbb_cells[i].set_text(nbb_formatted_code);\n",
       "                        }\n",
       "                        break;\n",
       "                    }\n",
       "                }\n",
       "            }, 500);\n",
       "            "
      ],
      "text/plain": [
       "<IPython.core.display.Javascript object>"
      ]
     },
     "metadata": {},
     "output_type": "display_data"
    }
   ],
   "source": [
    "ndf1 = df.groupby(\"tag\")[\"word\"].apply(np.size)"
   ]
  },
  {
   "cell_type": "code",
   "execution_count": 19,
   "metadata": {},
   "outputs": [
    {
     "data": {
      "text/plain": [
       "tag\n",
       "&em         1\n",
       "A           1\n",
       "AFac        1\n",
       "AFacd      24\n",
       "AFacdh      9\n",
       "         ... \n",
       "kw          6\n",
       "l         239\n",
       "s          64\n",
       "w          85\n",
       "ज           1\n",
       "Name: word, Length: 86, dtype: int64"
      ]
     },
     "execution_count": 19,
     "metadata": {},
     "output_type": "execute_result"
    },
    {
     "data": {
      "application/javascript": [
       "\n",
       "            setTimeout(function() {\n",
       "                var nbb_cell_id = 19;\n",
       "                var nbb_unformatted_code = \"ndf1\";\n",
       "                var nbb_formatted_code = \"ndf1\";\n",
       "                var nbb_cells = Jupyter.notebook.get_cells();\n",
       "                for (var i = 0; i < nbb_cells.length; ++i) {\n",
       "                    if (nbb_cells[i].input_prompt_number == nbb_cell_id) {\n",
       "                        if (nbb_cells[i].get_text() == nbb_unformatted_code) {\n",
       "                             nbb_cells[i].set_text(nbb_formatted_code);\n",
       "                        }\n",
       "                        break;\n",
       "                    }\n",
       "                }\n",
       "            }, 500);\n",
       "            "
      ],
      "text/plain": [
       "<IPython.core.display.Javascript object>"
      ]
     },
     "metadata": {},
     "output_type": "display_data"
    }
   ],
   "source": [
    "ndf1"
   ]
  },
  {
   "cell_type": "code",
   "execution_count": 20,
   "metadata": {},
   "outputs": [
    {
     "data": {
      "application/javascript": [
       "\n",
       "            setTimeout(function() {\n",
       "                var nbb_cell_id = 20;\n",
       "                var nbb_unformatted_code = \"final = ndf1.to_frame().join(ndf, how=\\\"left\\\", lsuffix=\\\"_left\\\", rsuffix=\\\"_right\\\")\";\n",
       "                var nbb_formatted_code = \"final = ndf1.to_frame().join(ndf, how=\\\"left\\\", lsuffix=\\\"_left\\\", rsuffix=\\\"_right\\\")\";\n",
       "                var nbb_cells = Jupyter.notebook.get_cells();\n",
       "                for (var i = 0; i < nbb_cells.length; ++i) {\n",
       "                    if (nbb_cells[i].input_prompt_number == nbb_cell_id) {\n",
       "                        if (nbb_cells[i].get_text() == nbb_unformatted_code) {\n",
       "                             nbb_cells[i].set_text(nbb_formatted_code);\n",
       "                        }\n",
       "                        break;\n",
       "                    }\n",
       "                }\n",
       "            }, 500);\n",
       "            "
      ],
      "text/plain": [
       "<IPython.core.display.Javascript object>"
      ]
     },
     "metadata": {},
     "output_type": "display_data"
    }
   ],
   "source": [
    "final = ndf1.to_frame().join(ndf, how=\"left\", lsuffix=\"_left\", rsuffix=\"_right\")"
   ]
  },
  {
   "cell_type": "code",
   "execution_count": 34,
   "metadata": {},
   "outputs": [
    {
     "data": {
      "application/javascript": [
       "\n",
       "            setTimeout(function() {\n",
       "                var nbb_cell_id = 34;\n",
       "                var nbb_unformatted_code = \"final=final.sort_values('word_left')\";\n",
       "                var nbb_formatted_code = \"final = final.sort_values(\\\"word_left\\\")\";\n",
       "                var nbb_cells = Jupyter.notebook.get_cells();\n",
       "                for (var i = 0; i < nbb_cells.length; ++i) {\n",
       "                    if (nbb_cells[i].input_prompt_number == nbb_cell_id) {\n",
       "                        if (nbb_cells[i].get_text() == nbb_unformatted_code) {\n",
       "                             nbb_cells[i].set_text(nbb_formatted_code);\n",
       "                        }\n",
       "                        break;\n",
       "                    }\n",
       "                }\n",
       "            }, 500);\n",
       "            "
      ],
      "text/plain": [
       "<IPython.core.display.Javascript object>"
      ]
     },
     "metadata": {},
     "output_type": "display_data"
    }
   ],
   "source": [
    "final = final.sort_values(\"word_left\")"
   ]
  },
  {
   "cell_type": "code",
   "execution_count": 35,
   "metadata": {},
   "outputs": [
    {
     "data": {
      "text/plain": [
       "array([['&em', 1, list(['मंत्री'])],\n",
       "       ['Fhj', 1, list(['ट्रामा'])],\n",
       "       ['Zacd', 1, list(['क्रियाशक्ती'])],\n",
       "       ['acdhj', 1, list(['चहा'])],\n",
       "       ['acdk', 1, list(['गोवर्धन'])],\n",
       "       ['acds', 1, list(['छिडकावा'])],\n",
       "       ['acg', 1, list(['दुपार'])],\n",
       "       ['ach', 1, list(['कडा'])],\n",
       "       ['Ffi', 1, list(['कपर्दिक'])],\n",
       "       ['acklw', 1, list(['एक'])],\n",
       "       ['fl', 1, list(['कुसर'])],\n",
       "       ['gi', 1, list(['गर्दन'])],\n",
       "       ['gk', 1, list(['कात'])],\n",
       "       ['hi', 1, list(['गुरुदक्षिणा'])],\n",
       "       ['ik', 1, list(['ओल'])],\n",
       "       ['ikl', 1, list(['झांजर'])],\n",
       "       ['il', 1, list(['झांजरमांजर'])],\n",
       "       ['d', 1, list(['दृष्टोत्पत्ती'])],\n",
       "       ['Acd', 1, list(['चौकशी'])],\n",
       "       ['ज', 1, list(['तदात्मता'])],\n",
       "       ['A', 1, list(['ज्वलित'])],\n",
       "       ['AFac', 1, list(['आयोडिन'])],\n",
       "       ['AFbc', 1, list(['अडुसष्टां'])],\n",
       "       ['Abcd', 1, list(['गिरिजनां'])],\n",
       "       ['Aacdf', 1, list(['गुरुवार'])],\n",
       "       ['Aacdhj', 1, list(['कोकिळा'])],\n",
       "       ['Fac', 2, list(['जुना', 'ति'])],\n",
       "       ['AFbcd', 2, list(['दांडुक्यां', 'दागदागिन्यां'])],\n",
       "       ['eh', 2, list(['गाथा', 'दुभाषी'])],\n",
       "       ['cf', 2, list(['घर', 'तोंड'])],\n",
       "       ['acde', 2, list(['काचा', 'डबडी'])],\n",
       "       ['Fil', 2, list(['चुक', 'चुळ'])],\n",
       "       ['Aacdeh', 2, list(['असामी', 'चपराशी'])],\n",
       "       ['Fgi', 2, list(['इद', 'गुंतवणुक'])],\n",
       "       ['ack', 3, list(['टर्पेंटाइन', 'टिटॅनिअम', 'डिसेंबर'])],\n",
       "       ['Facdh', 3, list(['करडा', 'गळवा', 'दरवेश्या'])],\n",
       "       ['acq', 3, list(['तीस', 'तेवीस', 'तेहेतीस'])],\n",
       "       ['bc', 3, list(['अड्या', 'अण्या', 'कुटुंबीं'])],\n",
       "       ['Zw', 3, list(['उत्सुक', 'कनिष्ठ', 'क्रियाशील'])],\n",
       "       ['acdf', 3, list(['चौऱ्याण्णव', 'चौऱ्याहत्तर', 'चौसष्ट'])],\n",
       "       ['Fbc', 4,\n",
       "        list(['अडीचक्यां', 'अण्याबाण्यां', 'अपन्हुतीं', 'आणां'])],\n",
       "       ['Aacde', 4, list(['अढी', 'अधेली', 'आकडी', 'तपेली'])],\n",
       "       ['Fs', 4, list(['कोंडमाऱा', 'झाडझाडोऱा', 'थाऱा', 'दराऱा'])],\n",
       "       ['kl', 5, list(['उधळण', 'उर', 'ओरप', 'ओसर', 'खुलवर'])],\n",
       "       ['Ffg', 5, list(['कुड', 'गोचिड', 'जरुर', 'जांभळ', 'डुब'])],\n",
       "       ['bcd', 5,\n",
       "        list(['अंत्येष्ट्या', 'उक्त्या', 'उड्या', 'खोतक्या', 'जायपत्र्या'])],\n",
       "       ['Zc', 6,\n",
       "        list(['इथवर', 'इमानदारी', 'इश्कबाजी', 'कधी', 'कधीतरी', 'कमीजास्त'])],\n",
       "       ['Aack', 6,\n",
       "        list(['इस्लाम', 'कार्बन', 'कार्ब्युरेटर', 'कॅडमिअम', 'कॅल्शिअम', 'क्रोमिअम'])],\n",
       "       ['kw', 6,\n",
       "        list(['अद्भुत', 'अवलंब', 'असत्य', 'असभ्य', 'असमर्थ', 'उष्ण'])],\n",
       "       ['Aad', 7,\n",
       "        list(['तिच्या', 'त्यांच्या', 'तुमच्या', 'तुझ्या', 'त्याच्या', 'त्यांच्या', 'त्याच्या'])],\n",
       "       ['ehj', 7,\n",
       "        list(['उपमा', 'कडा', 'खोचा', 'जागा', 'ठेचा', 'डाका', 'थापा'])],\n",
       "       ['fi', 7, list(['आस', 'उमज', 'काच', 'गीत', 'गोत', 'टेक', 'ढेकर'])],\n",
       "       ['AFacdh', 9,\n",
       "        list(['अंगाऱ्या', 'अंगाऱ्याधुपाऱ्या', 'अळवा', 'आडोशा', 'आळवा', 'कवडशा', 'गवळ्या', 'जोडप्या', 'झबल्या'])],\n",
       "       ['Fi', 9,\n",
       "        list(['उणिव', 'कणक', 'किव', 'खरज', 'गोळाबेरज', 'चिर', 'चुणुक', 'झिज', 'झिल'])],\n",
       "       ['Aacf', 10,\n",
       "        list(['एकोणनव्वद', 'एकोणपन्नास', 'एकोणसत्तर', 'एकोणसाठ', 'केक', 'कॅल्साइट', 'कॉकटेल', 'त्रेपन्न', 'त्रेपन', 'त्रेसष्ट'])],\n",
       "       ['fw', 10,\n",
       "        list(['अम्ल', 'अराजक', 'अशुद्ध', 'अस्पृश्य', 'उत्पादक', 'उद्योजक', 'कुरूप', 'घन', 'दृश्य', 'देव'])],\n",
       "       ['Aacq', 13,\n",
       "        list(['एकतीस', 'एकवीस', 'एकोणचाळीस', 'एकोणतीस', 'एकोणवीस', 'एकोणीस', 'एक्केचाळीस', 'चव्वेचाळीस', 'चाळीस', 'चोवीस', 'चौतीस', 'तीस', 'त्रेचाळीस'])],\n",
       "       ['Fh', 13,\n",
       "        list(['अमीरउमरावा', 'अल्पसंख्याका', 'अस्मादिका', 'आईबापा', 'आबालवृद्धा', 'इतरा', 'इलेक्ट्रॅाना', 'गणगोत्या', 'गुरुजना', 'गुराढोरा', 'ट्रका', 'ट्रँझिस्टरा', 'ट्रॅक्टरा'])],\n",
       "       ['Fk', 17,\n",
       "        list(['आशिक', 'उशिर', 'ऊनपावस', 'उन्हापावस', 'कथल', 'कुण', 'क्लोरिन', 'खरिप', 'गोडाधोड', 'ग्लिसरिन', 'जडजवाहिर', 'डुक', 'तकदिर', 'तहसिल', 'तिखटमिठ', 'दिलाश', 'देवाधर्म'])],\n",
       "       ['acdh', 20,\n",
       "        list(['अवटुग्रंथी', 'आनंदाश्रू', 'आपोष्ण्या', 'आयतोजी', 'उदधी', 'उदमी', 'एकशे', 'ऐंशी', 'कटवण्या', 'कठपुतळ्या', 'कडबू', 'कडिया', 'कढया', 'करंगळ्या', 'कलंकी', 'कवळ्या', 'काटकोन्या', 'कानू', 'कोई', 'तिघीतिघी'])],\n",
       "       ['AFacd', 24,\n",
       "        list(['अंथरुणापांघरुणा', 'अमला', 'अकडी', 'अकले', 'अग्यापिछ्या', 'अठ्ठाविसा', 'अडतिसा', 'अडुसष्टा', 'अडुळशा', 'ईडनिंबा', 'औषधपाण्या', 'कपोलकल्पिता', 'कमनशिबा', 'काथ्याकुटा', 'कामातुरा', 'काश्मिरा', 'किडकामिडका', 'किळशी', 'केरकचऱ्या', 'खिसखिशी', 'घुश्श्या', 'छक्क्यापंजा', 'दाणापाण्या', 'दाण्यापाण्या'])],\n",
       "       ['fg', 27,\n",
       "        list(['कानफट', 'कुश', 'खळ', 'खोड', 'गंज', 'गरळ', 'गळ', 'गळेसर', 'गीर्वाण', 'गुंतवळ', 'गुंताड', 'घट', 'घाट', 'चट', 'चतकोर', 'चरण', 'चामखिळ', 'चाळ', 'चुंबळ', 'जण', 'जर', 'जोड', 'टोक', 'टोच', 'डांगर', 'डोंब', 'डोण'])],\n",
       "       ['acf', 27,\n",
       "        list(['अलुबुखार', 'आलुबुखार', 'आजोळ', 'आठ', 'एकर', 'एकसष्ट', 'एकावन्न', 'एकावन', 'एकाहत्तर', 'एकाक्ष', 'एक्याण्णव', 'कंपास', 'किलोग्रॅम', 'किलोमीटर', 'किलोलीटर', 'गॅलन', 'ग्रॅम', 'चार', 'चौपन्न', 'छपन्न', 'छप्पन', 'डीझेल', 'त्र्याण्णव', 'त्र्याहत्तर', 'दरबार', 'दार', 'दोन'])],\n",
       "       ['Fl', 31,\n",
       "        list(['आवरासावर', 'उघडिक', 'उघडिप', 'एकजुट', 'काचकुच', 'काचाकुच', 'कोथिंबिर', 'कोवळिक', 'खसखश', 'खुमाश', 'खुसखुश', 'गिचमिड', 'गोवणुक', 'घोडचुक', 'छाटछुट', 'जगणुक', 'जगवणुक', 'जपणुक', 'झाडझुड', 'टापटिप', 'टामटुम', 'टेश', 'ढिल', 'तारिफ', 'तुडवणुक', 'तुट', 'तोशिश', 'त्रेधातिरपिट', 'थपड', 'दामदुपट', 'दिशाभुल'])],\n",
       "       ['Aac', 35,\n",
       "        list(['अणूबॉम्ब', 'अल्कोहोल', 'आइसक्रीम', 'इस्पिक', 'एप्रिल', 'ॲल्युमिनीअम', 'ॲस्पिरिन', 'ओझोन', 'ऑक्टोबर', 'ऑक्सिजन', 'ऑगस्ट', 'काश्मीर', 'कॅप्सूल', 'कॅप्सूल्स', 'कॅरम', 'कॅलेंडर', 'कोथिंबीर', 'काँक्रीट', 'क्रिकेट', 'क्लोरीन', 'गिअर', 'ग्रॅनाईट', 'ग्रामोफोन', 'ग्लिसरीन', 'चॉपर', 'छत्तीस', 'जून', 'टेनिस', 'टँकर', 'ट्रक', 'ट्रँझिस्टर', 'ट्रॅक्टर', 'ट्राम', 'डायनामाइट', 'डॉक्टर'])],\n",
       "       ['Facd', 36,\n",
       "        list(['अचक्याविचक्या', 'अताऱ्या', 'अफिणे', 'इर', 'उन्हाळ्यापावसाळ्या', 'उता', 'उतामाता', 'करमणुके', 'कामपिशा', 'किसमिशी', 'खिसमिशी', 'खुपी', 'खैऱ्या', 'गई', 'गयी', 'गिल्ल्या', 'गुदमऱ्या', 'घायकुता', 'चूडामण्या', 'चेहऱ्यामोहऱ्या', 'चेहेऱ्यामोहऱ्या', 'छापाऱ्या', 'जरतारा', 'जानवशा', 'जि', 'झुंजूमुंजा', 'झुणुके', 'तट्टा', 'ताकवण्या', 'तोळ्यामाशा', 'दाण्यागोट्या', 'दादे', 'दीनवाण्या', 'दुकूला', 'दूधदुभत्या', 'धमके'])],\n",
       "       ['ac', 36,\n",
       "        list(['अमुक', 'अमुकतमुक', 'आगळीवेगळी', 'आदली', 'आयती', 'इलेक्ट्रॅान', 'इलेक्ट्रॅानिक', 'उखळेपाखळे', 'उघड्याबंब', 'उघडीबंब', 'उतरती', 'उताणीपाताणी', 'ओझरत्या', 'ओल्याचिंब', 'ऑर्गन', 'कट्टी', 'काशा', 'काहीशा', 'काळ्याकभिन्न', 'काळ्याकुट्ट', 'काळ्याजहर', 'काळ्याठिक्कर', 'काळ्याढुस्स', 'काळ्याढोण', 'काळ्याभोर', 'काळ्याशार', 'किडकी', 'कितकाल्या', 'कितकाव्या', 'किनऱ्या', 'किरमिजी', 'किलकिल्या', 'कुटुंबी', 'चीझ', 'जॅक', 'तीन'])],\n",
       "       ['Z', 45,\n",
       "        list(['इतक्यात', 'इतपत', 'इथल्याइथे', 'इथून', 'येथून', 'इथे', 'येथे', 'इहवादी', 'उंच', 'उग्र', 'उघड', 'उत्तीर्ण', 'उत्तेजक', 'उत्पादित', 'एकीकडे', 'कधीकधी', 'कपोलकल्पित', 'कबूल', 'कमी', 'करारी', 'करुणास्पद', 'कर्कश', 'काल्पनिक', 'कासावीस', 'काळी', 'काळे', 'किंचित', 'किचकट', 'किडके', 'कितीतरी', 'कुठून', 'कुठे', 'कुठेतरी', 'कोठेतरी', 'कुभांडखोर', 'केव्हातरी', 'कोपिष्ट', 'खचीत', 'खरोखरी', 'खुळी', 'खुळे', 'चारचौघे', 'चुकून', 'चौघे', 'थोडे'])],\n",
       "       ['i', 55,\n",
       "        list(['अटक', 'अवस', 'आगपेण', 'आग्नेय', 'आच', 'आडवाट', 'आडवेळ', 'आव', 'ईशान्य', 'उकर', 'उकल', 'उतरवाट', 'उतारवेळ', 'उब', 'कंड', 'कंबर', 'कड', 'कमर', 'करुण', 'कळ', 'काख', 'काखबगल', 'कातरवेळ', 'कास', 'कुमक', 'कुवेळ', 'कैद', 'खंत', 'खडीसाखर', 'खबरबात', 'खाक', 'खाच', 'खाज', 'खाट', 'खाप', 'गंधाक्षत', 'गजल', 'गप', 'गप्प', 'गरज', 'गर्द', 'गार', 'गुंज', 'गुजर', 'गुरुकृपा', 'गोम', 'चाड', 'चेप', 'जाग', 'जाण', 'झाक', 'टेर', 'टेस', 'तडफ', 'तहान'])],\n",
       "       ['s', 64,\n",
       "        list(['अधिकउणा', 'अमरपट्टा', 'अर्धकच्चा', 'अर्धमेला', 'अर्धवेडा', 'अर्धा', 'आटापिटा', 'आठवा', 'आडपडदा', 'आडवा', 'आडवाउभा', 'आडवातिडवा', 'आतबट्टा', 'आदला', 'आपटा', 'आयता', 'आयुर्विमा', 'आरतापरता', 'आवडता', 'आवाका', 'इकडचा', 'इतकाला', 'इतकावा', 'उच्चैःश्रवा', 'उजळा', 'उटारेटा', 'उतरता', 'उफराटा', 'उफाडा', 'उभा', 'उमदा', 'उलगडा', 'उष्मा', 'ऊष्मा', 'एकोपा', 'ओलावा', 'ओवा', 'कंटाळा', 'कडका', 'कळवळा', 'काबा', 'काळिमा', 'किडमिडा', 'किराणा', 'खेळखंडोबा', 'खोळंबा', 'गर्भा', 'गलका', 'गलबला', 'घामटा', 'डचका', 'ताटकळा', 'ताठा', 'ताबा', 'थंडावा', 'थकवा', 'थरकाटा', 'थांगपत्ता', 'दणाणा', 'दबदबा', 'दबा', 'दमा', 'दांडगोबा', 'दारूगोळा'])],\n",
       "       ['Fg', 74,\n",
       "        list(['अंमलदारिण', 'अंमलदारण', 'आतेबहिण', 'आराश', 'उंटिण', 'उंदरिण', 'कलावंतिण', 'कवाइत', 'कसुर', 'कायल', 'कांडपिण', 'कातिण', 'कारभारिण', 'कारभारण', 'कारागृहाधिपत', 'काहिल', 'किमत', 'कुंभारिण', 'कुंभारण', 'कुणबिण', 'कोल्हाटिण', 'कोल्हाटण', 'कोशिंबिर', 'कोळिण', 'कोळण', 'खरेद', 'खारजमिन', 'खिर', 'खिळ', 'गमत', 'गारपिट', 'घुश', 'घोवकरण', 'घोवकरिण', 'चिलम', 'चुकामुक', 'चुरश', 'चूकभुल', 'चुण', 'चुल', 'चेटकिण', 'छपवणुक', 'छळणुक', 'जमिन', 'जवळिक', 'जहागिर', 'जातीपात', 'जिरवणुक', 'जित', 'जोगतिण', 'जोगवेकरिण', 'जोगवेकरण', 'जोगिण', 'ठकवणुक', 'ठसठश', 'डंखिण', 'तजविज', 'तपकिर', 'तरतुद', 'तांबटिण', 'ताकिद', 'तिडिक', 'तिडक', 'तिपट', 'तिरपिट', 'तिरिप', 'तिट', 'तिथ', 'तुळश', 'तुर', 'थुक', 'दउत', 'दुपट', 'धनिण'])],\n",
       "       ['w', 85,\n",
       "        list(['अखंड', 'अचूक', 'अतृप्त', 'अनियमित', 'अनिवार्य', 'अनिश्चित', 'अनुरूप', 'अनैतिक', 'अनौपचारिक', 'अन्योन्य', 'अपरिहार्य', 'अपात्र', 'अपारदर्शक', 'अपूर्ण', 'अप्रस्तुत', 'अभिन्न', 'आम्ल', 'अलग', 'अलिप्त', 'अलौकिक', 'अशिष्ट', 'अश्लील', 'असंबद्ध', 'असमान', 'असुरक्षित', 'अस्थिर', 'अस्पष्ट', 'आकलनक्षम', 'आकस्मिक', 'आक्रमक', 'आढ्य', 'आतुर', 'आत्मनिर्भर', 'आत्मीय', 'आधुनिक', 'आनुवांशिक', 'आवश्यक', 'उच्च', 'उच्चनीच', 'उत्कट', 'उत्कृष्ट', 'उत्फुल्ल', 'उत्स्फूर्त', 'उदात्त', 'उदार', 'उदासीन', 'उपयुक्त', 'एकनिष्ठ', 'एकरूप', 'एकसंध', 'एकसूत्र', 'एकात्म', 'ऐहिक', 'औद्याेगिक', 'औपचारिक', 'कर्णमधुर', 'कलात्मक', 'कार्यक्षम', 'कुलीन', 'कृतघ्न', 'कृतज्ञ', 'कृतार्थ', 'क्रियाशून्य', 'क्रियाहीन', 'क्लिष्ट', 'खिन्न', 'गंभीर', 'गढूळ', 'गतिमान', 'गतिशील', 'गतिहीन', 'गलिच्छ', 'गुणग्राहक', 'गुणहीन', 'गोपनीय', 'ग्राम्य', 'घनवर्धनीय', 'घनिष्ठ', 'जटिल', 'जागरूक', 'जातीय', 'तीक्ष्ण', 'तुच्छ', 'तुष्ट', 'दुर्बोध'])],\n",
       "       ['j', 120,\n",
       "        list(['अंतःप्रेरणा', 'अधीरता', 'अनसूया', 'अनास्था', 'अनिच्छा', 'अनुकंपा', 'अनुकूलता', 'अनुक्रमणिका', 'अनुराधा', 'अनेकार्थता', 'अपराजिता', 'अप्रतिष्ठा', 'अवकळा', 'अवकृपा', 'अव्यवस्था', 'अशांतता', 'अश्रद्धा', 'असूया', 'अहमहमिका', 'अहल्या', 'अहिंसा', 'आत्मनिंदा', 'आत्मनिष्ठा', 'आत्मप्रशंसा', 'आदिमाता', 'आदिमाया', 'आराधना', 'आर्द्रा', 'आशादुराशा', 'आशानिराशा', 'आश्लेषा', 'आस्था', 'इंदिरा', 'इंद्रवज्रा', 'इतिकर्तव्यता', 'ईश्वरेच्छा', 'ईर्षा', 'ईर्ष्या', 'उत्कंठा', 'उत्तराभाद्रपदा', 'उत्तराषाढा', 'उपजीविका', 'उपासना', 'उपेन्दवज्रा', 'उपेक्षा', 'उषा', 'एकतऱ्हा', 'एकनिष्ठा', 'एकवाक्यता', 'कालक्रमणा', 'कालगणना', 'किमया', 'किशोरावस्था', 'कुचंबणा', 'कुचेष्टा', 'कुत्सा', 'कुमारावस्था', 'कृत्तिका', 'कृपा', 'केका', 'कोशावस्था', 'क्रूरता', 'खडिया', 'खाखा', 'खातरजमा', 'गया', 'गांजा', 'गिरिजा', 'गुणवत्ता', 'घटका', 'घृणा', 'चंद्रिका', 'चालचर्या', 'चालना', 'चिकित्सा', 'चित्रा', 'चेतना', 'जरा', 'जिजीविषा', 'जिन्नसा', 'जीवंतिका', 'जुगुप्सा', 'जोपासना', 'ज्येष्ठा', 'ज्योत्स्ना', 'तत्परता', 'तन्मयता', 'तमा', 'तल्लीनता', 'तितिक्षा', 'तृषा', 'तृष्णा', 'त्रिसंध्या', 'त्रेधा', 'त्वरा', 'थट्टा', 'दया', 'दांभिकता', 'दाहकता', 'दिनचर्या', 'दिशाहीनता', 'दीक्षा', 'दुग्धशर्करा', 'दुनिया', 'दुरवस्था', 'दुर्गा', 'दुर्दशा', 'दुर्बलता', 'दुर्मीळता', 'दृढता', 'दृष्टिहीनता', 'देवाज्ञा', 'देशहितेच्छा', 'दैना', 'द्यूतक्रीडा', 'द्वारका', 'धनतेरसा', 'धनिष्ठा', 'धनुर्विद्या', 'धन्यता'])],\n",
       "       ['Fe', 124,\n",
       "        list(['अदमुऱा', 'अधिकाऱी', 'अऱी', 'अलुतेदाऱी', 'आचाऱी', 'आजेसासऱा', 'आसऱा', 'इशाऱा', 'इसाऱा', 'उंबऱा', 'उताऱा', 'उत्तराधिकाऱी', 'ओताऱा', 'ओवऱा', 'कंगोऱा', 'कचऱा', 'कटोऱा', 'कऱा', 'कर्जबाजाऱी', 'कर्मचाऱी', 'कष्टकऱी', 'कातकऱी', 'कान्याकोपऱा', 'कामकऱी', 'किनाऱा', 'कुचकऱा', 'कुरमुऱा', 'कुसकऱा', 'कॅमेऱा', 'कोन्याकोपऱा', 'कोपऱा', 'खराऱा', 'खांदेकऱी', 'खाकऱा', 'खाकेऱा', 'खिल्लाऱी', 'खेळकऱी', 'खोबऱे', 'खोऱे', 'गजऱा', 'गडकऱी', 'गऱा', 'गस्तकऱी', 'गाभाऱा', 'गावकऱी', 'गुंगाऱा', 'गुबाऱा', 'गोऱा', 'गोशवाऱा', 'घणकऱी', 'घसऱा', 'घसाऱा', 'घागऱा', 'घातकऱी', 'घेणेकऱी', 'घेऱा', 'चबुतऱा', 'चऱा', 'चाऱा', 'चिटोऱा', 'चिताऱी', 'चिमोऱा', 'चिऱा', 'चुरमुऱा', 'चुऱा', 'चेहेऱा', 'चेहऱा', 'चौथऱा', 'चौधऱी', 'छर्ऱा', 'छापेकऱी', 'छिनालपुऱा', 'छोकऱा', 'जंजिऱा', 'जत्रेकऱी', 'जमीनधाऱा', 'जवाहिऱी', 'जिऱे', 'जिल्हाधिकाऱी', 'जुगाऱी', 'जुनेऱे', 'जुळाऱी', 'जोगवेकऱी', 'जोहाऱी', 'झऱा', 'झाडेकऱी', 'झाडोऱा', 'झाऱा', 'झीलकऱी', 'टकुऱी', 'टकोऱी', 'टणकाऱा', 'टोकऱा', 'डफऱे', 'डांगोऱा', 'डिंगोऱा', 'डिकऱा', 'डेऱा', 'डोंबाऱी', 'डोलाऱा', 'ढालकऱी', 'ढिगाऱा', 'तंबोऱा', 'ताऱा', 'ताशेऱा', 'तिटकाऱा', 'तुऱा', 'तुरुंगाधिकाऱी', 'तोठऱा', 'तोबऱा', 'तोऱा', 'दमेकऱी', 'दसऱा', 'दाणेकऱी', 'दादऱा', 'दारेकऱी', 'दावेकऱी', 'दुखणेकऱी', 'दुजोऱा', 'देणेकऱी', 'देव्हाऱा', 'दोऱा', 'दौऱा', 'धत्तुऱा'])],\n",
       "       ['Ff', 159,\n",
       "        list(['अंथरुण', 'अनरश', 'अनुयाय', 'अपशकुन', 'अपिल', 'अप्रुप', 'अमक्यातमक्य', 'अमिर', 'अशिल', 'असुड', 'आकाशकंदिल', 'आगलाव्य', 'आडगिऱ्हाइक', 'आरश', 'आळिव', 'ईडलिंब', 'उमाश', 'उरुस', 'उसाश', 'उश', 'उस', 'कंजुस', 'कंदमुळ', 'कंदिल', 'कणस', 'कसाय', 'कळश', 'कानशिल', 'कापर', 'कापस', 'कारकुन', 'कारखानिस', 'कारागिर', 'काहुर', 'काळविट', 'काळज', 'किश्श', 'किट', 'किस', 'कुलुप', 'कुलप', 'कुश', 'कुळ', 'केळ्य', 'कोकर', 'कोट्याधिश', 'कोडकौतिक', 'कोलित', 'कोळश', 'काँक्रिट', 'कौतिक', 'खंजिर', 'खजुर', 'खमिस', 'खरबुज', 'खविस', 'खाटक', 'खिश', 'खुलाश', 'खुट', 'खुन', 'खुर', 'खुळ', 'खेडुत', 'गनिम', 'गरिब', 'गव्ह', 'गळित', 'गांडुळ', 'गिरमिट', 'गिऱ्हाइक', 'गुर', 'गुव', 'गुढ', 'गुल', 'गुळ', 'गोकुळ', 'गोखर', 'गोरगरिब', 'घनमुळ', 'घरकुल', 'घुंगर', 'चकाचुर', 'चक्काचुर', 'चकर', 'चाबक', 'चाहुर', 'चिबुड', 'चिरगुट', 'चिरुट', 'चिक', 'चिज', 'चिट', 'चिप', 'चुर', 'चेटक', 'चेटुक', 'छत्तिस', 'छपर', 'जलश', 'जवाहिर', 'जातकुळ', 'जामिन', 'जावय', 'जासुद', 'जिन', 'जिव', 'जुव', 'झाडझुडप', 'झिक', 'झिग', 'झुडप', 'टकल', 'टिप', 'टिपुर', 'टिपुस', 'टेंगळ', 'टेंबस', 'ठश', 'ठाकुर', 'ठुसठुश', 'ठोश', 'डबिर', 'डाकिण', 'डिखळ', 'डुकर', 'डुल', 'ढालाइत', 'ढिग', 'ढेकण', 'तंदुर', 'तपशिल', 'तपासनिस', 'तबिब', 'तमासगिर', 'तऱ्हेवाइक', 'तसबिर', 'ताइत', 'तांदुळ', 'तांदळ', 'तांबुल', 'तारव', 'तिळगुळ', 'तिन', 'तिळ', 'तुप', 'तुस', 'त्रिकुट', 'त्रिशुळ', 'थालीपिठ', 'दंडाइत', 'दस्तुर', 'दिड', 'दिर', 'दुखणाइत', 'दुध', 'दुम', 'देवळ', 'धडुत'])],\n",
       "       ['l', 239,\n",
       "        list(['अंदाधुंद', 'अदब', 'अब्रूनुकसान', 'अल्पबचत', 'अळमटळम', 'आंबेहळद', 'आग', 'आगपाखड', 'आगबोट', 'आगळिक', 'आणाआण', 'आदळआपट', 'आबाद', 'आबादीआबाद', 'आबाळ', 'आयात', 'आवक', 'आवजाव', 'आवराआवर', 'आहळ', 'इज्जत', 'इभ्रत', 'उकलाउकल', 'उगवण', 'उगवत', 'उघडझाक', 'उघडमिट', 'उचंबळ', 'उचकाउचक', 'उचल', 'उजळण', 'उडवाउडव', 'उतावळ', 'उधळ', 'उधळमाधळ', 'उपजनिपज', 'उपटाउपट', 'उपासमार', 'उबळ', 'उरस्फोड', 'उरफोड', 'उलघाल', 'उलट', 'उलटसुलट', 'उलटपालट', 'उसंत', 'उसण', 'ऐट', 'ऐपत', 'ऐश', 'ओढ', 'ओढगस्त', 'ओढाओढ', 'ओढाताण', 'ओरड', 'कचकच', 'कणकण', 'करकर', 'कलकल', 'कलाकसुर', 'कसर', 'कळकळ', 'कळवाकळव', 'काकुळत', 'काटकसर', 'काडीमोड', 'काढघाल', 'काढाकाढ', 'कालवाकालव', 'कावकाव', 'किचकिच', 'किटकिट', 'किणकिण', 'किफायत', 'किरकिर', 'किलबिल', 'कुचकुच', 'कुजबुज', 'कुटकुट', 'कुडकुड', 'कुढाण', 'कुतरओढ', 'कुरकुर', 'कुरबुर', 'कुवत', 'केसतुट', 'कोरड', 'खडखड', 'खडबड', 'खडेफोड', 'खदखद', 'खर', 'खरकट', 'खरखर', 'खरड', 'खरवड', 'खवखव', 'खळबळ', 'खाजवाखाजव', 'खातर', 'खिदमत', 'खुटखुट', 'खुडखुड', 'खुडूक', 'खुदखुद', 'खुशामत', 'खेचाखेच', 'खैरात', 'खैरियत', 'खोडाखोड', 'गजबज', 'गडबड', 'गत', 'गदगद', 'गलबल', 'गळेफोड', 'गाय', 'गाळण', 'गिरवागिरव', 'गुजराण', 'गुणगुण', 'गुरगुर', 'घणघण', 'घबराट', 'घसर', 'घसराघसर', 'घाण', 'घालकाढ', 'घिश', 'घुरघुर', 'घुसमट', 'घुसळण', 'चंगळ', 'चक्रवाढ', 'चटपट', 'चडफड', 'चणफण', 'चरचर', 'चलनघट', 'चलनवाढ', 'चलबिचल', 'चालढकल', 'चाळवाचाळव', 'चाळाचाळ', 'चिकचिक', 'चिडचिड', 'चिरचिर', 'चिवचिव', 'चिवडाचिवड', 'चुकचुक', 'चुकवाचुकव', 'चुळबुळ', 'चेंदाड', 'चैन', 'चोपाचोप', 'च्यावच्याव', 'च्यावम्याव', 'छातीफोड', 'जखडाजखड', 'जरतार', 'जळजळ', 'जळफळ', 'जिगर', 'जिरवाजिरव', 'जुळवाजुळव', 'झकझक', 'झकपक', 'झकमक', 'झगमग', 'झाडझपट', 'झाडपाखड', 'झाडलोट', 'झोंबाझोंब', 'झोड', 'झोडाझोड', 'टंगळमंगळ', 'टकटक', 'टर', 'टाळाटाळ', 'टिकटिक', 'टिपटिप', 'टिवटिव', 'टोलवाटोलव', 'ठकठक', 'ठकवाठकव', 'ठाकठोक', 'ठोकाठोक', 'डगडग', 'डगमग', 'डचक', 'डचमळ', 'डमडम', 'डोळेझाक', 'डोळेफोड', 'ढकलाढकल', 'ढब', 'ढवळाढवळ', 'तडतड', 'तणतण', 'तणफण', 'तळतळ', 'तांब', 'ताकद', 'ताणाताण', 'तातड', 'तारांबळ', 'तुडवातुडव', 'तैनात', 'तोड', 'तोडातोड', 'थकावट', 'थडथड', 'थरकाप', 'थरथर', 'दखल', 'दगदग', 'दगल', 'दडपादडप', 'दतात', 'दवदव', 'दाखवणुक', 'दाणादाण', 'दाणावैरण', 'दिक्कत', 'दिवेलागण', 'दृष्टादृष्ट', 'देखभाल', 'देखरेख', 'देवघेव', 'देवाणघेवाण', 'दौड', 'दौलत', 'धकधक', 'धकाधक', 'धग', 'धडधड', 'धडपड', 'धनदौलत', 'धरपकड'])],\n",
       "       ['g', 255,\n",
       "        list(['अंघोळ', 'अखेर', 'अटकळ', 'अडगळ', 'अडचण', 'अदलाबदल', 'अद्दल', 'अपरात्र', 'अफरातफर', 'आकडेमोड', 'आठवण', 'आणणावळ', 'आपटाआपट', 'आफत', 'आरडाओरड', 'आवड', 'इमारत', 'उकड', 'उचापत', 'उतरंड', 'उतरण', 'उतरणावळ', 'उत्तररात्र', 'उपट', 'उमेद', 'उलटभेट', 'उलथापालथ', 'उलाढाल', 'उसळ', 'ऐरण', 'ओंजळ', 'ओरडाओरड', 'ओळ', 'ओळख', 'ओळखदेख', 'ओळखपाळख', 'कटकट', 'कट्यार', 'कडेकपार', 'कणेर', 'कण्हेर', 'कत्तल', 'कनवट', 'कपात', 'कपार', 'कबर', 'कमान', 'कमाल', 'करवत', 'करामत', 'कर्दळ', 'कवायत', 'कसरत', 'कांडणावळ', 'कांब', 'कातर', 'कानश', 'कापणवळ', 'कारकिर्द', 'कावड', 'किताबत', 'किनार', 'किर्द', 'किड', 'कुंटण', 'कुंटीण', 'कुणकुण', 'कुदळ', 'कुरापत', 'कुऱ्हाड', 'कुवार', 'केळ', 'कैदाशिण', 'कैफियत', 'कोय', 'कोर', 'कोरफड', 'खटपट', 'खणपट', 'खबर', 'खळखळ', 'खाडाखोड', 'खाण', 'खाणावळ', 'खार', 'खाल', 'खिंड', 'खिरापत', 'खिलाफत', 'खुडबुड', 'खूशखबर', 'खोदणावळ', 'खोप', 'खोबण', 'खोळ', 'गजाल', 'गफलत', 'गर्भार', 'गल', 'गलोल', 'गल्लत', 'गवळण', 'गवार', 'गस्त', 'गांध', 'गाठ', 'गाठभेट', 'गाढविण', 'गाळणावळ', 'गिरण', 'गुंतागुंत', 'गुंफण', 'गुजगोष्ट', 'गुरवीण', 'गुलनार', 'गुळवेल', 'गैरसमजूत', 'गोगलगाय', 'गोण', 'गोद', 'गोफण', 'गोष्ट', 'गोसाविण', 'गौर', 'ग्रामपंचायत', 'घडण', 'घडणावळ', 'घडामोड', 'घमेंड', 'घरघर', 'घसट', 'घसरड', 'घसरण', 'घळ', 'घागर', 'घार', 'घालमेल', 'घासाघिश', 'घेवदेव', 'घेवाणदेवाण', 'घोडदौड', 'घोण', 'घोरपड', 'चंद्रकोर', 'चकमक', 'चटक', 'चढण', 'चढाओढ', 'चणचण', 'चरपट', 'चरबट', 'चव', 'चवड', 'चळत', 'चळवळ', 'चांदरात', 'चांदरात्र', 'चादर', 'चापट', 'चाल', 'चाहुल', 'चाळण', 'चाळणावळ', 'चिडवाचिडव', 'चुटपुट', 'चुडेल', 'चोच', 'चौकट', 'छाटाछाट', 'जंमत', 'जकात', 'जखिण', 'जडण', 'जडणघडण', 'जडणावळ', 'जमवाजमव', 'जमात', 'जमानत', 'जरब', 'जात', 'जात', 'जावक', 'जास्वंद', 'जाहिरात', 'जाळपोळ', 'जिकीर', 'जिद्द', 'जुट', 'ज्योत', 'झक', 'झगडाझगड', 'झटापट', 'झड', 'झाकापाक', 'झापड', 'झाल', 'झालर', 'झिंबड', 'झिजणावळ', 'झिमड', 'झुंज', 'झुंड', 'झुंबड', 'झुलवाझुलव', 'झुल', 'टमटम', 'टाकसाळ', 'टिंगल', 'टिंगवाटिंगव', 'टिमटिम', 'टुरटुर', 'टोळधाड', 'ठेव', 'ठेवण', 'ठेवणावळ', 'ठोकणावळ', 'ठोकर', 'डगर', 'डाळ', 'डुकरिण', 'डोंबारण', 'ढकल', 'ढाल', 'ढेर', 'तक्रार', 'तगमग', 'तगर', 'तड', 'तडजोड', 'तडफड', 'तफावत', 'तबियत', 'तब्येत', 'तर', 'तलवार', 'तळमळ', 'तुमान', 'तेलवात', 'तोंडओळख', 'तोडणावळ', 'तोडफोड', 'तोडमोड', 'थड', 'दंगल', 'दरड', 'दरमजल', 'दलदल', 'दहशत', 'दळणावळ', 'दानत', 'दानव', 'दावण', 'दुखापत', 'दुमड', 'दौत'])],\n",
       "       ['hj', 274,\n",
       "        list(['अंगना', 'अंत्यक्रिया', 'अंधश्रद्धा', 'अक्कलदाढा', 'अग्निपरीक्षा', 'अग्रपूजा', 'अधिकारिता', 'अधिसूचना', 'अधीक्षिका', 'अध्यापिका', 'अनामिका', 'अनुज्ञा', 'अन्नपूर्णा', 'अपहृता', 'अपेक्षा', 'अफवा', 'अबला', 'अभिलाषा', 'अभ्यासिका', 'अमावस्या', 'अमावास्या', 'अर्थच्छटा', 'अर्पणपत्रिका', 'अर्हता', 'अवतरणिका', 'अवदसा', 'अवस्था', 'अवहेलना', 'अवज्ञा', 'अविधवा', 'अविवाहिता', 'अष्टपुत्रा', 'अष्ठीला', 'असहकारिता', 'असहिष्णुता', 'अस्मिता', 'अक्षता', 'अक्षयतृतीया', 'अक्षय्यतृतीया', 'आकांक्षा', 'आकाशगंगा', 'आख्यायिका', 'आत्महत्या', 'आदेशिका', 'आमंत्रणपत्रिका', 'आम्लता', 'आयुर्मर्यादा', 'आर्द्रता', 'आर्या', 'आशंका', 'आशा', 'आस्थापना', 'आज्ञा', 'इच्छा', 'इजा', 'इडापिडा', 'इयत्ता', 'उत्तरपूजा', 'उत्पादिता', 'उत्प्रेक्षा', 'उद्घोषणा', 'उद्घोषिका', 'उपयोगिता', 'उपहासिका', 'उल्का', 'उवा', 'ऊर्जा', 'ऊर्जितावस्था', 'ऋचा', 'एकांकिका', 'कंप्रता', 'कटुता', 'कठिनता', 'कथा', 'कन्यका', 'कन्या', 'कपिला', 'कमतरता', 'कर्णरेषा', 'कला', 'कलिका', 'कल्पना', 'कविकल्पना', 'कविता', 'कक्षा', 'कांता', 'कांक्षा', 'कादंबरिका', 'कानामात्रा', 'कामना', 'काया', 'कारा', 'कारिका', 'कार्यशाळा', 'कुंजलता', 'कुकल्पना', 'कुमारिका', 'कुलटा', 'कुवासना', 'कुविद्या', 'कूपनलिका', 'केशभूषा', 'कोनशिला', 'कोशिका', 'क्रिया', 'क्रीडा', 'खडावा', 'खलनायिका', 'खारका', 'खुणा', 'खेपा', 'खोका', 'खोटा', 'गजघंटा', 'गणना', 'गणिका', 'गदा', 'गर्भधारणा', 'गायिका', 'गुंफा', 'गुटिका', 'गुरुपौर्णिमा', 'गुरुपूर्णिमा', 'गुहा', 'गोपिका', 'गोशाला', 'गोहत्या', 'ग्रीवा', 'घंटा', 'घटना', 'घटस्थापना', 'घटिका', 'घोषणा', 'चंडिका', 'चंद्रवदना', 'चतुःसीमा', 'चपराका', 'चपला', 'चपला', 'चमका', 'चर्चा', 'चर्पटिका', 'चर्या', 'चारुता', 'चिंचा', 'चिंता', 'चिता', 'चित्रकला', 'चित्रकारिता', 'चित्ररेखा', 'चूषिका', 'चेष्टा', 'छटा', 'छपवणुका', 'छळणुका', 'छाया', 'जंघा', 'जखमा', 'जगदंबा', 'जगदंबिका', 'जगन्मोहना', 'जगलीला', 'जटा', 'जडता', 'जत्रा', 'जनगणना', 'जनता', 'जननक्षमता', 'जन्मठेपा', 'जपमाळा', 'जमा', 'जरबा', 'जलक्रीडा', 'जलदेवता', 'जवनिका', 'जवसा', 'जळवा', 'जावा', 'जांघा', 'जागृतावस्था', 'जाणिवा', 'जिगीषा', 'जिम्मा', 'जिव्हा', 'जिह्वा', 'जिज्ञासा', 'जिभा', 'जीवा', 'जीविका', 'जोगम्मा', 'ज्वाला', 'झडपा', 'झलका', 'झळा', 'झांजा', 'झापा', 'झिंगा', 'झिटा', 'झुळका', 'झुका', 'झेपा', 'झोपा', 'टपला', 'टांगा', 'टाचा', 'टापा', 'टीका', 'टिचा', 'टिपा', 'टुमा', 'ट्रंका', 'डावा', 'ढांगा', 'ढासा', 'ढेंगा', 'ढेपा', 'तडसा', 'तडिता', 'तत्त्वनिष्ठा', 'तुनजा', 'तन्यता', 'तपश्चर्या', 'तपस्या', 'तरफा', 'तरुलता', 'तऱ्हा', 'तलफा', 'तलफा', 'ताना', 'तारा', 'तारका', 'तारा', 'तारखा', 'तासा', 'तिन्हीसांजा', 'तिजा', 'तीर्थयात्रा', 'तुलना', 'तुला', 'तुळा', 'तृतीया', 'तोफा', 'त्राटिका', 'त्रिज्या', 'त्वचा', 'दर्शनिका', 'दर्शिका', 'दवा', 'दशदिशा', 'दशा', 'दक्षता', 'दक्षिणा', 'दाढा', 'दारा', 'दिग्दर्शिका', 'दिनदर्शिका', 'दिशा', 'दीपकलिका', 'दीपपूजा', 'दीपमाळा', 'दीपिका', 'दीर्घिका', 'दुराशा', 'दुरेघा', 'दुर्भावना', 'दुर्वार्ता', 'दुर्वासना', 'दुहिता', 'दूतिका', 'दूर्वा', 'देवपूजा', 'देवांगना', 'द्वितीया', 'धडका'])],\n",
       "       ['Aacdh', 297,\n",
       "        list(['अंत्येष्टी', 'अकरा', 'अठरा', 'अणुरेणू', 'अणू', 'अतिथी', 'अतिरथिमहारथी', 'अतिरथी', 'अतिशयोक्ती', 'अधिपती', 'अध्वर्यू', 'अनावृष्टी', 'अनुभूती', 'अनुज्ञप्ती', 'अन्योक्ती', 'अभागिनी', 'अभिनेत्री', 'अभ्यासू', 'अमिबा', 'अरी', 'अर्धांगिनी', 'अर्धांगी', 'अवलिया', 'अशनी', 'अश्रू', 'अश्वशक्ती', 'अष्टपुत्री', 'असंगती', 'असू', 'अस्थी', 'अळू', 'अक्षौहिणी', 'आई', 'आईबाई', 'आईमाई', 'आंधळ्या', 'आकाशवाणी', 'आकृती', 'आजा', 'आजी', 'आजीबाई', 'आजोबा', 'आदिवासी', 'आपत्ती', 'आप्तसंबंधी', 'आरोपी', 'आवडीनावडी', 'आवडीनिवडी', 'आवडी', 'आळू', 'इस्लामी', 'उचल्या', 'उच्चभ्रू', 'उठाठेवी', 'उण्यादुण्या', 'उतारू', 'उपपत्ती', 'उपसभापती', 'उपाधी', 'उष्टावणी', 'उष्टावळी', 'ऊनोक्ती', 'ऋणको', 'ऋद्धि-सिद्धी', 'एकतारी', 'एकोणऐंशी', 'एक्क्याऐंशी', 'एजन्सी', 'ओषधी', 'औषधी', 'कंकोत्री', 'कंपू', 'कज्जा', 'कटी', 'कड्या', 'कणेरी', 'कण्हेरी', 'कथेकऱ्या', 'कपड्यालत्त्या', 'कपाशी', 'कपी', 'कमंडलू', 'कमजोऱ्या', 'कमलिनी', 'करण्या', 'करमणुकी', 'करोडपती', 'कलाकृती', 'कलाबतू', 'कलावती', 'कवयित्री', 'कवी', 'काऊ', 'कांगारू', 'कांक्षिणी', 'काका', 'काकामामा', 'काकी', 'काकू', 'काजी', 'काजू', 'काथ्या', 'कामिनी', 'कार्यकर्त्या', 'कालावधी', 'काविळी', 'काष्ठौषधी', 'किंतू', 'किराती', 'किलो', 'किशोरी', 'कुणब्या', 'कुबड्या', 'कुमारी', 'कुमुदिनी', 'कुलगुरू', 'कुलपती', 'कृती', 'कृमी', 'कृषी', 'केंद्रबिंदू', 'केतकी', 'केसरी', 'कोटी', 'कोबी', 'खडू', 'खबऱ्या', 'खलिफा', 'खवय्या', 'खस्ता', 'खाऊ', 'खाण्या', 'खाण्यापिण्या', 'खिसेकापू', 'खुदा', 'खुपऱ्या', 'खेळाडू', 'गडू', 'गणपती', 'गणिती', 'गणोबा', 'गती', 'गप्पागोष्टी', 'गबाळ्या', 'गर्भिणी', 'गर्वोक्ती', 'गवय्या', 'गाई', 'गायकी', 'गाळण्या', 'गुरू', 'गुलछबू', 'गृहिणी', 'गैरसोई', 'गैरसोयी', 'गोगलगाई', 'गोगलगायी', 'गोठणबिंदू', 'गोपी', 'गोरिला', 'गोलंदाजी', 'गौतमी', 'ग्रंथी', 'घड्याळजी', 'घरबशा', 'घो', 'घोसाळ्या', 'घोळण्या', 'चकण्या', 'चक्रपाणी', 'चण्याफुटाण्या', 'चतुःसूत्री', 'चमत्कृती', 'चमू', 'चक्षू', 'चांदण्या', 'चांदोबा', 'चामड्या', 'चारचौघी', 'चालीरिती', 'चालीरीती', 'चिंपांझी', 'चिकू', 'चित्राकृती', 'चिमुरड्या', 'चिमटी', 'चेंडू', 'चेतनगुणोक्ती', 'चौदा', 'चौफुल्या', 'चौऱ्याऐंशी', 'छत्रपती', 'छायाकृती', 'जंतू', 'जंबिया', 'जखमी', 'जगत्स्वामी', 'जगद्गुरू', 'जत्रेकरू', 'जनरूढी', 'जनसांख्यिकी', 'जनांकिकी', 'जन्मभूमी', 'जमदग्नी', 'जरदाळू', 'जर्दाळू', 'जळू', 'जादू', 'जारिणी', 'जिजी', 'जिवती', 'जिवाणू', 'जीवजंतू', 'जीवनलहरी', 'जीवाणू', 'जेत्या', 'जोगत्या', 'जोडाजोडी', 'जॉकी', 'ज्यूरी', 'ज्योती', 'ज्वालामुखी', 'झक्कू', 'झब्बू', 'झाडू', 'झिपऱ्या', 'झेंडू', 'टकल्या', 'टकरी', 'टग्या', 'टापू', 'टाहो', 'टाळू', 'टिकोजी', 'टेकड्या', 'टेकू', 'टॅक्सी', 'टोमॅटो', 'ठेंगोजी', 'डमरू', 'डाकू', 'ढब्बू', 'तंतू', 'तंबू', 'तक्क्या', 'तट्टू', 'तनू', 'तपस्विनी', 'तपोनिधी', 'तबलजी', 'तमाशा', 'तरंगिणी', 'तराजू', 'तरुणी', 'ताई', 'तात्या', 'तानुल्या', 'तान्हुल्या', 'तामिळी', 'तालमी', 'तिघी', 'तीनशे', 'तेजस्विनी', 'तेलिणी', 'तेलणी', 'तोतया', 'त्रयी', 'त्रुटी', 'त्र्याऐंशी', 'दंतपक्ती', 'दंपती', 'दरवाजा', 'दर्जा', 'दर्या', 'दर्यावर्दी', 'दवबिंदू', 'दहा', 'दांडू', 'दादा', 'दादी', 'दामिनी', 'दासी', 'दिवाणजी', 'दुंदुभी', 'दुकली', 'दुधी', 'दुर्बिणी', 'दुसऱ्या', 'दूरचित्रवाणी', 'दूरध्वनी', 'दूरवाणी', 'देवदासी', 'देवभोळ्या', 'देवर्षी', 'देवी', 'धनको', 'धन्वंतरी'])],\n",
       "       ['Fbcd', 393,\n",
       "        list(['अंगतीपंगतीं', 'अंड्यापिल्लां', 'अंथरुणापांघरुणां', 'अंबोश्यां', 'अंबोळ्यां', 'अकादमीं', 'अकारविल्हां', 'अठ्ठाविसां', 'अठ्ठ्याऐंशीं', 'अडतिसां', 'अडत्यां', 'अणेल्यां', 'अताऱ्यां', 'अपूर्वायां', 'अश्रफ्यां', 'अष्टम्यां', 'अस्तन्यां', 'अस्तुऱ्यां', 'आइसक्रिमां', 'आगाश्यां', 'आगीमाश्यां', 'आघाड्यापिछाड्यां', 'आठशें', 'आडगिऱ्हाइक्यां', 'आरश्यां', 'आळ्यापाळ्यां', 'इंगळ्यां', 'ईडनिंबां', 'उजळायां', 'उदकाड्यां', 'उन्हाळ्यापावसाळ्यां', 'उपटण्यां', 'उपनद्यां', 'एकुलत्यां', 'एकोक्तीं', 'एप्रिलां', 'ऑक्टोबरां', 'ऑगस्टां', 'ऑर्गनां', 'औटक्या', 'कामातुरां', 'कशां', 'कुइऱ्यां', 'कुइल्यां', 'कोरण्यां', 'कोलत्यां', 'कोल्हाट्यां', 'कोल्ह्यां', 'क्लीनरां', 'खंजिऱ्यां', 'खंडण्यां', 'खंडविखंडां', 'खंड्यां', 'खजुऱ्यां', 'खटाळक्यां', 'खबदड्यां', 'खबदाड्यां', 'खरपुड्यां', 'खायां', 'खांडेनवम्यां', 'खांबल्यां', 'खारोट्यां', 'खिंकाळ्यां', 'खिट्यां', 'खिट्ट्यां', 'खूशमस्कऱ्यां', 'खोजां', 'खोडाळ्यां', 'खोदायां', 'खोबण्यां', 'खोवण्यां', 'गण्यां', 'गप्पाटप्पां', 'गबरूं', 'गाल्यां', 'गिअरां', 'गिन्यां', 'गिरक्यां', 'गिरीं', 'गिऱ्हाइक्यां', 'गुडद्यां', 'गुड्डूं', 'गुण्यां', 'गुलकाड्यां', 'गुलकावण्यां', 'गुलछड्यां', 'गैबतीं', 'गोकर्णीं', 'गोकुळष्टम्यां', 'गोद्यां', 'गोमां', 'गोमाजीं', 'गोमाश्यां', 'गोमुख्यां', 'गोवंड्यां', 'गोवाऱ्यां', 'ग्रंथोपजीवीं', 'ग्रॅनाइटां', 'ग्रामोफोनां', 'ग्वाह्यां', 'घडायां', 'घाणेऱ्यां', 'घामोळ्यां', 'घासण्यां', 'घुगऱ्यां', 'घुश्यां', 'घेऱ्यां', 'चंच्यां', 'चंडोलीं', 'चंद्रमां', 'चंद्रमौळीं', 'चंप्यां', 'चंपूं', 'चंबूं', 'चंबूगवाळ्यां', 'चकत्यां', 'चकल्यां', 'चकाक्यां', 'चकाचक्यां', 'चक्रवर्तिनीं', 'चक्रवर्तीं', 'चक्रवाक्यां', 'चक्र्यां', 'चढत्यां', 'चतुर्थ्यां', 'चमक्यां', 'चरब्यां', 'चरव्यां', 'चरायां', 'चऱ्यां', 'चर्पटपंजऱ्यां', 'चर्रा', 'चवऱ्यां', 'चवल्यां', 'चवळ्यां', 'चहाड्यां', 'चाऊं', 'चांद्यां', 'चांदुकल्यां', 'चांभारक्यां', 'चाकऱ्यां', 'चाकूं', 'चाचरीं', 'चात्या', 'चातुर्मास्यारंभां', 'चान्यां', 'चापटपोळ्यां', 'चापलुस्यां', 'चाफेकळ्यां', 'चाराचारां', 'चारचौघां', 'चारशें', 'चारोळ्यां', 'चावट्यां', 'चावड्यां', 'चीळिश्यां', 'चिऊं', 'चिंतामणीं', 'चिंधड्यां', 'चिंधुकल्यां', 'चिंधोट्यां', 'चिकट्यां', 'चिक्यां', 'चिक्क्यां', 'चिचुंदऱ्यां', 'चिठ्ठ्याचपाट्यां', 'चितीं', 'चित्रलिप्यां', 'चित्राहुत्यां', 'चिद्वादीं', 'चिरण्यां', 'चिरफळ्यां', 'चिरेबंद्यां', 'चिल्यापिल्यां', 'चिल्ल्यापिल्ल्यां', 'चीजवस्तूं', 'चिझां', 'चिळां', 'चुंफण्यां', 'चुगल्याचहाड्यां', 'चुण्यां', 'चुळकां', 'चूडामण्यां', 'चेपां', 'चेपण्यां', 'चेऱ्यां', 'चेष्टामस्कऱ्यां', 'चेहऱ्यामोहऱ्यां', 'चेहेऱ्यामोहऱ्यां', 'चेहरेपट्ट्यां', 'चेहेरेपट्ट्यां', 'चोखण्यां', 'चोपण्यां', 'चोपदारभालदारां', 'चोबदारभालदारां', 'चोऱ्यालबाड्यां', 'चॉपरां', 'चौघां', 'चौघाचौघां', 'चौपद्यां', 'चौसोप्यां', 'छंदफंदां', 'छक्क्यापंजां', 'छतिश्यां', 'छापण्यां', 'छापापाण्यां', 'छापाऱ्यां', 'छिन्यां', 'जंत्र्यां', 'जनीं', 'जमातादाऱ्यां', 'जमादाऱ्यां', 'जमीनदाऱ्यां', 'जमीनमोजण्यां', 'जलधीं', 'जलसमाध्यां', 'जहागिऱ्यां', 'जागीरदाऱ्यां', 'जातभाईं', 'जानूं', 'जामीनक्यां', 'जाहिरातबंद्यां', 'जाहिरातबाज्यां', 'जाळण्यां', 'जाळ्यां', 'जिगरां', 'जिभल्यां', 'जिम्मेदाऱ्यां', 'ज्यां', 'जुळवण्यां', 'जॅकां', 'जोखमां', 'ज्वाऱ्यां', 'झरण्यां', 'झांजऱ्यां', 'झाकण्यां', 'झाक्यां', 'झाडण्यां', 'झाड्यां', 'झिंज्यां', 'झिंझ्यां', 'झिंजोट्यां', 'झिंझोट्यां', 'झिडकारण्यां', 'झिणझिण्यां', 'झिरमिऱ्यां', 'झिरमिळ्यां', 'झिळमिळ्यां', 'झुकांड्यां', 'झोकांड्यां', 'झुणुकां', 'झुरण्यां', 'झुलकावण्यां', 'झुलण्यां', 'झुलवाझुलव्यां', 'झेलण्यां', 'झोंब्यां', 'झोटिंगपातशाह्यां', 'झोटिंगपादशाह्यां', 'झोटिंगशाह्यां', 'टकमकीं', 'टक्क्याटोणप्यां', 'टणकायां', 'टिर्ऱ्यां', 'टिवल्याबावल्यां', 'टुकण्यां', 'टुचकुल्यां', 'ट्रामगाड्यां', 'ठकाठक्यां', 'ठक्यां', 'ठासण्यां', 'ठोकऱ्यां', 'ठिणग्यां', 'ठियां', 'ठिय्यां', 'ठुंबऱ्यां', 'ठुमऱ्यां', 'ठुश्यां', 'ठेकेदाऱ्यां', 'ठोकण्यां', 'डफऱ्यां', 'डफड्यां', 'डरकावण्यां', 'डरकाळ्यां', 'डरावण्यां', 'डाकिन्यां', 'डागण्यां', 'डायनामों', 'डाहळ्यां', 'डिंगऱ्यां', 'डुकऱ्यां', 'डुक्करमुसंड्यां', 'डुबक्यां', 'डुरकण्यां', 'डुरकावण्यां', 'डोयां', 'डोंगऱ्यां', 'डोलकाठ्यां', 'डोल्यां', 'डॉक्टरां', 'ढकल्यां', 'ढबां', 'ढासण्यां', 'ढुमण्यां', 'ढुश्यां', 'ढुसकण्यां', 'ढुसक्यां', 'ढुसण्यां', 'ढेकळ्यां', 'ढेकुळ्यां', 'ढेऱ्यां', 'ढोलक्यां', 'ढोल्यां', 'ढोसण्यां', 'तंगड्यां', 'तंब्यां', 'तख्तपोश्यां', 'तगायां', 'तटबंद्यां', 'तटिनीं', 'तट्टाण्यां', 'तट्टां', 'तडतड्यां', 'तडसण्यां', 'तनमण्यां', 'तन्मण्यां', 'तन्वंगीं', 'तयाऱ्यां', 'तरूं', 'तर्कूं', 'तर्जन्यां', 'तसद्यां', 'तसूं', 'तस्कऱ्यां', 'तहशीलदाऱ्यां', 'तहसीलदाऱ्यां', 'तळण्यां', 'ताकड्यातुकड्यां', 'तातोबां', 'तालूं', 'तासण्यां', 'तिघां', 'तिघातिघां', 'तिरमिऱ्यां', 'तिरिमिऱ्यां', 'त्यां', 'तुंबड्यां', 'तुताऱ्यां', 'तुत्यां', 'तुरट्यां', 'त्यां', 'तेज्यामंद्यां', 'तेरां', 'तोंडल्यां', 'थापट्यां', 'थापड्यां', 'थाप्यां', 'दंडादंड्यां', 'दगड्यां', 'दट्यां', 'दश्यां', 'दश्शां', 'दश्श्यां', 'दस्तुऱ्यां', 'दहेल्ल्यां', 'दांडगोबां', 'दाण्यां', 'दात्रीं', 'दायजीं', 'दिपवाळ्यां', 'दिमड्यां', 'दुकूलां', 'दुगाण्यां', 'दुनियादाऱ्यां', 'दुरड्यां', 'दुलयां', 'दूतीं', 'देवळ्यां', 'दैनंदिन्यां', 'द्विरुक्त्यां', 'धडक्यां', 'धडाड्यां', 'धनगरक्यां', 'धनतेरसां', 'धनतेरशीं', 'धनत्रयाोदश्यां', 'धनार्थ्यां', 'धनुकल्यां', 'धनुर्धारीं', 'धनूं', 'धमकावण्यां', 'धमण्यां', 'धमन्यां'])],\n",
       "       ['h', 467,\n",
       "        list(['अंकलिप्या', 'अंगठ्या', 'अंगाया', 'अंगुल्या', 'अंजल्या', 'अंबाबाया', 'अंबाऱ्या', 'अकला', 'अक्काबाया', 'अगरबत्या', 'अठळ्या', 'अठ्ठ्या', 'अडवणुकी', 'अडवणुका', 'अणूबॉम्बा', 'अवशी', 'अश्रुधारा', 'अष्टदिशा', 'आसुरी', 'अळ्या', 'आया', 'आयाबाया', 'आयामाया', 'आकारण्या', 'आकृत्या', 'आखण्या', 'आगी', 'आगगाड्या', 'आगपेट्या', 'आगबोटी', 'आघाड्या', 'आज्या', 'आजेसासू', 'आजेसासवा', 'आठ्या', 'आडगल्ल्या', 'आडवाटा', 'आडवेळा', 'आणाभाका', 'आदरांजल्या', 'आमट्या', 'आमदन्या', 'आमदारक्या', 'आमराया', 'आरत्या', 'आऱ्या', 'आरोळ्या', 'आवया', 'आवृत्या', 'आषाढ्या', 'आसुरी', 'आहुत्या', 'आज्ञावल्या', 'इनामदाऱ्या', 'इस्त्र्या', 'इदा', 'उकली', 'उकळ्या', 'उखळ्या', 'उखाळ्या', 'उखाळ्या-पाखाळ्या', 'उचक्या', 'उठाबश्या', 'उणिवा', 'उतरवाटा', 'उतारवेळा', 'उधाऱ्या', 'उनाडक्या', 'उमेदवाऱ्या', 'उलटतपासण्या', 'उश्या', 'उसनवाऱ्या', 'उसपण्या', 'उसळ्या', 'ऊठबश्या', 'ऊठबशा', 'ऊदकाड्या', 'ऊदबत्त्या', 'ऊरू', 'ऋग्वेदी', 'एकसष्ट्या', 'एकादश्या', 'ओंब्या', 'ओकाऱ्या', 'ओझेकऱ्या', 'ओट्या', 'ओढण्या', 'ओतण्या', 'ओवाळण्या', 'ओव्या', 'ओसऱ्या', 'कंचुक्या', 'कंड्या', 'कंपन्या', 'कंबरा', 'कंबळ्या', 'कचेऱ्या', 'कचोऱ्या', 'कच्च्याबच्च्या', 'कढ्या', 'कणेऱ्या', 'कण्हेऱ्या', 'कपच्या', 'कफन्या', 'कमरा', 'करंज्या', 'करमणुका', 'करवंट्या', 'करवल्या', 'कलाटण्या', 'कवच्या', 'कवट्या', 'कवाल्या', 'कसोट्या', 'कहाण्या', 'कळा', 'कळश्या', 'कळ्या', 'कांजिण्या', 'कांड्या', 'कांब्या', 'काकडआरत्या', 'काक्या', 'काकवा', 'काखा', 'काखबगला', 'काखोट्या', 'कागाळ्या', 'काचऱ्या', 'काचोळ्या', 'काटक्या', 'काटक्याकुटक्या', 'काठ्या', 'काड्या', 'काढण्या', 'कातऱ्या', 'कातरवेळा', 'कादंबऱ्या', 'कानठळ्या', 'कापण्या', 'कामगिऱ्या', 'कारवाया', 'कारागिऱ्या', 'कार्तिकी', 'कार्यकारिण्या', 'कालाष्टम्या', 'कावळ्या', 'कासंड्या', 'काळज्या', 'किंकाळ्या', 'किंचाळ्या', 'किसण्या', 'कुंटणक्या', 'कुंडल्या', 'कुंड्या', 'कुंभारक्या', 'कुकड्या', 'कुकऱ्या', 'कुचाळक्या', 'कुटाळक्या', 'कुटाळ्या', 'कुट्या', 'कुड्या', 'कुप्या', 'कुमका', 'कुरडया', 'कुरवंड्या', 'कुवेळा', 'कुस्त्या', 'केरसुण्या', 'कॅरमा', 'कॅलेंडरा', 'कैच्या', 'कैऱ्या', 'कोजागऱ्या', 'कोट्या', 'कोठड्या', 'कोठ्या', 'कोड्या', 'कोतवाल्या', 'कोपऱ्या', 'कोब्या', 'कोयंड्या', 'कोयत्या', 'कोलांट्या', 'कोळंब्या', 'कॉफ्या', 'क्लृप्त्या', 'खंता', 'खडाजंग्या', 'खतावण्या', 'खपल्या', 'खबरदाऱ्या', 'खबरबाता', 'खरडेघाश्या', 'खवण्या', 'खाका', 'खाकोट्या', 'खाचा', 'खाजकुइऱ्या', 'खाजकुइल्या', 'खाटा', 'खाड्या', 'खाणाखुणा', 'खातेवह्या', 'खानेसुमाऱ्या', 'खापा', 'खापऱ्या', 'खिडक्या', 'खुंट्या', 'खुडण्या', 'खुपण्या', 'खुब्या', 'खुरपण्या', 'खुरपी', 'खुरमांड्या', 'खुर्च्या', 'खेळपट्ट्या', 'खेळ्या', 'खोपट्या', 'खोपड्या', 'खोल्या', 'गंधाक्षता', 'गचांड्या', 'गच्च्या', 'गजला', 'गठड्या', 'गठळ्या', 'गडण्या', 'गढ्या', 'गणत्या', 'गपा', 'गप्पा', 'गरजा', 'गर्दना', 'गल्ल्या', 'गवसण्या', 'गळण्या', 'गळत्या', 'गॅलऱ्या', 'गाया', 'गांधीलमाश्या', 'गाठ्या', 'गाढव्या', 'गाद्या', 'गारा', 'गारगोट्या', 'गावक्या', 'गाशा', 'गिरण्या', 'गिरफदाऱ्या', 'गुंजा', 'गुंड्या', 'गुंतवणुकी', 'गुंतवणुका', 'गुंफण्या', 'गुजरा', 'गुजऱ्या', 'गुट्या', 'गुठळ्या', 'गुडगुड्या', 'गुदगुल्या', 'गुप्त्या', 'गुरकण्या', 'गुरकावण्या', 'गुरूकिल्ल्या', 'गोणत्या', 'गोधड्या', 'गोलांट्या', 'गोवऱ्या', 'गोळाबेरजा', 'गोळ्या', 'ग्राहक्या', 'घडवंच्या', 'घरपट्ट्या', 'घरफोड्या', 'घसट्या', 'घसरगुंड्या', 'घसरण्या', 'घागऱ्या', 'घिरट्या', 'घुमट्या', 'घुसखोऱ्या', 'घोकण्या', 'घोडचुका', 'घोषणाबाज्या', 'चकरा', 'चटया', 'चटण्या', 'चड्ड्या', 'चढाया', 'चतुर्दश्या', 'चपात्या', 'चमड्या', 'चमत्कृत्या', 'चमेल्या', 'चलाख्या', 'चांडाळचौकड्या', 'चाचण्या', 'चापट्या', 'चाळण्या', 'चिंध्या', 'चिठ्ठ्या', 'चित्राकृत्या', 'चिथावण्या', 'चिपळ्या', 'चिळकांड्या', 'चीकवड्या', 'चिरा', 'चुका', 'चुक्या', 'चुगल्या', 'चुटक्या', 'चुणुका', 'चुनकळ्या', 'चुका', 'चुळा', 'चेतावण्या', 'चोपड्या', 'चोऱ्या', 'चोऱ्यामाऱ्या', 'चोळ्या', 'चौकड्या', 'चौकश्या', 'चौक्या', 'चौकीदाऱ्या', 'चौघड्या', 'चौघी', 'चौघीचौघी', 'चौथाया', 'चौपदऱ्या', 'चौपाया', 'छत्र्या', 'छब्या', 'छाटण्या', 'छाट्या', 'छात्या', 'छानछोक्या', 'छानन्या', 'छायाकृत्या', 'छावण्या', 'जड्या', 'जड्याबुट्ट्या', 'जन्मकुंडल्या', 'जन्माष्टम्या', 'जप्त्या', 'जबान्या', 'जबाबादाऱ्या', 'जमावबंद्या', 'जयंत्या', 'जांभया', 'जागल्या', 'जातकुळ्या', 'जामदाऱ्या', 'जिज्या', 'जिलब्या', 'जिवण्या', 'जीवसृष्ट्या', 'जुया', 'जुंपण्या', 'जुपण्या', 'जुगण्या', 'जुगलबंद्या', 'जुळण्या', 'जोडण्या', 'झकाझक्या', 'झडत्या', 'झाडाझडत्या', 'झापड्या', 'झावळ्या', 'झिरपण्या', 'झोपडपट्ट्या', 'झोपड्या', 'झोळ्या', 'टंचाया', 'टकळ्या', 'टक्केवाऱ्या', 'टपऱ्या', 'टवळ्या', 'टवाळक्या', 'टवाळ्या', 'टांगण्या', 'टाक्या', 'टाचण्या', 'टाळ्या', 'टाळेबंद्या', 'टिंगलटवाळ्या', 'टिकल्या', 'टिचक्या', 'टिटव्या', 'टिपण्या', 'टिपऱ्या', 'टिमक्या', 'टिऱ्या', 'टेकड्या', 'टेहळण्या', 'टेहळ्या', 'टँकरा', 'टॅक्स्या', 'टोचण्या', 'टोप्या', 'टोळ्या', 'तपासण्या', 'तबकड्या', 'ताया', 'तागड्या', 'ताटल्या', 'ताट्या', 'ताडपत्र्या', 'ताड्या', 'तारिफा', 'तिघड्या', 'तिजोऱ्या', 'तिथ्या', 'तिपाया', 'तिरड्या', 'तिर्ऱ्या', 'तिलांजल्या', 'तिवया', 'तीर्थावळ्या', 'तुळया', 'तेज्या', 'तोडण्या', 'त्रयोदश्या', 'थंड्या', 'थकबाक्या', 'थट्टामस्कऱ्या', 'थपडा', 'थप्प्या', 'थुंक्या', 'थुक्या', 'थोतऱ्या', 'थोरव्या', 'दंडुकशाह्या', 'दंडेल्या', 'दंतावल्या', 'दटावण्या', 'दडपशाह्या', 'दमदाट्या', 'दऱ्या', 'दर्पोक्त्या', 'दलाल्या', 'दवंड्या', 'दशम्या', 'दाया', 'दाढ्या', 'दारूबंद्या', 'दिंड्या', 'दिरंगाया', 'दीपावल्या', 'दुकानदाऱ्या', 'दुफळ्या', 'दुभागण्या', 'दुरुक्त्या', 'दुरुस्त्या', 'दुर्ऱ्या', 'दुह्या', 'देणग्या', 'देशमुख्या', 'दोघी', 'दोघीदोघी', 'दोघा', 'दोघादोघा', 'दोनशे', 'द्वादश्या', 'धमक्या', 'धमाली'])],\n",
       "       ['k', 591,\n",
       "        list(['अंगीकार', 'अंतःस्थ', 'अंतःस्फुरण', 'अंतकाल', 'अंतर्धान', 'अंतर्भाव', 'अंतर्याम', 'अंतर्ज्ञान', 'अंधकार', 'अंधार', 'अकर्तृत्व', 'अकस', 'अकांडतांडव', 'अगत्य', 'अघटित', 'अजीर्ण', 'अटकाव', 'अट्टहास', 'अट्टाहास', 'अटलांटिक', 'अतिपरिचय', 'अतिरेक', 'अतिसार', 'अतीत', 'अत्यानंद', 'अधःपतन', 'अधःपात', 'अधर्म', 'अधिकरण', 'अध्यात्म', 'अध्यापन', 'अनर्थ', 'अनवधान', 'अनाचार', 'अनादर', 'अनारोग्य', 'अनुग्रह', 'अनुत्साह', 'अनुपकार', 'अनुराग', 'अनुरोध', 'अनुशासन', 'अनुषंग', 'अनुष्टुप', 'अनुसरण', 'अन्वेषण', 'अपचन', 'अपव्यय', 'अपसरण', 'अपस्मार', 'अपादान', 'अपोहन', 'अभय', 'अभाव', 'अभिजित', 'अभिनय', 'अभिनिवेश', 'अभिमंत्रण', 'अभिमान', 'अभिलेख', 'अभिसरण', 'अभिज्ञान', 'अभीष्ट', 'अभीष्टचिंतन', 'अभ्युदय', 'अमिष', 'अमूर्त', 'अमूर्तीकरण', 'अमृत', 'अम्लपित्त', 'अरण्यरुदन', 'अर्थसाहाय्य', 'अर्धचंद्र', 'अर्धांग', 'अर्पण', 'अलंकरण', 'अल्पांश', 'अवडंबर', 'अवरोह', 'अवलंबित्व', 'अवसर', 'अवसाद', 'अवसान', 'अविवेक', 'अविश्वास', 'अव्हेर', 'अशुभ', 'अश्रुधूर', 'अश्वमेध', 'अश्वारोहण', 'असंतोष', 'असंभव', 'असमाधान', 'असहकार', 'अस्थिबंध', 'अस्थिभंग', 'अस्थैर्य', 'अस्मान', 'अस्वास्थ्य', 'अस्वीकार', 'अहंकार', 'अहंगंड', 'अहंभाव', 'अहित', 'अक्षरारंभ', 'अज्ञान', 'अज्ञेयवाद', 'आंबेमोहोर', 'आकलन', 'आकस', 'आकांत', 'आकाश', 'आकुंचन', 'आगतस्वागत', 'आगमन', 'आगेकुच', 'आग्यावेताळ', 'आग्रह', 'आढळ', 'आतिथ्य', 'आत्मघात', 'आत्मसंयम', 'आत्मार्पण', 'आदर', 'आदर्शीकरण', 'आदानप्रदान', 'आधिक्य', 'आधिपत्य', 'आनंद', 'आनंदीआनंद', 'आनुकूल्य', 'आनुचित्य', 'आभास', 'आभाळ', 'आमांश', 'आमोद', 'आम्लपित्त', 'आयव्यय', 'आयुरारोग्य', 'आयुर्मान', 'आयुर्वेद', 'आयुष्य', 'आरंभशूर', 'आराम', 'आरोग्य', 'आरोह', 'आर्यावर्त', 'आल्हाद', 'आवर', 'आविष्कार', 'आवेग', 'आवेश', 'आशय', 'आशाभंग', 'आशाळभूत', 'आशुताेष', 'आश्रय', 'आस्तिक्य', 'आळस', 'आज्ञाभंग', 'आज्ञार्थ', 'इंद्र', 'इंद्रजाल', 'इंद्रियदमन', 'इतमाम', 'इतिवृत्त', 'इमान', 'इमानइतबार', 'इलेक्ट्रा-गंड', 'इश्क', 'इसप', 'इसब', 'इहलोक', 'इहवाद', 'ईडिपस-गंड', 'ईश', 'ईश्वर', 'उच्छाद', 'उच्छेद', 'उच्छेदन', 'उच्छ्वसन', 'उजेड', 'उज्ज्वलन', 'उतारवय', 'उत्तरध्रुव', 'उत्तराधिकार', 'उत्तरायण', 'उत्थान', 'उत्थापन', 'उत्प्लवन', 'उत्प्लावन', 'उत्सर्ग', 'उत्सर्जन', 'उत्साह', 'उदक', 'उदरनिर्वाह', 'उदरभरण', 'उद्घोष', 'उद्धव', 'उद्धार', 'उद्बोध', 'उद्बोधन', 'उद्भव', 'उद्वेग', 'उधाण', 'उधार', 'उन्नयन', 'उन्मत्त', 'उन्माद', 'उन्मीलन', 'उन्मूलन', 'उपज', 'उपन्यास', 'उपभोग', 'उपमर्द', 'उपरोध', 'उपशम', 'उपशमन', 'उपहास', 'उपाहार', 'उबग', 'उभार', 'उमग', 'उरक', 'उल्लास', 'उषःकाल', 'उद', 'ऊर्जित', 'ऊर्ध्व', 'ऊर्ध्वपातन', 'ऊहापोह', 'ऋग्वेद', 'ऋतुचक्र', 'ऋतुस्राव', 'एकमत', 'एकांत', 'एकाधिकार', 'एकेक', 'ऐक्य', 'ऐवज', 'ऐशआराम', 'ऐश्वर्य', 'ओंगण', 'ओज', 'औत्सुक्य', 'औदार्य', 'औद्धत्य', 'औक्षण', 'कंप', 'कंपवात', 'कटिशूल', 'कटीशूळ', 'कडकडाट', 'कनक', 'कफ', 'कर्करोग', 'कर्कवृत्त', 'कर्पूर', 'कर्षण', 'कल', 'कलकलाट', 'कलरव', 'कलियुग', 'कल्पनाविलास', 'कल्पवृक्ष', 'कल्पांत', 'कल्पित', 'कल्याण', 'कल्लोळ', 'कवडीचुंबक', 'कवित्व', 'कस', 'कसब', 'कहर', 'कळिकाळ', 'कांचन', 'कांस्य', 'काठिण्य', 'काठिन्य', 'कामकाज', 'कामोद्दीपन', 'कारुण्य', 'कार्यकारणभाव', 'काल', 'कालक्रम', 'कालक्रमण', 'कालविपर्यय', 'कालविपर्यास', 'कालनुक्रम', 'काळ', 'काळोख', 'किचड', 'किणकिणाट', 'किराणोत्सर्ग', 'किलबिलाट', 'कुंकुम', 'कुंभक', 'कुक्कुटपालन', 'कुटुंबवत्सल', 'कुपोषण', 'कुलाभिमान', 'कुलोद्धार', 'कुशल', 'कुष्ठ', 'कुष्ठरोग', 'कुसंग', 'कुळिथ', 'कुळथ', 'कृष्णार्पण', 'कृष्णावतार', 'केंद्रशासन', 'केंद्राभिसरण', 'केंद्रीभवन', 'केर', 'केशकर्तन', 'केशर', 'केशव', 'केशवपन', 'कैफ', 'कैलास', 'कैवार', 'कोकशास्त्र', 'कोण', 'कोप', 'कोलाहल', 'कोळ', 'कौटिल्य', 'क्रमण', 'क्रय', 'क्रयविक्रय', 'खंडन', 'खगोल', 'खगोलशास्त्र', 'खडखडाट', 'खडबडाट', 'खणखणाट', 'खप', 'खमाज', 'खरखराट', 'खरवस', 'खस', 'खळखळाट', 'खळबळाट', 'खाद्य', 'खानदेश', 'खानपान', 'खुडबुडाट', 'खुन्नस', 'खेद', 'खोबरेल', 'ख्यातिमूल्य', 'ख्याल', 'गंगार्पण', 'गंधक', 'गंधकाम्ल', 'गंधार', 'गजकर्ण', 'गजवदन', 'गडगडाट', 'गडबडाट', 'गणगोत', 'गदारोळ', 'गरगराट', 'गर्भाधान', 'गलबलाट', 'गवस', 'गहजब', 'गहाण', 'गहिवर', 'गांडीव', 'गांधार', 'गांभीर्य', 'गुणगान', 'गुणोत्कर्ष', 'गुरगुराट', 'गुलाल', 'गृहस्थाश्रम', 'गोंगाट', 'गोड', 'गोडधोड', 'गोमांस', 'गोमूत्र', 'गोवर', 'गोविंद', 'गौडमल्हार', 'गौडसारंग', 'गौरीहर', 'ग्रहणाशौच', 'ग्रामोद्धार', 'घटसर्प', 'घटोत्कच', 'घडघडाट', 'घणघणाट', 'घनाज्ञान', 'घर्म', 'घाम', 'घृत', 'घोंघाटण', 'चकचकाट', 'चडफडाट', 'चणचणाट', 'चतुर्थाश्रम', 'चतुर्वर्ग', 'चमचमाट', 'चयापचय', 'चरस', 'चरितार्थ', 'चलनवलन', 'चळकाप', 'चळवळाट', 'चक्षुर्दान', 'चांचल्य', 'चाट', 'चातुर्वर्ण्य', 'चिंतन', 'चिंताकुल', 'चिंताक्रांत', 'चिंतातुर', 'चिकचिकाट', 'चिटपाखर', 'चित्रालंकार', 'चित्स्वरूप', 'चिद्वाद', 'चिवचिवाट', 'चुणचुणाट', 'चुरचुराट', 'चुळबुळाट', 'चेव', 'चैतन्य', 'चोप', 'छंदःशास्त्र', 'छणछणाट', 'छनछनाट', 'छमछमाट', 'छळवाद', 'जगच्चालक', 'जगत्कारण', 'जगदुद्धार', 'जगद्भूषण', 'जगन्निवास', 'जगन्मिथ्यावाद', 'जनमत', 'जम', 'जलविहार', 'जलस्थितिशास्त्र', 'जलोत्सारण', 'जलोदार', 'जस्त', 'जळजळाट', 'जळफळाट', 'जातक', 'जातकर्म', 'जात्यभिमान', 'जाताभिमान', 'जातिधर्म', 'जिल्हेज', 'जीवनमरण', 'जीवनानंद', 'जीवनोत्साह', 'जीवविज्ञान', 'जीवशास्त्र', 'जोम', 'जोश', 'जोष', 'जोहार', 'ज्येष्ठमध', 'ज्योतिष', 'झकझकाट', 'झगझगाट', 'झगमगाट', 'झणझणाट', 'झमझमाट', 'झळझळाट', 'झुकाव', 'झोक', 'टाखणकार', 'ठणठणाट', 'ठोक', 'डग', 'डामडौल', 'डुबक', 'तग', 'तडतडाट', 'तडफडाट', 'तद्धित', 'तनमनधन', 'तमोगुण', 'तर्कशास्त्र', 'तर्पण', 'तहशिल', 'तळपट', 'तांडव', 'ताक', 'तादात्म्य', 'ताबेगहाण', 'तारतम्य', 'तारुण्य', 'ताव', 'ताळ', 'ताळतंत्र', 'ताळमेळ', 'तिमिर', 'तिळपापड', 'तृण', 'तेज', 'तेजोभंग', 'तेलंगण', 'तोंडसुख', 'तोल', 'त्राण', 'त्रास', 'त्रिकाल', 'त्रिखंड', 'त्रिलोक', 'त्रिविक्रम', 'त्रेतायुग', 'त्रैलोक्य', 'त्र्यंबक', 'त्र्यंबकेश्वर', 'त्वेष', 'थयथयाट', 'थरथराट', 'थांग', 'थाट', 'थाटमाट', 'दंडकारण्य', 'दंतक्षय', 'दंभ', 'दणदणाट', 'दत्त', 'दम', 'दमन', 'दव', 'दहशतवाद', 'दहिवर', 'दक्षिणायन', 'दांडुक', 'दानधर्म', 'दारिद्र्य', 'दाह', 'दाक्षिण्य', 'दिगंत', 'दिनकर', 'दिनक्रम', 'दिमाख', 'दिरंग', 'दिवाकर', 'दीक्षान्त', 'दुःशासन', 'दुश्शासन', 'दुःसंग', 'दुस्संग', 'दुःस्वभाव', 'दुस्स्वभाव', 'दुग्ध', 'दुरन्वय', 'दुरभिमान', 'दुराग्रह', 'दुराचार', 'दुर्दैव', 'दुर्बळ', 'दुर्बल', 'दुर्भाग्य', 'दुर्भिक्ष', 'दुर्योधन', 'दुर्लक्ष', 'दुर्लौकिक', 'दुर्विलास', 'दूधभात', 'दूरदर्शन', 'दृष्टान्तालंकार', 'देशाभिमान', 'देसकार', 'दैन्य', 'दैव', 'दैवदुर्विलास', 'दौर्बल्य', 'द्यूत', 'द्रव्यार्जन', 'द्रुत', 'द्रोह', 'द्वेष', 'द्वैतवाद', 'धडधडाट', 'धडपडाट', 'धडाड', 'धत्तूर', 'धन', 'धनंजय', 'धनधान्य', 'धनुर्वात'])],\n",
       "       ['e', 667,\n",
       "        list(['अंगठा', 'अंगडी', 'अंगरखा', 'अंडे', 'अंधारकोठडी', 'अंबाडा', 'अंबारखाना', 'अकारविल्हा', 'अग्निहोत्री', 'अचंबा', 'अडकवणी', 'अडकित्ता', 'अडथळा', 'अडाखा', 'अडाणी', 'अड्डा', 'अणकुची', 'अतिरेकी', 'अतिशहाणा', 'अत्तरदाणी', 'अद्वैतवादी', 'अधाशी', 'अधेला', 'अपराधी', 'अपहर्ता', 'अबोला', 'अभागी', 'अभिनेता', 'अभियंता', 'अभ्रा', 'अवंढा', 'अळंबे', 'अळे', 'अंधळा', 'आंबा', 'आकडा', 'आकाशदिवा', 'आखाडा', 'आचका', 'आटा', 'आठवडा', 'आढा', 'आढावा', 'आढावेढा', 'आढी', 'आणा', 'आतडे', 'आत्मा', 'आयतोबा', 'आरडाओरडा', 'आराखडा', 'आवळा', 'इदगा', 'इमला', 'इरले', 'इरादा', 'इलाका', 'इलाखा', 'उंडा', 'उंबरठा', 'उकडा', 'उकाडा', 'उकिरडा', 'उखाणा', 'उटणे', 'उणे', 'उतरवटा', 'उधळा', 'उन्हाळा', 'उपभोक्ता', 'उपरणे', 'उबाळा', 'उमाळा', 'उलटा', 'उलथणे', 'उलथा', 'उष्टे', 'उसपा', 'एक्का', 'एडका', 'एनिमा', 'ओंडका', 'ओगराळे', 'ओचा', 'ओझे', 'ओझेवाला', 'ओटा', 'ओढा', 'ओनामा', 'ओरखडा', 'ओरडणे', 'ओरडा', 'ओरबाडा', 'ओळंबा', 'कंगवा', 'कंठा', 'कचाटा', 'कट्टा', 'कठडा', 'कडप्पा', 'कडबा', 'कडबोळे', 'कडवा', 'कडाका', 'कडाखा', 'कडीकोयंडा', 'कणा', 'कत्तलखाना', 'कपचा', 'कपटा', 'कपडा', 'कप्पा', 'कबिला', 'कबुतरखाना', 'करंडा', 'करकोचा', 'करगोटा', 'करटुले', 'करदाता', 'करवला', 'करारनामा', 'कर्णा', 'कर्ता', 'कऱ्हा', 'कल्हईवाला', 'कवडा', 'कशिदा', 'कांगावा', 'कांडके', 'कांडपी', 'कांडे', 'कांदा', 'कांबळे', 'काकडा', 'काजवा', 'काजे', 'काटा', 'काटाकुटा', 'काढा', 'कातडे', 'काना', 'काफिला', 'कामधंदा', 'कायदा', 'कारंजे', 'कारखाना', 'कारभारी', 'कारले', 'कारळा', 'कार्टा', 'कार्यकर्ता', 'कालथा', 'कालवा', 'काला', 'कावळा', 'कावा', 'काष्टा', 'कासोटा', 'किडा', 'कित्ता', 'किल्ला', 'कुंचला', 'कुंचा', 'कुंटणखाना', 'कुंडा', 'कुडता', 'कुडबुडा', 'कुडमुडा', 'कुत्रा', 'कुलंगडे', 'कुल्ला', 'कूर्चा', 'केवडा', 'कैदखाना', 'कैदी', 'कोंगाटी', 'कोंडवाडा', 'कोंडा', 'कोंडाळे', 'कोंबडा', 'कोटा', 'कोठा', 'कोडे', 'कोथळा', 'कोनाडा', 'कोयंडा', 'कोयता', 'कोरडा', 'कोलदांडा', 'कोल्हा', 'कोशा', 'कोष्टी', 'कोळी', 'खजिना', 'खटका', 'खटला', 'खटारा', 'खडा', 'खड्डा', 'खणका', 'खरकटे', 'खरडा', 'खराटा', 'खर्डा', 'खलबत्ता', 'खलाशी', 'खलिता', 'खवडा', 'खवणा', 'खवला', 'खवा', 'खळगा', 'खळे', 'खांडवा', 'खांडोळे', 'खांदा', 'खांबा', 'खाटखळगा', 'खाटले', 'खाटीकखाना', 'खाडा', 'खाणे', 'खाते', 'खानसामा', 'खिचडा', 'खिळा', 'खुंटा', 'खुनी', 'खुरपे', 'खुराडे', 'खुर्दा', 'खुळखुळा', 'खुळा', 'खेकटे', 'खेकडा', 'खेटा', 'खेडे', 'खेडेपाडे', 'खेळणे', 'खोकला', 'खोका', 'खोडा', 'खोपा', 'गऊळवाडा', 'गंगाळे', 'गंडा', 'गंधी', 'गचका', 'गठडे', 'गठ्ठा', 'गडकिल्ला', 'गडबडगुंडा', 'गडी', 'गडेकऱी', 'गड्डा', 'गद्धा', 'गद्य', 'गधडा', 'गराडा', 'गल्ला', 'गवंडी', 'गवा', 'गव्हला', 'गळा', 'गांधी', 'गाठोडे', 'गाडगा', 'गाडा', 'गाडीभाडे', 'गाणे', 'गाभा', 'गारठा', 'गारवा', 'गारुडी', 'गाऱ्हाणे', 'गालिचा', 'गाळा', 'गिरदा', 'गिलावा', 'गुंठा', 'गुंडगुळे', 'गुंडा', 'गुंडाळा', 'गुंता', 'गुंताडा', 'गुच्चा', 'गुटका', 'गुडघा', 'गुढी', 'गुढीपाडवा', 'गुणगुणा', 'गुत्ता', 'गुद्दा', 'गुन्हा', 'गुमास्ता', 'गुरखा', 'गुराखी', 'गुलदस्ता', 'गुळणा', 'गुळांबा', 'गेंडा', 'गोंडा', 'गोंधळी', 'गोटा', 'गोठा', 'गोडवा', 'गोणता', 'गोणा', 'गोतवळा', 'गोतावळा', 'गोता', 'गोपा', 'गोपाळकाला', 'गोऱ्हा', 'गोशा', 'गोसावडा', 'गोसावी', 'गोळा', 'घट्टा', 'घडा', 'घडणी', 'घणा', 'घमेले', 'घरकोंबडा', 'घरटे', 'घराणे', 'घरोटा', 'घरोबा', 'घसरडे', 'घाटपांडे', 'घाटा', 'घाणा', 'घारगा', 'घाला', 'घुंगरटे', 'घुंगुर्डे', 'घुंघुरडे', 'घुटका', 'घुणघुणा', 'घुणा', 'घुला', 'घुळणा', 'घेवडा', 'घोंगडे', 'घोंगाणा', 'घोटा', 'घोटाळा', 'घोडा', 'घोणा', 'घोळका', 'चंदा', 'चकवा', 'चक्का', 'चटका', 'चट्टा', 'चणका', 'चणा', 'चतुःशास्त्री', 'चतुश्शास्त्री', 'चमचा', 'चरखा', 'चवडा', 'चवाठा', 'चव्वा', 'चव्हाटा', 'चश्मा', 'चांगभला', 'चांदवा', 'चाफा', 'चावा', 'चाळा', 'चिंचोका', 'चित्ता', 'चिमटा', 'चिमणा', 'चिरोटा', 'चिवडा', 'चुंबी', 'चुटका', 'चुडा', 'चुथडा', 'चुनखडा', 'चुना', 'चुरगळा', 'चुराडा', 'चुलता', 'चुला', 'चुळका', 'चेंदा', 'चेंदामेंदा', 'चेचा', 'चेला', 'चोचला', 'चोथा', 'चोळणा', 'चोळामोळा', 'चौकडा', 'चौघडा', 'छक्का', 'छडा', 'छल्ला', 'छापखाना', 'छापा', 'छावा', 'छिलका', 'जगज्जेता', 'जगन्नियंता', 'जथा', 'जनानखाना', 'जनाना', 'जप्तीवाला', 'जबडा', 'जमाना', 'जमीनजुमला', 'जमीनझाडा', 'जरीपटका', 'जर्दा', 'जवाहीरखाना', 'जाते', 'जादूटोणा', 'जानवे', 'जान्हवे', 'जामदारखाना', 'जामानिमा', 'जाहीरनामा', 'जाळे', 'जिना', 'जिल्हा', 'जिव्हाळा', 'जीवात्मा', 'जुडगा', 'जुडा', 'जुमला', 'जुयटे', 'जुवा', 'जुळे', 'जेता', 'जोंधळा', 'जोगवा', 'जोगी', 'जोडवे', 'जोडा', 'जोते', 'जोशी', 'ज्योतिषी', 'झगडा', 'झगा', 'झटका', 'झपाटा', 'झब्बा', 'झरोका', 'झाडपाला', 'झाडा', 'झाडूवाला', 'झिंगा', 'झिम्मा', 'झिरपा', 'झुकणे', 'झुणका', 'झुपका', 'झुबका', 'झुमका', 'झुरका', 'झुलवा', 'झुला', 'झेंडा', 'झेब्रा', 'झोका', 'झोपा', 'झोपाळा', 'झोळणा', 'टक्का', 'टपका', 'टपला', 'टप्पा', 'टरका', 'टहाळा', 'टांगा', 'टाका', 'टाळके', 'टाळा', 'टाळे', 'टिक्का', 'टिळा', 'टुमणे', 'टेंबा', 'टेंभा', 'टेकणे', 'टेका', 'टेकणे', 'टेका', 'टोका', 'टोचा', 'टोणगा', 'टोपडे', 'टोपला', 'टोमणा', 'टोला', 'टोळके', 'ठणका', 'ठपका', 'ठमका', 'ठसका', 'ठसेवाला', 'ठाणे', 'ठावठिकाणा', 'ठिकाणा', 'ठिपका', 'ठेंगा', 'ठेका', 'ठेला', 'ठेवा', 'ठोकताळा', 'ठोकळा', 'ठोका', 'डंका', 'डगला', 'डग्गा', 'डफडे', 'डबा', 'डल्ला', 'डावा', 'डुलका', 'डोंगळा', 'डोकी', 'डोमकावळा', 'डोसके', 'डोळा', 'ढकलगाडा', 'ढमका', 'ढलपा', 'ढवळणे', 'ढवळा', 'ढाचा', 'ढिगोला', 'ढोकळा', 'ढोणगी', 'ढोलके', 'तंटा', 'तंटाबखेडा', 'तक्ता', 'तगादा', 'तडाका', 'तडाखा', 'तपस्वी', 'तबला', 'तबेला', 'तराणा', 'तराफा', 'तलाठी', 'तवा', 'तसराळे', 'तळवा', 'तळे', 'तांडा', 'तांबडी', 'तांबे', 'तागा', 'ताटवा', 'ताटाळे', 'ताणा', 'ताणाबाणा', 'ताफा', 'तालुका', 'ताशा', 'ताळा', 'तिकाटणी', 'तिठा', 'तिढा', 'ताळा', 'तिरकमठा', 'तीरकमठा', 'तिरपगडे', 'तीरकमठा', 'तिरकमठा', 'तुकडा', 'तुटवडा', 'तुडतुडा', 'तुणतुणे', 'तेरडा', 'तेरावा', 'तेली', 'तोंडवळा', 'तोंडोळा', 'तोटा', 'तोडगा', 'तोडा', 'तोरणे', 'तोळा', 'त्रांगडी', 'त्रागा', 'त्राता', 'त्रिफळा', 'थडगे', 'थवा', 'थांबा', 'थारोळे', 'थाळा', 'थैला', 'दंगा', 'दंगाधोपा', 'दंडा', 'दंडुका', 'दगडधोंडा', 'दगा', 'दगाफटका', 'दचका', 'दट्टा', 'दडा', 'दणका', 'दबडगा', 'दमडा', 'दरोगा', 'दरोडा', 'दर्गा', 'दशांगुळे', 'दस्ता', 'दबशतवादी', 'दहावा', 'दही', 'दांडके', 'दांडपट्टा', 'दांडा', 'दाखला', 'दागिना', 'दाणा', 'दाणादुणा', 'दाता', 'दादला', 'दारुडा', 'दारूखाना', 'दारोगा', 'दावा', 'दिडका', 'दिवटा', 'दिवा', 'दिवाणखाना', 'दिवाळे', 'दुक्का', 'दुखणे', 'दुखवटा', 'दुधीभोपळा', 'दुधीहलवा', 'दुपटे', 'दुपट्टा', 'दुफाटा', 'दुरावा', 'दुवा', 'दुव्वा', 'दुष्टावा', 'देखावा', 'देणे', 'दोडका', 'धंदा', 'धक्का', 'धडपा', 'धडा', 'धडाका', 'धना', 'धनी', 'धपका', 'धपाटा', 'धबडगा', 'धबधबा', 'धब्बा', 'धमाका', 'धरणे'])],\n",
       "       ['Aacd', 697,\n",
       "        list(['अंकलिपी', 'अंगठी', 'अंगयष्टी', 'अंगाई', 'अंडाकृती', 'अंतश्चक्षू', 'अंबाबाई', 'अंमलबजावणी', 'अकरमाश्या', 'अकराव्या', 'अकर्त्या', 'अकादमी', 'अकीर्ती', 'अक्करमाशा', 'अक्कलहुशारी', 'अक्काबाई', 'अगरबत्ती', 'अगस्ती', 'अग्नी', 'अजातशत्रू', 'अठ्ठाविसाव्या', 'अठ्ठी', 'अठ्ठ्याऐंशीव्या', 'अडतिसाव्या', 'अणीबाणी', 'अतिवृष्टी', 'अधल्यामधल्या', 'अधोगती', 'अनीती', 'अनुपस्थिती', 'अनुमती', 'अपूर्वाई', 'अफू', 'अब्रू', 'अभिरुची', 'अभिवृद्धी', 'अभिव्यक्ती', 'अमक्या', 'अमदानी', 'अमिरी', 'अरुंधती', 'अर्धशिशी', 'अर्ध्याकच्च्या', 'अर्ध्यामुर्ध्या', 'अल्पबुद्धी', 'अष्टमी', 'अळी', 'आंधळी', 'आकारणी', 'आखणी', 'आगगाडी', 'आगपेटी', 'आघाडी', 'आठशेव्या', 'आडनिड्या', 'आडमुठ्या', 'अढी', 'आणेभाके', 'आत्मस्तुती', 'आदरांजली', 'आदिशक्ती', 'आपल्या', 'आपोष्णी', 'आमटी', 'आमदनी', 'आमदारकी', 'आमराई', 'आमच्या', 'आरती', 'आरोळी', 'आल्यागेल्या', 'आवडती', 'आवृत्ती', 'आषाढी', 'आहुती', 'आळ्या', 'आज्ञावली', 'इंगळी', 'इंग्या', 'इंद्रायणी', 'इकडच्यातिकडच्या', 'इकडल्यातिकडल्या', 'इच्छापूर्ती', 'इच्छाशक्ती', 'इटुकल्या', 'इटुकली', 'इथल्या', 'इनामदारी', 'इवल्याशा', 'इष्टापत्ती', 'इस्त्री', 'उंच्या', 'उंची', 'उंच्यापुऱ्या', 'उंचेल्या', 'उकळी', 'उकिडव्या', 'उक्ती', 'उखळी', 'उखाळी', 'उखाळी-पाखाळी', 'उघड्या', 'उघड्यानागड्या', 'उघडीनागडी', 'उघड्याबागड्या', 'उघड्याबाघड्या', 'उघड्याबोडक्या', 'उघड्यावाघड्या', 'उचकी', 'उजखुऱ्या', 'उजखोऱ्या', 'उजव्या', 'उठाबशी', 'उडाणटप्पू', 'उताण्या', 'उतावळ्या', 'उत्पत्ती', 'उधारी', 'उनाडकी', 'उपड्या', 'उपनदी', 'उमेदवारी', 'उरक्या', 'उरल्यासुरल्या', 'उलटतपासणी', 'उलटी', 'उलट्यापालट्या', 'उलट्यासुलट्या', 'उलथ्या', 'उशी', 'उष्ट्या', 'उष्ट्यापाष्ट्या', 'उष्ट्यामाष्ट्या', 'उसनवारी', 'उसन्या', 'ऊठबशी', 'ऊदकाडी', 'ऊदबत्ती', 'ऊर्ध्वगती', 'ऊर्मी', 'ऋतू', 'एकट्या', 'एकट्यादुकट्या', 'एकलकोंड्या', 'एकल्या', 'एकसष्टी', 'एकसारख्या', 'एकांड्या', 'एकादशी', 'एकी', 'एकुलत्या', 'एकेकट्या', 'एकेकल्या', 'एकोणऐंशीव्या', 'एक्क्याऐंशीव्या', 'एखाददुसऱ्या', 'एखाद्या', 'एवढ्या', 'एवढाल्या', 'ऐंशीव्या', 'ओंगळवाण्या', 'ओंबी', 'ओकारी', 'ओटी', 'ओढणी', 'ओणव्या', 'ओतणी', 'ओवरी', 'ओवळ्या', 'ओवाळणी', 'ओवी', 'ओशाळ्या', 'ओसरी', 'ओहोटी', 'ओहटी', 'औटकी', 'कंचुकी', 'कंजुसी', 'कंटाळवाण्या', 'कंडी', 'कंडू', 'कंपनी', 'कंबळी', 'कचेरी', 'कचोरी', 'कच्चीबच्ची', 'कटवणी', 'कठपुतळी', 'कडी', 'कढाई', 'कढी', 'कणी', 'कफनी', 'कबजा', 'कबड्डी', 'कबुली', 'कमजोरी', 'कमाई', 'कमावत्या', 'करंगळी', 'करंजी', 'करंट्या', 'करडई', 'करड्या', 'करणी', 'करपल्लवी', 'करवंटी', 'करवंदी', 'करवली', 'कर्णकटू', 'कर्तरी', 'कर्तव्यच्युती', 'कर्त्यासवरत्या', 'कर्मणी', 'कलाटणी', 'कली', 'कल्पतरू', 'कल्पनाशक्ती', 'कल्हई', 'कवची', 'कवटी', 'कवडी', 'कवडीकवडी', 'कवाइती', 'कवायती', 'कवाली', 'कशा', 'कशाकशा', 'कसोटी', 'कस्तूरी', 'कहाणी', 'कळलाव्या', 'कळशी', 'कळी', 'कांजिणी', 'कांडी', 'कांती', 'कांबी', 'काकडआरती', 'काकडी', 'कागाळी', 'काचरी', 'काजळी', 'काटकी', 'काटकीकुटकी', 'काटकुळ्या', 'काठी', 'काडी', 'काढणी', 'काण्या', 'कातडी', 'कादंबरी', 'कानठळी', 'कानड्या', 'कानफाट्या', 'कापणी', 'काफी', 'कामगिरी', 'कामधेनू', 'कामसू', 'कशा', 'कारवाई', 'कारागिरी', 'कार्यकर्ती', 'कार्यकारिणी', 'कार्यवाही', 'कार्यसाधू', 'कार्यसिद्धी', 'कालाष्टमी', 'कासंडी', 'काळजी', 'काळतोंड्या', 'काळ्या', 'काळ्याबेंद्र्या', 'काळ्याबेऱ्या', 'काळुंदऱ्या', 'किंकाळी', 'किंचाळी', 'किडक्या', 'किल्ली', 'किसणी', 'किर्ती', 'कुंकवा', 'कुंडलिनी', 'कुंडली', 'कुंडी', 'कुंभारकी', 'कुकडी', 'कुकरी', 'कुकिर्ती', 'कुचाळकी', 'कुटाळकी', 'कुटाळी', 'कुटी', 'कुडी', 'कुढ्या', 'कुत्री', 'कुनीती', 'कुपी', 'कुबडी', 'कुबुद्धी', 'कुभांड्या', 'कुमती', 'कुरडई', 'कुरवंडी', 'कुस्ती', 'कैकेयी', 'केकयी', 'केतू', 'केरसुणी', 'केविलवाण्या', 'कॅलरी', 'कैकेयी', 'केकयी', 'कैरी', 'कोंडी', 'कोजागरी', 'कोठडी', 'कोठी', 'कोतवाली', 'कोपरी', 'कोयंडी', 'कोयती', 'कोल्हेकुई', 'कोळंबी', 'कॉफी', 'कौमुदी', 'क्रांती', 'क्रोधाग्री', 'क्लीनर', 'क्लृप्ती', 'खंडणी', 'खंडी', 'खडी', 'खडाजंगी', 'खतावणी', 'खपली', 'खबरदारी', 'खमक्या', 'खरडेघाशी', 'खऱ्या', 'खऱ्याखुऱ्या', 'खऱ्याखोट्या', 'खवणी', 'खाकी', 'खाकोटी', 'खाजकुइरी', 'खाजकुइली', 'खाजऱ्या', 'खाडी', 'खाणेखुणे', 'खाणी', 'खात्या', 'खात्याजेवत्या', 'खात्यापित्या', 'खातेवही', 'खादी', 'खानेसुमारी', 'खापरी', 'खिडकी', 'खिळखिळ्या', 'खुंटी', 'खुडणी', 'खुपणी', 'खुपरी', 'खुबी', 'खुरपणी', 'खुरमांडी', 'खुर्ची', 'खुल्या', 'खुशालटेकड्या', 'खुशी', 'खुसपट्या', 'खेतावाडी', 'खेळपट्टी', 'खेळी', 'खोट्या', 'खोटारड्या', 'खोपडी', 'खोली', 'गंगाजळी', 'गंगोत्री', 'गचांडी', 'गच्ची', 'गजांतलक्ष्मी', 'गटारी', 'गठळी', 'गडबडी', 'गढी', 'गणती', 'गणपूर्ती', 'गद्धेपंचविशी', 'गमती', 'गयेवये', 'गरमी', 'गरवारशी', 'गर्भारशी', 'गरिबी', 'गर्जने', 'गर्दी', 'गर्भवती', 'गल्ली', 'गवगव्या', 'गवसणी', 'गळती', 'गळू', 'गॅलरी', 'गाई', 'गांधीलमाशी', 'गाठी', 'गाढवी', 'गाढ्या', 'गाणेबजावण्या', 'गाथे', 'गादी', 'गायत्री', 'गारगोटी', 'गावकी', 'गाळणी', 'गिड्ड्या', 'गिरणी', 'गिरफदारी', 'गुंडी', 'गुजरी', 'गुजाऱ्या', 'गुटी', 'गुठळी', 'गुडगुडी', 'गुदगुली', 'गुन्हेगारी', 'गुप्ती', 'गुफ्तगू', 'गुरकणी', 'गुरमी', 'गुरूकिल्ली', 'गुलहौशी', 'गुलामगिरी', 'गुलामी', 'गैरमर्जी', 'गोकुळाष्टमी', 'गोडबोल्या', 'गोडी', 'गोधडी', 'गोलांटी', 'गोळी', 'ग्राहकी', 'ग्वाही', 'घडवंची', 'घरपट्टी', 'घरफोडी', 'घसरगुंडी', 'घसरणी', 'घागरी', 'घाणेरड्या', 'घामेल्या', 'घामोळ्या', 'घायकुती', 'घाऱ्या', 'घुसखोरी', 'घोकंपट्टी', 'घोकणी', 'घोषणाबाजी', 'घोसाळी', 'चंची', 'चकती', 'चकरे', 'चक्की', 'चक्रवर्ती', 'चटई', 'चटणी', 'चट्ट्यामट्ट्या', 'चड्डी', 'चतुर्दशी', 'चपाती', 'चमडी', 'चमेली', 'चर्पटपंजरी', 'चलाखी', 'चांडाळचौकडी', 'चांदी', 'चांभारकी', 'चाकरी', 'चाकू', 'चाचणी', 'चामडी', 'चारित्र्या', 'चावी', 'चाळणी', 'चाळिशी', 'चिंतामणी', 'चिंधी', 'चिकण्या', 'चिकन्या', 'चिकाटी', 'चिठ्ठी', 'चित्तवृत्ती', 'चिथावणी', 'चिपळी', 'चिमणी', 'चिमुरडी', 'चिजे', 'चुकी', 'चुटकी', 'चुनकळी', 'चुनखडी', 'चेतावणी', 'चेष्टामस्करी', 'चोरी', 'चोळी', 'चौकडी', 'चौकी', 'चौकीदारी', 'चौथाई', 'चौपदरी', 'चौपाई', 'चौपायी', 'छत्री', 'छबी', 'छाटणी', 'छाटी', 'छाती', 'छानछोकी', 'छाननी', 'छावणी', 'जननी', 'जन्मकुंडली', 'जन्माष्टमी', 'जप्ती', 'जबानी', 'जबाबदारी', 'जमाती', 'जमालगोट्या', 'जमावबंदी', 'जमीनदारी', 'जमीनमोजणी', 'जयंती', 'जलसमाधी', 'जहागिरी', 'जांभई', 'जागीरदारी', 'जागृती', 'जातकुळी', 'जानेवारी', 'जिम्मेदारी', 'जिलबी', 'जिच्या', 'ज्याच्या', 'ज्यांच्या', 'जीवसृष्टी', 'जुगलबंदी', 'जुन्या', 'जुन्यापान्या', 'जुळणी', 'जुळ्या', 'जेथच्या', 'जोखमी', 'जोडणी', 'जोडी', 'ज्वारी', 'झकाझकी', 'झडती', 'झाडाझडती', 'झावळी', 'झिरपणी', 'झोपडपट्टी', 'झोपडी', 'झोळी', 'टंचाई', 'टकळी', 'टक्केवारी', 'टपरी', 'टवळी', 'टवाळी', 'टांगणी', 'टाकी', 'टाचणी', 'टाळी', 'टाळेबंदी', 'टिंगलटवाळी', 'टिकली', 'टिचकी', 'टिटवी', 'टिपणी', 'टिपरी', 'टिमकी', 'टिरी', 'टेकडी', 'टेकाडी', 'टेहळणी', 'टोपली', 'टोपी', 'टोळी', 'ठोंब्या', 'डबी', 'डरकावणी', 'डाकिनी', 'डावखुऱ्या', 'डावऱ्या', 'डाहळी', 'डुलकी', 'तंगडी', 'तपासणी', 'तबकडी', 'तमक्या', 'तयारी', 'तसदी', 'तस्करी', 'तांबी', 'तागडी', 'ताटली', 'ताटी', 'ताडपत्री', 'ताडी', 'तान्ह्या', 'तान्हेल्या', 'तिजोरी', 'तिथच्या', 'तिथी', 'तिपाई', 'तिपायी', 'तिरडी', 'तिरळ्या', 'तिर्री', 'तिलांजली', 'तिवई', 'तुकडी', 'तुतारी', 'तुसड्या', 'तुळई', 'त्या', 'तेजी', 'तेजीमंदी', 'तेराव्या', 'तेवढ्या', 'त्या', 'तोडणी', 'त्रयोदशी', 'थंडी', 'थकबाकी', 'थट्टामस्करी', 'थप्पी', 'थापाड्या', 'थाळी', 'थुंकी', 'थुकी', 'थेरड्या', 'थेरडी', 'थैली', 'थोतरी', 'थोरवी', 'दंडगोलाकृती', 'दंडुकेशाही', 'दंडेली', 'दंतावली', 'दटावणी', 'दट्या', 'दडपशाही', 'दडी', 'दमडी', 'दमदाटी', 'दयेमाये', 'दरी', 'दर्पोक्ती', 'दलाली', 'दवंडी', 'दशमी', 'दाई', 'दांडगाई', 'दाढी', 'दातखिळी', 'दारूबंदी', 'दिडकी', 'दिरंगाई', 'दिवाबत्ती', 'दिवाळी', 'दीडशहाण्या', 'दीनदुबळ्या', 'दीपावली', 'दुकानदारी', 'दुतोंड्या', 'दुनियादारी', 'दुफळी', 'दुबळ्या', 'दुभागणी', 'द्विरुक्ती', 'दुरुस्ती', 'दुर्री', 'दुही', 'दृष्टी', 'देणगी', 'देवभक्ती', 'दैनंदिनी', 'द्वादशी', 'धडाडी', 'धमकावणी', 'धमकी', 'धरणी'])],\n",
       "       ['acd', 719,\n",
       "        list(['अंगतीपंगती', 'अंगुली', 'अंजली', 'अंधाऱ्या', 'अंबारी', 'अंबोशी', 'अंबोळी', 'अकसा', 'अख्ख्या', 'अग्यारी', 'अठळी', 'अडत्या', 'अडमड्या', 'अडी', 'अडीचकी', 'अडेलतट्टू', 'अणी', 'अणेली', 'अतृप्ती', 'अधल्या', 'अधुऱ्या', 'अपन्हुती', 'अपुऱ्या', 'अफिमे', 'अलीकडच्या', 'अलीकडल्या', 'अवघ्या', 'अश्रफी', 'असल्या', 'अशा', 'अशातशा', 'अस्तनी', 'अस्तुरी', 'आगलावी', 'आगळ्या', 'आगळ्यावेगळ्या', 'आग्यापिछ्या', 'आगाशी', 'आगीमाशी', 'आघाडीपिछाडी', 'आटापिटी', 'आठी', 'आडगल्ली', 'आडगिऱ्हाइकी', 'आणे', 'आरशी', 'आरी', 'आलीगेली', 'आळीपाळी', 'इकडल्या', 'इकडली', 'इटुकल्या-मिटुकल्या', 'इतक्या', 'इतक्यातितक्या', 'इतक्याशा', 'इवल्या', 'इळ्याखिळ्या', 'इक्ष्वाकू', 'उंचेली', 'उघडी', 'उघडीबागडी', 'उघडीबाघडी', 'उघडीबोडकी', 'उघडीवाघडी', 'उजखुरी', 'उजळाई', 'उट्ट्या', 'उडी', 'उण्या', 'उण्यापुऱ्या', 'उताण्यापाताण्या', 'उदकाडी', 'उधळी', 'उपटणी', 'उपडी', 'उसपणी', 'एकीकडच्या', 'एकोक्ती', 'ओकऱ्या', 'ओक्या', 'ओक्याबोक्या', 'ओझेकरी', 'ओल्या', 'ओलीसुकी', 'ओलेत्या', 'कंकणाकृती', 'कंगोरी', 'कंठी', 'कच्च्या', 'कच्च्यापक्क्या', 'कपची', 'करंडी', 'कर्ती', 'कलत्या', 'कल्याणकारी', 'कवठी', 'कसकसल्या', 'कसल्या', 'कशातरी', 'काखमांजरी', 'खाकमांजरी', 'काखोटी', 'काचोळी', 'कानोशा', 'कापऱ्या', 'काबू', 'कायशा', 'कावऱ्या', 'कावऱ्याबावऱ्या', 'कावळी', 'काळजीवाहू', 'काळ्यागोऱ्या', 'काळ्यानिळ्या', 'काळ्यासावळ्या', 'काळ्याबेऱ्या', 'कितक्या', 'कितव्या', 'कितवी', 'कितीशा', 'किरकिऱ्या', 'किरकिरी', 'किरट्या', 'किसगणती', 'खिसगणती', 'कुइरी', 'कुइली', 'कुंटणकी', 'कुकुल्या', 'कुचक्या', 'कुजक्या', 'कुजक्यानासक्या', 'कुठच्या', 'कुठल्या', 'कुढी', 'कुरळ्या', 'केवढ्या', 'केवढाल्या', 'कोंडणी', 'कोरणी', 'कोलांटी', 'कोल्हांटी', 'कोल्हाटी', 'कोल्ही', 'खंजिरी', 'खंद्या', 'खजुरी', 'खट्याळकी', 'खडशी', 'खबदडी', 'खबदाडी', 'खरपुडी', 'खाई', 'खांडेनवमी', 'खांबली', 'खाजगी', 'खाजरी', 'खायखाई', 'खाऱ्या', 'खारोटी', 'खालच्या', 'खाशा', 'खिंकाळी', 'खिटी', 'खिट्टी', 'खिलाडू', 'खुज्या', 'खुरट्या', 'खुलत्या', 'खुशालटेकडी', 'खुश्की', 'खुशकी', 'खुसपटी', 'खूशमस्करी', 'खेळत्या', 'खेळत्यारांगत्या', 'खेळीमेळी', 'खोजा', 'खोट्यानाट्या', 'खोटारडी', 'खोडी', 'खोडाळी', 'खोतकी', 'खोदाई', 'खोपटी', 'खोबणी', 'खोवणी', 'ख्याती', 'गच्छंती', 'गट्टी', 'गठडी', 'गडणी', 'गडबड्या', 'गड्डी', 'गण्या', 'गतवर्षी', 'गतसाली', 'गप्पाटप्पा', 'गबरू', 'गबाळग्रंथी', 'गल्लोगल्ली', 'गव्हाळ्या', 'गहिऱ्या', 'गळक्या', 'गळचेपी', 'गळणी', 'गाजावाजा', 'गात्या', 'गारठलेल्या', 'गारशा', 'गाली', 'गाशे', 'गिणगिण्या', 'गिनी', 'गिरकी', 'गिरदी', 'गिरी', 'गिऱ्हाइकी', 'गुंताडी', 'गुंफणी', 'गुडघी', 'गुडदी', 'गुड्डू', 'गुणवती', 'गुण्या', 'गुमास्तेगिरी', 'गुरकावणी', 'गुरक्या', 'गुलकाडी', 'गुलकावणी', 'गुलछडी', 'गुळणी', 'गुळवण्या', 'गृहस्थी', 'गेंगाण्या', 'गैबती', 'गोकर्णी', 'गोजिरवाण्या', 'गोजिऱ्या', 'गोठी', 'गोडघाश्या', 'गोडशा', 'गोड्या', 'गोडीगुलाबी', 'गोणती', 'गोदी', 'गोबऱ्या', 'गोमट्या', 'गोमाजी', 'गोमाशी', 'गोमुखी', 'गोरट्या', 'गोरटेल्या', 'गोऱ्या', 'गोऱ्यागोमट्या', 'गोऱ्यापान', 'गोऱ्यामोऱ्या', 'गोवंडी', 'गोवरी', 'गोवारी', 'ग्रंथोपजीवी', 'घडाई', 'घसरड्या', 'घाई', 'घाटी', 'घाणेरी', 'घाबऱ्या', 'घाबऱ्याघुबऱ्या', 'घामाघुमी', 'घामोळी', 'घायकुत्या', 'घासणी', 'घिरटी', 'घुगरी', 'घुमटी', 'घुम्या', 'घुशी', 'घुसाघुशी', 'घेरी', 'घोगऱ्या', 'घोटाळणी', 'घोडतोंड्या', 'चंचू', 'चंडी', 'चंद्रमा', 'चंद्रमुखी', 'चंद्रमौळी', 'चंपी', 'चंपू', 'चंबू', 'चंबूगवाळ्या', 'चकणी', 'चकली', 'चकल्या', 'चकाकी', 'चकाचकी', 'चक्रवर्तिनी', 'चक्रवाकी', 'चक्रावर्ती', 'चक्री', 'चढत्या', 'चढल्या', 'चढ्या', 'चढाई', 'चतुर्थी', 'चपट्या', 'चमकी', 'चरबी', 'चरवी', 'चराई', 'चरी', 'चर्र', 'चवरी', 'चवली', 'चवळी', 'चहाडी', 'चहात्या', 'चहूकडल्या', 'चळवळ्या', 'चाऊ', 'चांगाभांगा', 'चांगल्या', 'चांगल्याचुंगल्या', 'चांदणी', 'चांदुकली', 'चाचरी', 'चाचऱ्या', 'चाचेगिरी', 'चाती', 'चातुर्मास्यारंभ', 'चानी', 'चापटपोळी', 'चापलुसी', 'चाफेकळी', 'चारशे', 'चारशेव्या', 'चारापाण्या', 'चारोळी', 'चालत्या', 'चालत्याबोलत्या', 'चावटी', 'चावडी', 'चावऱ्या', 'चिऊ', 'चिंचोळ्या', 'चिंधडी', 'चिंधुकली', 'चिंधोटी', 'चिकट्या', 'चिकी', 'चिक्की', 'चिचुंदरी', 'चिच्छक्ती', 'चित्शक्ती', 'चिटुकला', 'चिठ्ठीचपाटी', 'चिडक्या', 'चिडचिड्या', 'चिती', 'चित्रलिपी', 'चित्राहुती', 'चित्शक्ती', 'चित्छक्ती', 'चिद्वादी', 'चिमुकल्या', 'चिमुकली', 'चिरक्या', 'चिरकी', 'चिरणी', 'चिरफळी', 'चिरेबंदी', 'चिलीपिली', 'चिल्लीपिल्ली', 'चिळकांडी', 'चीकवडी', 'चीजवस्तू', 'चिडे', 'चिळे', 'चुंफणी', 'चुकत्या', 'चुकती', 'चुकल्या', 'चुकल्यामाकल्या', 'चुगली', 'चुगलीचहाडी', 'चुणी', 'चुळबुळ्या', 'चुळके', 'चेटक्या', 'चेपा', 'चेपणी', 'चेरी', 'चेहरेपट्टी', 'चेहेरेपट्टी', 'चोंबड्या', 'चोखणी', 'चोखामेळ्या', 'चोथापाण्या', 'चोपडी', 'चोपणी', 'चोरट्या', 'चोरीमोरी', 'चोरीलबाडी', 'चौथ्या', 'चौपदी', 'चौफुली', 'चौऱ्याऐंशीव्या', 'चौसोपी', 'छत्तिशी', 'छत्तिसाव्या', 'छबकड्या', 'छबकडी', 'छबड्या', 'छबडी', 'छापणी', 'छापापाण्या', 'छिन्नी', 'छुप्या', 'छोट्या', 'छोटी', 'छोट्यामोठ्या', 'जंत्री', 'जडी', 'जडीबुट्टी', 'जनी', 'जबऱ्या', 'जमातदारी', 'जमादारी', 'जलधी', 'जवानी', 'जसल्या', 'जशा', 'जशातशा', 'जशीतशी', 'जळक्या', 'जाई', 'जांभळ्या', 'जागत्या', 'जागले', 'जाग्या', 'जाडगेल्या', 'जाडगेल्याशा', 'जाड्या', 'जाड्याजुड्या', 'जाड्याभरड्या', 'जाडी', 'जाणत्या', 'जातभाई', 'जानू', 'जान्हवी', 'जाह्नवी', 'जामदारी', 'जामीनकी', 'जायपत्री', 'जावळ्या', 'जावळ्यारावळ्या', 'जाहिरातबंदी', 'जाहिरातबाजी', 'जाळणी', 'जाळी', 'जिकडच्या', 'जिकडल्या', 'जितक्या', 'जितकाल्या', 'जितकाव्या', 'जितक्याशा', 'जित्या', 'जिथच्या', 'जिथल्या', 'जिभली', 'जिवणी', 'ज्या', 'जीवघेण्या', 'जीवितहानी', 'जुंपणी', 'जुपणी', 'जुन्यापुराण्या', 'जुलै', 'जुळवणी', 'जेथल्या', 'जेवढ्या', 'जेवढाल्या', 'जैशा', 'जोगत्या', 'झरणी', 'झांजरी', 'झाकणी', 'झाकी', 'झाडणी', 'झाडी', 'झिंजी', 'झिंझी', 'झिंजोटी', 'झिंझोटी', 'झिडकारणी', 'झिणझिणी', 'झिपरी', 'झिरमिरी', 'झिरमिळी', 'झिळमिळी', 'झुकत्या', 'झुकांडी', 'झोकांडी', 'झुरणी', 'झुलकावणी', 'झुलणी', 'झुलत्या', 'झुलवाझुलवी', 'झेलणी', 'झोंबऱ्या', 'झोंबी', 'झोटिंगपातशाही', 'झोटिंगपादशाही', 'झोटिंगशाही', 'टकमकी', 'टणकाई', 'टपोऱ्या', 'टरकी', 'टवळे', 'टवाळकी', 'टहाळी', 'टांगत्या', 'टिर्री', 'टिवलीबावली', 'टुकणी', 'टुचकुली', 'टेंबी', 'टेंभी', 'टोकरी', 'टोचणी', 'टोणगी', 'ट्रामगाडी', 'ठकव्या', 'ठकाठकी', 'ठकी', 'ठासणी', 'ठिकरी', 'ठिणगी', 'ठुंबरी', 'ठुमरी', 'ठुशी', 'ठेंगण्या', 'ठेंगण्याठुसक्या', 'ठेकेदारी', 'ठोकणी', 'डगमगत्या', 'डफरी', 'डफडी', 'डरकाळी', 'डरावणी', 'डागणी', 'डायनामो', 'डावखोऱ्या', 'डाव्याउजव्या', 'डिंगरी', 'डिकऱ्या', 'डुकरी', 'डुक्करमुसंडी', 'डुबकी', 'डुरकणी', 'डुरकावणी', 'डुलत्या', 'डोई', 'डोंगरी', 'डोलकाठी', 'डोली', 'ढकली', 'ढगाळलेल्या', 'ढबुल्या', 'ढमढेऱ्या', 'ढमाल्या', 'ढळत्या', 'ढाण्या', 'ढासणी', 'ढिल्या', 'ढुमणी', 'ढुशी', 'ढुसकणी', 'ढुसकी', 'ढुसणी', 'ढेकळी', 'ढेकुळी', 'ढेरपोट्या', 'ढेरी', 'ढोण्या', 'ढोलकी', 'ढोली', 'ढोसणी', 'तंगड्या', 'तंबी', 'तंबोरी', 'तख्तपोशी', 'तगड्या', 'तटबंदी', 'तटिनी', 'तट्टाणी', 'तडतड्या', 'तडसणी', 'तन्मणी', 'तन्वंगी', 'तरण्या', 'तरण्याताठ्या', 'तरण्याबांड', 'तरत्या', 'तरत्याबुडत्या', 'तरू', 'तर्कू', 'तर्जनी', 'तसल्या', 'तसल्याशा', 'तशा', 'तसू', 'तहसीलदारी', 'तहानेल्या', 'तहानलेल्या', 'तळणी', 'तांबडया', 'ताकड्यातुकड्या', 'ताज्या', 'तातोबा', 'तात्पुरत्या', 'तालू', 'तासणी', 'तिकडच्या', 'तिकडल्या', 'तिढी', 'तितक्या', 'तितक्याल्या', 'तितक्याव्या', 'तितक्याशा', 'तितुक्या', 'तिथल्या', 'तिरक्या', 'तिरपगड्या', 'तिरप्या', 'तिरमिरी', 'तिरिमिरी', 'तिरळी', 'तिसड्या', 'तिसऱ्या', 'तीनशेव्या', 'तीर्थावळी', 'तुंबडी', 'तुटक्या', 'तुटक्याफुटक्या', 'तुटी', 'तुती', 'तुरटी', 'तेढ्या', 'तेरा', 'तोंडली', 'तोंडल्या', 'त्रिमूर्ती', 'त्र्याऐंशीव्या', 'थंड्या', 'थंडी', 'थंडाई', 'थापटी', 'थापडी', 'थापाडी', 'थापी', 'थिट्या', 'थोट्या', 'थोटी', 'थोडक्या', 'थोड्या', 'थोडी', 'थोड्याथोडक्या', 'दंडादंडी', 'दंताळ्या', 'दगडी', 'दबक्या', 'दर्दी', 'दश्शी', 'दस्तुरी', 'दहेल्ली', 'दांडग्या', 'दाणी', 'दात्री', 'दायजी', 'दिपवाळी', 'दिमडी', 'दिवान्या', 'दुकट्या', 'दुखऱ्या', 'दुगाणी', 'दुजा', 'दुण्या', 'दुबळी', 'दुरडी', 'दुर्मुखल्या', 'दुर्मुखलेल्या', 'दुर्वृत्ती', 'दुलई', 'दुसरी', 'दूती', 'दूधखुळ्या', 'दूधपित्या', 'देखण्या', 'देवभोळी', 'देवळी', 'दोडकी', 'दोनशेव्या', 'द्रष्ट्या', 'द्विरुक्ती', 'द्वेष्ट्या', 'धक्काबुक्की', 'धट्ट्याकट्ट्या', 'धडक्या', 'धडपड्या', 'धडशा', 'धनगरकी', 'धनत्रयोदशी', 'धनदांडग्या', 'धनार्थ्या', 'धनुकली', 'धनुर्धारी', 'धनू', 'धमणी', 'धमनी'])],\n",
       "       ['f', 1648,\n",
       "        list(['अंकगणित', 'अंकन', 'अंकुर', 'अंकुरण', 'अंकुश', 'अंग', 'अंगण', 'अंगवस्त्र', 'अंगविक्षेप', 'अंगार', 'अंजन', 'अंजीर', 'अंड', 'अंडाशय', 'अंत', 'अंतःकरण', 'अंतःपुर', 'अंतर', 'अंतरंग', 'अंतरपाट', 'अंतराळ', 'अंतरिक्ष', 'अंतरीक्ष', 'अंतर्गृह', 'अंतर्द्वार', 'अंतर्वस्त्र', 'अंत्यकर्म', 'अंत्र', 'अंदाज', 'अंदाजपत्रक', 'अंध', 'अंबर', 'अंबवण', 'अंबुज', 'अंबोण', 'अंमलदार', 'अंश', 'अकिक', 'अक्रोड', 'अखत्यार', 'अग्निकुंड', 'अग्निदिव्य', 'अग्निहोत्र', 'अग्र', 'अग्रभाग', 'अग्रलेख', 'अजगर', 'अजमास', 'अजिन', 'अठ्ठावन्न', 'अठ्ठावन', 'अठ्ठेचाळिस', 'अठ्ठ्याण्णव', 'अठ्ठ्याहत्तर', 'अडत', 'अडसर', 'अढळपद', 'अणुयुद्ध', 'अण्वस्त्र', 'अतिक्रमण', 'अतिप्रसंग', 'अतिशूद्र', 'अत्तर', 'अत्याचार', 'अदमास', 'अधिकार', 'अधिकारिवर्ग', 'अधिदैवत', 'अधिनियम', 'अधिवेशन', 'अधिष्ठान', 'अधीक्षक', 'अध्ययन', 'अध्यक्ष', 'अध्यादेश', 'अध्यापक', 'अध्याय', 'अननस', 'अनन्वय', 'अनाथालय', 'अनावरण', 'अनाहूत', 'अनियतकालिक', 'अनुकरण', 'अनुक्रम', 'अनुक्रमांक', 'अनुदान', 'अनुनासिक', 'अनुप्रास', 'अनुबंध', 'अनुभव', 'अनुमान', 'अनुमोदक', 'अनुमोदन', 'अनुवाद', 'अनुवादक', 'अनुष्ठान', 'अनुस्वार', 'अनेकवचन', 'अनौचित्य', 'अन्न', 'अन्यदेशीय', 'अन्याय', 'अन्वय', 'अन्वस्त', 'अपंग', 'अपंगत्व', 'अपंगालय', 'अपकर्ष', 'अपकार', 'अपघात', 'अपथ्य', 'अपमान', 'अपयश', 'अपराध', 'अपरिचित', 'अपवाद', 'अपशब्द', 'अपहरण', 'अपहार', 'अपहृत', 'अपाय', 'अपास्त', 'अपूर्णांक', 'अब्रूदार', 'अभंग', 'अभिधान', 'अभिनंदन', 'अभिप्राय', 'अभिभाषण', 'अभियोग', 'अभिवचन', 'अभिवादन', 'अभिषेक', 'अभिषेकपात्र', 'अभीष्टचिंतक', 'अभ्यागत', 'अभ्यास', 'अभ्यासक्रम', 'अभ्रक', 'अमसुल', 'अयन', 'अरण्य', 'अरसिक', 'अरविंद', 'अरसिक', 'अरिनिर्दालन', 'अरिष्ट', 'अरुणोदय', 'अरेराव', 'अर्क', 'अर्घ्य', 'अर्जन', 'अर्थ', 'अर्थशास्त्र', 'अर्थसंकल्प', 'अर्थांतरन्यास', 'अर्थान्त', 'अर्धवर्तुळ', 'अर्बुद', 'अर्भक', 'अर्श', 'अलंकार', 'अलगीकरण', 'अलगुज', 'अलुतेदार', 'अल्कोहॉल', 'अल्पोपाहार', 'अवकाश', 'अवकाशयान', 'अवगुण', 'अवजार', 'अवतरण', 'अवतार', 'अवधान', 'अवमूल्यन', 'अवयव', 'अवरोध', 'अवर्षण', 'अवलंबन', 'अवलक्षण', 'अवलोकन', 'अवशेष', 'अविचार', 'अविवाहित', 'अव्यय', 'अव्ययीभाव', 'अशिक्षित', 'अशौच', 'अश्व', 'अश्विन', 'अश्विनीकुमार', 'अष्टक', 'अष्टकोन', 'अष्टमांश', 'असंतुष्ट', 'आसुर', 'अस्तर', 'अस्तित्व', 'अस्त्र', 'अस्थिपंजर', 'अस्वल', 'अहवाल', 'अहेर', 'अक्ष', 'अक्षर', 'अक्षांश', 'अज्ञातवास', 'आंतरराष्ट्रीयीकरण', 'आंत्र', 'आंदोलक', 'आंदोलन', 'आकर्षण', 'आकार', 'आकारमान', 'आकाशक', 'आकाशदीप', 'आकृतिबंध', 'आक्रंदन', 'आक्रमण', 'आक्रोश', 'आखात', 'आख्यान', 'आगंतुक', 'आगार', 'आघात', 'आचमन', 'आचरण', 'आचार', 'आचारविचार', 'आचार्य', 'आच्छादन', 'आजार', 'आड', 'आडदिवस', 'आडनाव', 'आडमार्ग', 'आडवार', 'आतेभाव', 'आत्मचरित्र', 'आत्मवृत्त', 'आदर्श', 'आदिअंत', 'आदित्य', 'आदिपुरुष', 'आदिमानव', 'आदेश', 'आधण', 'आधार', 'आधुनिकत्व', 'आधुनिकीकरण', 'आन्हिक', 'आप्त', 'आभार', 'आमंत्रक', 'आमंत्रण', 'आमंत्रित', 'आमदार', 'आमरस', 'आमिष', 'आम्ल', 'आयात', 'आयुध', 'आयोग', 'आरंभ', 'आरमार', 'आरसेमहाल', 'आरक्षण', 'आरोप', 'आर्य', 'आलय', 'आलिंगन', 'आलेख', 'आलेखन', 'आवरण', 'आवर्त', 'आवर्तन', 'आवाज', 'आवार', 'आवाहन', 'आविर्भाव', 'आवेदन', 'आव्हान', 'आशिष', 'आशीर्वचन', 'आशीर्वाद', 'आश्रम', 'आश्रित', 'आश्चर्य', 'आश्वासन', 'आश्विन', 'आषाढ', 'आसड', 'आसन', 'आसुर', 'आसव', 'आसुड', 'आस्तिक', 'आस्वाद', 'आहार', 'आळ', 'आक्षेप', 'इंगित', 'इंग्रज', 'इंच', 'इंजिन', 'इंद्रधनुष्य', 'इंद्रिय', 'इंधन', 'इच्छांक', 'इच्छाफल', 'इच्छुक', 'इतिकर्तव्य', 'इतिहास', 'इनाम', 'इनामदार', 'इनामपत्र', 'इमाम', 'इयत्तीकरण', 'इलाज', 'इष्ट', 'इसम', 'इस्पितळ', 'ईप्सित', 'उंचाड', 'उंट', 'उंदर', 'उंबर', 'उःशाप', 'उखळ', 'उगम', 'उच्चांक', 'उच्चाटन', 'उच्चायुक्त', 'उच्चार', 'उच्चारक', 'उच्चारण', 'उच्छ्वास', 'उठाव', 'उडिद', 'उडद', 'उड्डाण', 'उतार', 'उतारचढ', 'उत्कर्ष', 'उत्खनन', 'उत्तर', 'उत्तरदायित्व', 'उत्तरप्रत्त्युत्तर', 'उत्तरार्ध', 'उत्तरीय', 'उत्तेजन', 'उत्थापक', 'उत्पन्न', 'उत्पल', 'उत्पात', 'उत्पादन', 'उत्सव', 'उदय', 'उदर', 'उदात्तीकरण', 'उदासिनीकरण', 'उदासीकरण', 'उदाहरण', 'उदीम', 'उद्गम', 'उद्गार', 'उद्घाटक', 'उद्घाटन', 'उद्घोषक', 'उद्दिष्ट', 'उद्दीपन', 'उद्देश', 'उद्देश्य', 'उद्धरण', 'उद्धारक', 'उद्यम', 'उद्यान', 'उद्यापन', 'उद्योग', 'उद्योगीकरण', 'उद्रेक', 'उद्वाहक', 'उद्वाहन', 'उन्मार्ग', 'उन्ह', 'उपउत्पादन', 'उपकरण', 'उपकार', 'उपक्रम', 'उपखंड', 'उपग्रह', 'उपचार', 'उपटसुंभ', 'उपदेश', 'उपदेशक', 'उपद्रव', 'उपद्व्याप', 'उपनगर', 'उपनयन', 'उपपद', 'उपमेय', 'उपयोग', 'उपयोजन', 'उपवन', 'उपवस्र', 'उपवास', 'उपसंहार', 'उपसर्ग', 'उपसागर', 'उपसाधन', 'उपहार', 'उपहासक', 'उपांग', 'उपाख्यान', 'उपाध्यक्ष', 'उपाध्याय', 'उपाय', 'उपास', 'उपासक', 'उपासतापास', 'उपास्य', 'उपोद्घात', 'उपोषण', 'उभयपक्ष', 'उमराव', 'उमेदवार', 'उल्लंघन', 'उल्लेख', 'उश्वास', 'उष्टावण', 'उष्णतामापक', 'उन्ह', 'ऋकार', 'ऋण', 'ऋणनिर्देश', 'ऋणानुबंध', 'ऋषभ', 'एंजिन', 'एकक', 'एकत्रीकरण', 'एकत्व', 'एकवचन', 'एकांश', 'एकीकरण', 'एतद्देशीय', 'एरंड', 'एलगार', 'ओघ', 'ओघळ', 'ओझर', 'ओटीपोट', 'ओठ', 'ओम्कार', 'ॐकार', 'ओलिस', 'ओहोळ', 'ऑक्सिडीकरण', 'ऑक्सिडीभवन', 'औंस', 'औचित्य', 'औत', 'औदुंबर', 'औद्याेगिकीकरण', 'औषध', 'औषधोपचार', 'कंकण', 'कंकर', 'कंकाल', 'कंटक', 'कंठ', 'कंत्राट', 'कंत्राटदार', 'कंद', 'कंदर', 'कंपन', 'कंपित्र', 'कंबळ', 'कंस', 'कचाट', 'कज्जेदलाल', 'कट', 'कटकारस्थान', 'कटाक्ष', 'कटिबंध', 'कटिसूत्र', 'कडधान्य', 'कडुनिंब', 'कढ', 'कढण', 'कढीनिंब', 'कढीलिंब', 'कण', 'कथन', 'कथाकथन', 'कथाकार', 'कथानक', 'कद', 'कदंब', 'कदम', 'कप', 'कपट', 'कपाट', 'कपाळ', 'कपोल', 'कफन', 'कबरस्तान', 'कबिलेदार', 'कबुतर', 'कबुलीजबाब', 'कमळ', 'कम्युनिस्ट', 'कयास', 'कर', 'करंडक', 'करण', 'करतल', 'करपल्लव', 'करवंद', 'करवीर', 'करार', 'करारमदार', 'करुणाकार', 'कर्क', 'कर्कटक', 'कर्ज', 'कर्जदार', 'कर्ण', 'कर्णधार', 'कर्णपटल', 'कर्तरिप्रयोग', 'कर्तव्य', 'कर्तृत्व', 'कर्म', 'कर्मकांड', 'कर्मचारिवर्ग', 'कर्मणिप्रयोग', 'कर्मेंद्रिय', 'कलंक', 'कलंदर', 'कलन', 'कलप', 'कलम', 'कलश', 'कलह', 'कलाकार', 'कलावंत', 'कलिंगड', 'कलिपुरुष', 'कलुष', 'कलेवर', 'कल्प', 'कल्पद्रुम', 'कल्हईगार', 'कवंडळ', 'कवक', 'कवच', 'कवट', 'कवठ', 'कवतिक', 'कवतुक', 'कौतुक', 'कवन', 'कवाड', 'कष्ट', 'कसपट', 'कस्तूरीमृग', 'कळप', 'कळस', 'कळसूत्र', 'कक्ष', 'कांड', 'कांडण', 'कांडप', 'कागद', 'कागदपत्र', 'काज', 'काजळ', 'काटकोन', 'काठ', 'काडतुस', 'कातळ', 'कादंबरीकार', 'कान', 'कानमंत्र', 'काप', 'कापट्य', 'कापड', 'कापडचोपड', 'काबाड', 'काबाडकष्ट', 'काम', 'कामगार', 'कामचुकार', 'कायदेपंडित', 'कायदेमंडळ', 'कायस्थ', 'कारंड', 'कारखानदार', 'कारण', 'कारभार', 'कारवान', 'कारस्थान', 'कारागृह', 'कारावास', 'कार्ड', 'कार्तिक', 'कार्य', 'कार्यक्रम', 'कार्यवाह', 'कार्याध्यक्ष', 'कार्यालय', 'कालखंड', 'कालमापन', 'कालवण', 'काव्य', 'काष्ठ', 'कासव', 'कासार', 'किंजदल', 'किंतान', 'किताब', 'किन्नर', 'किमयागार', 'किरण', 'किरवंत', 'किरात', 'किरीट', 'किल्मिष', 'किल्लेदार', 'किशोर', 'किसणकाम', 'किसान', 'कीटक', 'कीर्तन', 'कीर्तनकार', 'कुंज', 'कुंड', 'कुंडल', 'कुंतल', 'कुंपण', 'कुंभ', 'कुंभकार', 'कुंभकर्ण', 'कुंभार', 'कुकर', 'कुकर्म', 'कुकुबाळ', 'कुक्कुट', 'कुच', 'कुचाग्र', 'कुटण', 'कुटीर', 'कुटीरोउद्योग', 'कुटुंब', 'कुटुंबीय', 'कुतर्क', 'कुतूहल', 'कुदिन', 'कुपंथ', 'कुपथ्य', 'कुपन', 'कुपुत्र', 'कुबड', 'कुबेर', 'कुभांड', 'कुमार', 'कुमार्ग', 'कुमुद', 'कुयोग', 'कुरण', 'कुराण', 'कुरुक्षेत्र', 'कुर्निसात', 'कुल', 'कुलक्षण', 'कुलाचार', 'कुळाचार', 'कुलोपाध्याय', 'कुसंतान', 'कुसपट', 'कुसळ', 'कुसुम', 'कुस्वभाव', 'कुट', 'कूप', 'कूर्म', 'कृतिसत्र', 'कृत्य', 'कृदंत', 'कृषिकर्म', 'कृष्णकमळ', 'केंद्र', 'केंद्रीकरण', 'केकराव', 'केदार', 'केशकर्तनालय', 'केशसंभार', 'केशाकर्षण', 'केस', 'केळवण', 'कॅथलिक', 'कैवल्य', 'कोंदण', 'कोंब', 'कोकणस्थ', 'कोकम', 'कोच', 'कोट', 'कोटिकोन', 'कोट्यधीश', 'कोठार', 'कोड', 'कोडकौतुक', 'कोतवाल', 'कोन', 'कोनफळ', 'कोनमापक', 'कोपर', 'कोश', 'कोष', 'कोशकार', 'कोषकार', 'कोषागार', 'कोशागार', 'कोशाध्यक्ष', 'कोषाध्यक्ष', 'कोष्टक', 'कोष्ठ', 'कोस', 'कोळिष्टक', 'कौतुक', 'कवतुक', 'कौल', 'कौशल्य', 'कौस्तुभ', 'क्रम', 'क्रमांक', 'क्रांतिकारक', 'क्रियापद', 'क्रियाविशेषण', 'क्रीडांगण', 'क्रीडागार', 'क्रौंच', 'क्रौर्य', 'क्लिष्टार्थ', 'क्लेश', 'खंड', 'खंदक', 'खग', 'खच', 'खच्चीकरण', 'खजिनदार', 'खटाटोप', 'खडक', 'खडाष्टक', 'खडूग', 'खण', 'खत', 'खनन', 'खनिज', 'खबदाड', 'खरेदीदार', 'खर्च', 'खर्व', 'खल', 'खरनायक', 'खलबत', 'खळगट', 'खळाळ', 'खांड', 'खांब', 'खाद्यपदार्थ', 'खान', 'खानदान', 'खापर', 'खाविंद', 'खासदार', 'खिंडार', 'खिदमतगार', 'खिल्लार', 'खुंट', 'खुदावंत', 'खुद्द', 'खुराक', 'खुसपट', 'खेचर', 'खेटर', 'खेडेगाव', 'खेम', 'खेमालिंगन', 'क्षेमालिंगन', 'खेळ', 'खोंड', 'खोकड', 'खोकाड', 'खोगिर', 'खोत', 'खोपट', 'ख्रिश्चन', 'ख्रिस्त', 'ख्रिस्मस', 'गंगावन', 'गंगोदक', 'गंड', 'गंडस्थळ', 'गंडांतर', 'गंध', 'गंधर्व', 'गगन', 'गज', 'गजब', 'गजर', 'गजराज', 'गजानन', 'गट', 'गटार', 'गड', 'गणंग', 'गण', 'गणक', 'गणकयंत्र', 'गणन', 'गणनायक', 'गणपतिपूजन', 'गणराज्य', 'गणराज्यदिन', 'गणवेश', 'गणाधीश', 'गणित', 'गणिततज्ज्ञ', 'गणितज्ञ', 'गणेश', 'गणेशोत्सव', 'गतायुष्य', 'गतिरोध', 'गतिरोधक', 'गतिवर्धक', 'गत्यंतर', 'गदाधर', 'गप्पाष्टक', 'गप्पिष्ट', 'गम', 'गमक', 'गमन', 'गर', 'गरगट', 'गरुड', 'गरुडध्वज', 'गर्जन', 'गर्दभ', 'गर्भ', 'गर्भपात', 'गर्भाशय', 'गर्भितार्थ', 'गर्व', 'गलबत', 'गल्लीबोळ', 'गवय', 'गवत', 'गवाक्ष', 'गहाणखत', 'गळफास', 'गाकर', 'गाजर', 'गाडीवान', 'गाढव', 'गात्र', 'गान', 'गाभ', 'गायक', 'गायन', 'गारुड', 'गाल', 'गालगुंड', 'गालफड', 'गालबोट', 'गाव', 'गावगुंड', 'गावठण', 'गावठाण', 'गाळ', 'गिधाड', 'गिरिकंदर', 'गिर्यारोहण', 'गुंजन', 'गुंजराव', 'गुंड', 'गुग्गळ', 'गुच्छ', 'गुज', 'गुण', 'गुणक', 'गुणधर्म', 'गुणन', 'गुणलक्षण', 'गुणवंत', 'गुणविशेष', 'गुणसूत्र', 'गुणांक', 'गुणाकार', 'गुणिजन', 'गुणोत्तर', 'गुण्यांक', 'गुद', 'गुदद्वार', 'गुदाम', 'गुन्हेगार', 'गुपित', 'गुप्तचर', 'गुरव', 'गुरुकुल', 'गुरुत्व', 'गुरुत्वाकर्षण', 'गुरुपुष्यामृत', 'गुर्जर', 'गुऱ्हाळ', 'गुलमोहोर', 'गुलाब', 'गुलाम', 'गुढार्थ', 'गृह', 'गृहपाठ', 'गृहस्थ', 'गृहीत', 'गृहीतक', 'गृहोद्योग', 'गेंद', 'गोंड', 'गोंद', 'गोंदवण', 'गोंधळ', 'गोकर्ण', 'गोग्रास', 'गोट', 'गोठ', 'गोठणांक', 'गोणपाट', 'गोत्र', 'गोदान', 'गोदाम', 'गोधन', 'गोप', 'गोपाल', 'गोपाळ', 'गोपुर', 'गोफ', 'गोबर', 'गोमुख', 'गोमेद', 'गोरख', 'गोरजमुहूर्त', 'गोरस', 'गोरक्षक', 'गोल', 'गोलंदाज', 'गोलक', 'गोलार्ध', 'गोवैद्य', 'गोळीबार', 'गौड', 'गौडबंगाल', 'गौडसारस्वत', 'गौणत्व', 'गौरव', 'ग्रंथ', 'ग्रंथकार', 'ग्रथन', 'ग्रह', 'ग्रहण', 'ग्राम', 'ग्रामस्थ', 'ग्रामिणीकरण', 'ग्राहक', 'ग्रीष्म', 'घंगाळ', 'घटक', 'घटस्फोट', 'घटित', 'घड', 'घड्याळ', 'घण', 'घनइंच', 'घनफळ', 'घनवर्ग', 'घनीकरण', 'घनीभवन', 'घबाड', 'घमघमाट', 'घरदार', 'घर्षण', 'घर्षणांक', 'घश', 'घात', 'घातपात', 'घातांक', 'घाव', 'घावन', 'घास', 'घुंगट', 'घुबड', 'घुमट', 'घुमटाकार', 'घुसखोर', 'घेर', 'घेराव', 'घोंगाण', 'घोडदळ', 'घोणस', 'घोर', 'घोव', 'घोष', 'घोस', 'घोळ', 'घोळण', 'घ्राण', 'घ्राणेंद्रिय', 'चंग', 'चंगळवाद', 'चंचुपात्र', 'चंचुप्रवेश', 'चंडोल', 'चंदन', 'चंद्र', 'चंद्रकांत', 'चंद्रकिरण', 'चंद्रबिंब', 'चंद्रहास', 'चंद्रोदय', 'चंपक', 'चकार', 'चकोर', 'चक्र', 'चक्रधर', 'चक्रवाक', 'चक्रवात', 'चक्रव्यूह', 'चक्रिवात', 'चक्रीवादळ', 'चघळ', 'चढ', 'चढउतार', 'चढाव', 'चतकर', 'चतुर', 'चतुरंग', 'चतुरस्र', 'चतुर्थांश', 'चतुर्मास', 'चतुर्मासारंभ', 'चतुष्कोण', 'चतुष्टय', 'चमत्कार', 'चर', 'चरक', 'चरित', 'चरित्र', 'चरित्रकार', 'चर्चासत्र', 'चर्म', 'चर्मकार', 'चर्वण', 'चऱ्हाट', 'चलचित्र', 'चलच्चित्र', 'चलचित्रण', 'चलच्चित्रण', 'चलच्चित्रपट', 'चलन', 'चषक', 'चळ', 'चांग', 'चांगदेव', 'चांडाळ', 'चांद्रमास', 'चांभार', 'चाक', 'चाकर', 'चाकवत', 'चाटण', 'चाणक्य', 'चातक', 'चातुर्मास्य', 'चातुर्य', 'चाप', 'चापल्य', 'चारखंड', 'चार्वाक', 'चालक', 'चिंतक', 'चिकटवण', 'चिकित्सक', 'चिकित्सालय', 'चिखल', 'चिघळ', 'चिटणिस', 'चितळ', 'चित्त', 'चित्र', 'चित्रकार', 'चित्रगुप्त', 'चित्रण', 'चित्रपट', 'चित्रान्न', 'चित्रीकरण', 'चिन्ह', 'चिह्न', 'चिन्हक', 'चिह्नक', 'चिपाड', 'चिरंजीव', 'चिराग', 'चिलखत', 'चिलट', 'चीत्कार', 'चुंबक', 'चुंबकत्व', 'चुंबकीकरण', 'चुंबन', 'चुनखडक', 'चुलाण', 'चूर्ण', 'चूषक', 'चेतनीकरण', 'चेतवण', 'चेष्टित', 'चैत्य', 'चैत्र', 'चैत्रांगण', 'चोपदार', 'चोबदार', 'चोर', 'चोषण', 'चौक', 'चौकीदार', 'चौकोन', 'चौमास', 'चौरंग', 'चौरस', 'चौर्य', 'चौसार', 'छंद', 'छचोर', 'छटाक', 'छत', 'छत्र', 'छदाम', 'छद्म', 'छद्मावरण', 'छल', 'छळ', 'छाट', 'छाताड', 'छात्र', 'छात्रालय', 'छाप', 'छायाचित्र', 'छायाचित्रण', 'छिद्र', 'छिद्रक', 'छिद्रण', 'छिन्न', 'छिट', 'छेद', 'छेदक', 'छेदन', 'जंगल', 'जंजाळ', 'जंत', 'जंतर', 'जंतरमंतर', 'जंतुनाशक', 'जग', 'जगत', 'जगत्पालक', 'जगदीश', 'जगदीश्वर', 'जगन्नाथ', 'जगन्नायक', 'जगन्मित्र', 'जघन', 'जटाभार', 'जठर', 'जठराशय', 'जडत्व', 'जडत्वाकर्षण', 'जडांश', 'जडान्न', 'जडाव', 'जतन', 'जन', 'जनक', 'जनकत्व', 'जनन', 'जननेंद्रिय', 'जनस्थान', 'जनार्दन', 'जनावर', 'जनित्र', 'जनुक', 'जन्म', 'जन्मदिन', 'जन्मदिवस', 'जन्मस्थान', 'जप', 'जपजाप्य', 'जपतप', 'जप्तीदार', 'जबाब', 'जमाखर्च', 'जमातदार', 'जमादार', 'जमानतदार', 'जमाव', 'जमीनदार', 'जय', 'जयघोष', 'जयजयकार', 'जल', 'जलतरंग', 'जलमार्ग', 'जलसिंचन', 'जलाद', 'जलाशय', 'जलोद्यान', 'जल्लोश', 'जव', 'जवान', 'जहागीरदार', 'जहाज', 'जळण', 'जळमट', 'जळित', 'जागर', 'जागरण', 'जाच', 'जाजम', 'जाड्य', 'जातिभेद', 'जादूगार', 'जामदार', 'जामीनदार', 'जायफळ', 'जार', 'जारण', 'जारणमारण', 'जावळ', 'जाळ', 'जिन्नस', 'जिराफ', 'जिल्हेदार', 'जिव्हाग्र', 'जिह्वाग्र', 'जीर्णोद्धार', 'जीवदान', 'जीवन', 'जीवनमान', 'जीवनसत्त्व', 'जीवनोपाय', 'जीवाश्म', 'जीवित', 'जुगार', 'जुनेर', 'जुलाब', 'जुलम', 'जेवण', 'जेवणखाण', 'जैत', 'जैन', 'जोखड', 'जोडीदार', 'जोत', 'जोर', 'ज्येष्ठ', 'ज्योतिर्लिंग', 'ज्योतिर्विद', 'ज्वर', 'ज्वलन', 'ज्वलनांक', 'झंकार', 'झंझावात', 'झणकार', 'झणत्कार', 'झाकण', 'झाड', 'झिंगट', 'झिडकार', 'झुंबर', 'झुरळ', 'झेंगट', 'झेल', 'झोंबट', 'झोटिंग', 'झोत', 'झोळ', 'टंक', 'टंकलेखन', 'टक', 'टणत्कार', 'टन', 'टप', 'टपाल', 'टरफल', 'टरबुज', 'टाक', 'टाचण', 'टाळ', 'टिंब', 'टिकाव', 'टिनपाट', 'टिपण', 'टीकाकार', 'टीपकागद', 'टेकण', 'टेकण', 'टेकाड', 'टेबल', 'टोकन', 'टोप', 'टोपण', 'टोपणनाव', 'टोपपदर', 'टोळ', 'टोळभैरव', 'टोळीयुद्ध', 'ठक', 'ठकार', 'ठग', 'ठणठणपाळ', 'ठराव', 'ठाण', 'ठाणेकर', 'ठाणेदार', 'ठाव', 'ठावठिकाण', 'ठिकाण', 'ठिगळ', 'ठेकेदार', 'ठेवीदार', 'डंख', 'डकवण', 'डफ', 'डांबर', 'डाग', 'डाव', 'डावपेच', 'डास', 'डाळिंब', 'डिंक', 'डिंडिम', 'डिंभ', 'ढेकळ', 'डेख', 'डोंगर', 'डोंबल', 'डोल', 'डोलकर', 'डोलखांब', 'डोह', 'डोळ', 'डौल', 'ढंग', 'ढग', 'ढाळ', 'ढुंगण', 'ढोंग', 'ढोक', 'ढोपर', 'ढोर', 'ढोल', 'ढोलक', 'तंत्र', 'तख्त', 'तञ्ज्ञ', 'तट', 'तण', 'तणाव', 'तत्त्व', 'तत्त्वज्ञान', 'तत्पुरुष', 'तथ्य', 'तथ्यांश', 'तन', 'तनमन', 'तनुज', 'तप', 'तपःसामर्थ्य', 'तपमान', 'तापमान', 'तपाचरण', 'तपास', 'तपोबल', 'तपोवन', 'तबक', 'तरंग', 'तरकट', 'तरट', 'तरणोपाय', 'तरस', 'तरुण', 'तर्क', 'तर्कट', 'तलाव', 'तवंग', 'तस्कर', 'तह', 'तहशीलदार', 'तहसीलदार', 'तळ', 'तळघर', 'तळण', 'तळतळाट', 'तळहात', 'तांडेल', 'तांत्रिक', 'तांबट', 'ताग', 'ताज', 'ताट', 'ताड', 'ताडन', 'ताडमाड', 'ताण', 'ताणतणाव', 'तात', 'तात्पर्य', 'ताप', 'ताबुत', 'ताबेदार', 'ताम्रपट', 'ताम्हन', 'तारक', 'तारण', 'तारांगण', 'ताल', 'तावदान', 'तास', 'ताळेबंद', 'तिखट', 'तिघड', 'तिजवर', 'तिजोर', 'तिथिक्षय', 'तिरंदाज', 'तिरशिंगराव', 'तिरस्कार', 'तिऱ्हाइत', 'तिलक', 'तीर', 'तीर्थ', 'तीर्थक्षेत्र', 'तीर्थाटन', 'तीर्थोदक', 'तुंड', 'तुरुंग', 'तुरुंगवास', 'तुषार', 'तृणांकुर', 'तृतीयांश', 'तेल', 'तोरण', 'त्याग', 'त्रय', 'त्रिकोण', 'त्रिदोष', 'त्रिभुवन', 'त्रैमासिक', 'त्रैराशिक', 'थंडीताप', 'थर', 'थान', 'थुत्कार', 'थूत्कार', 'थैमान', 'थोटक', 'थोतांड', 'थोबाड', 'दंड', 'दंडक', 'दंडगोल', 'दंडवत', 'दंत', 'दंश', 'दगड', 'दगडबिगड', 'दडपण', 'दत्तकविधान', 'दत्तक', 'दत्तात्रेय', 'दफन', 'दबाव', 'दर', 'दरवान', 'दरवेश', 'दरोडेखोर', 'दर्प', 'दर्पण', 'दर्भ', 'दर्भासन', 'दर्शक', 'दर्शन', 'दल', 'दलाल', 'दलित', 'दशक', 'दशांश', 'दशावतार', 'दस्तऐवज', 'दळण', 'दळणावळण', 'दांपत्य', 'दात', 'दातृत्व', 'दादर', 'दान', 'दानाध्यक्ष', 'दाब', 'दाभण', 'दाम', 'दायित्व', 'दालन', 'दावेदार', 'दास', 'दासत्व', 'दासीपुत्र', 'दास्य', 'दिंड', 'दिगंतर', 'दिगंबर', 'दिग्गज', 'दिग्दर्शक', 'दिग्दर्शन', 'दिग्विजय', 'दिन', 'दिवस', 'दिवाण', 'दिवास्वप्न', 'दिवाळखोर', 'दिवाळसण', 'दिव्य', 'दीननाथ', 'दीप', 'दीपक', 'दीपदान', 'दीपपूजन', 'दापोत्सव', 'दीर्घायुष्य', 'दुःख', 'दुःखान्त', 'दुःशाप', 'दुश्शाप', 'दुःस्वप्न', 'सुस्स्वप्न', 'दुकान', 'दुकानदार', 'दुग्धालय', 'दुढ्ढाचार्य', 'दुभाजक', 'दुमत', 'दुराचरण', 'दुरित', 'दुरुत्तर', 'दुर्ग', 'दुर्गंध', 'दुर्गुण', 'दुर्जन', 'दुर्दिन', 'दुर्दिवस', 'दुर्लक्षण', 'दुर्वास', 'दुर्विपाक', 'दुर्व्यवहार', 'दुर्व्यसन', 'दुश्मन', 'दुश्चिन्ह', 'दुष्कर्म', 'दुष्काळ', 'दुष्काळग्रस्त', 'दुष्कृत्य', 'दूत', 'दूतावास', 'दूर्वांकुर', 'दूषण', 'दृष्टान्त', 'दृष्टिकोण', 'दृष्टिभ्रम', 'दृष्टिक्षेप', 'दृष्टीकोन', 'देकार', 'देठ', 'देणगीदार', 'देयक', 'देवक', 'देवदूत', 'देवस्थान', 'देवाधिदेव', 'देवालय', 'देश', 'देशमुख', 'देशसेवक', 'देशस्थ', 'देशांतर', 'देशाटन', 'देसाय', 'देह', 'देहान्त', 'देहावसान', 'दैत्य', 'दैनिक', 'दैवत', 'दोंद', 'दोर', 'दोष', 'दोषरोप', 'दोस्त', 'द्योतक', 'द्रव', 'द्रविड', 'द्राविड', 'द्रव्य', 'द्रावण', 'द्राक्ष', 'द्रुम', 'द्रोण', 'द्वंद्व', 'द्वंद्वयुद्ध', 'द्वार', 'द्वारपाल', 'द्विज', 'द्वितीयांश', 'द्वित्व', 'द्विभाजक', 'द्विभाजन', 'द्वीप', 'द्वैमासिक', 'धट', 'धड', 'धनगर', 'धनादेश', 'धनिक', 'धनुर्धर', 'धुनर्मास', 'धनुष्य', 'धन्यवाद', 'धमाल', 'धरण', 'धरणीकंप', 'धरबंध'])]],\n",
       "      dtype=object)"
      ]
     },
     "execution_count": 35,
     "metadata": {},
     "output_type": "execute_result"
    },
    {
     "data": {
      "application/javascript": [
       "\n",
       "            setTimeout(function() {\n",
       "                var nbb_cell_id = 35;\n",
       "                var nbb_unformatted_code = \"final.reset_index().values\";\n",
       "                var nbb_formatted_code = \"final.reset_index().values\";\n",
       "                var nbb_cells = Jupyter.notebook.get_cells();\n",
       "                for (var i = 0; i < nbb_cells.length; ++i) {\n",
       "                    if (nbb_cells[i].input_prompt_number == nbb_cell_id) {\n",
       "                        if (nbb_cells[i].get_text() == nbb_unformatted_code) {\n",
       "                             nbb_cells[i].set_text(nbb_formatted_code);\n",
       "                        }\n",
       "                        break;\n",
       "                    }\n",
       "                }\n",
       "            }, 500);\n",
       "            "
      ],
      "text/plain": [
       "<IPython.core.display.Javascript object>"
      ]
     },
     "metadata": {},
     "output_type": "display_data"
    }
   ],
   "source": [
    "final.reset_index().values"
   ]
  },
  {
   "cell_type": "code",
   "execution_count": null,
   "metadata": {},
   "outputs": [],
   "source": []
  },
  {
   "cell_type": "code",
   "execution_count": null,
   "metadata": {},
   "outputs": [],
   "source": []
  },
  {
   "cell_type": "code",
   "execution_count": null,
   "metadata": {},
   "outputs": [],
   "source": []
  },
  {
   "cell_type": "code",
   "execution_count": 25,
   "metadata": {},
   "outputs": [
    {
     "data": {
      "application/javascript": [
       "\n",
       "            setTimeout(function() {\n",
       "                var nbb_cell_id = 25;\n",
       "                var nbb_unformatted_code = \"mydf = pd.DataFrame(ndf).reset_index()\";\n",
       "                var nbb_formatted_code = \"mydf = pd.DataFrame(ndf).reset_index()\";\n",
       "                var nbb_cells = Jupyter.notebook.get_cells();\n",
       "                for (var i = 0; i < nbb_cells.length; ++i) {\n",
       "                    if (nbb_cells[i].input_prompt_number == nbb_cell_id) {\n",
       "                        if (nbb_cells[i].get_text() == nbb_unformatted_code) {\n",
       "                             nbb_cells[i].set_text(nbb_formatted_code);\n",
       "                        }\n",
       "                        break;\n",
       "                    }\n",
       "                }\n",
       "            }, 500);\n",
       "            "
      ],
      "text/plain": [
       "<IPython.core.display.Javascript object>"
      ]
     },
     "metadata": {},
     "output_type": "display_data"
    }
   ],
   "source": [
    "mydf = pd.DataFrame(ndf).reset_index()"
   ]
  },
  {
   "cell_type": "code",
   "execution_count": 26,
   "metadata": {},
   "outputs": [
    {
     "data": {
      "application/javascript": [
       "\n",
       "            setTimeout(function() {\n",
       "                var nbb_cell_id = 26;\n",
       "                var nbb_unformatted_code = \"df.tag = df.tag.replace(\\\"F\\\", \\\"\\\", regex=True)\";\n",
       "                var nbb_formatted_code = \"df.tag = df.tag.replace(\\\"F\\\", \\\"\\\", regex=True)\";\n",
       "                var nbb_cells = Jupyter.notebook.get_cells();\n",
       "                for (var i = 0; i < nbb_cells.length; ++i) {\n",
       "                    if (nbb_cells[i].input_prompt_number == nbb_cell_id) {\n",
       "                        if (nbb_cells[i].get_text() == nbb_unformatted_code) {\n",
       "                             nbb_cells[i].set_text(nbb_formatted_code);\n",
       "                        }\n",
       "                        break;\n",
       "                    }\n",
       "                }\n",
       "            }, 500);\n",
       "            "
      ],
      "text/plain": [
       "<IPython.core.display.Javascript object>"
      ]
     },
     "metadata": {},
     "output_type": "display_data"
    }
   ],
   "source": [
    "df.tag = df.tag.replace(\"F\", \"\", regex=True)"
   ]
  },
  {
   "cell_type": "code",
   "execution_count": 27,
   "metadata": {},
   "outputs": [
    {
     "data": {
      "application/javascript": [
       "\n",
       "            setTimeout(function() {\n",
       "                var nbb_cell_id = 27;\n",
       "                var nbb_unformatted_code = \"mydict = df.groupby(\\\"tag\\\")[\\\"word\\\"].count().to_dict()\";\n",
       "                var nbb_formatted_code = \"mydict = df.groupby(\\\"tag\\\")[\\\"word\\\"].count().to_dict()\";\n",
       "                var nbb_cells = Jupyter.notebook.get_cells();\n",
       "                for (var i = 0; i < nbb_cells.length; ++i) {\n",
       "                    if (nbb_cells[i].input_prompt_number == nbb_cell_id) {\n",
       "                        if (nbb_cells[i].get_text() == nbb_unformatted_code) {\n",
       "                             nbb_cells[i].set_text(nbb_formatted_code);\n",
       "                        }\n",
       "                        break;\n",
       "                    }\n",
       "                }\n",
       "            }, 500);\n",
       "            "
      ],
      "text/plain": [
       "<IPython.core.display.Javascript object>"
      ]
     },
     "metadata": {},
     "output_type": "display_data"
    }
   ],
   "source": [
    "mydict = df.groupby(\"tag\")[\"word\"].count().to_dict()"
   ]
  },
  {
   "cell_type": "code",
   "execution_count": 28,
   "metadata": {},
   "outputs": [
    {
     "data": {
      "text/plain": [
       "[('&em', 1),\n",
       " ('A', 1),\n",
       " ('Aac', 36),\n",
       " ('Aacd', 721),\n",
       " ('Aacde', 4),\n",
       " ('Aacdeh', 2),\n",
       " ('Aacdf', 1),\n",
       " ('Aacdh', 306),\n",
       " ('Aacdhj', 1),\n",
       " ('Aacf', 10),\n",
       " ('Aack', 6),\n",
       " ('Aacq', 13),\n",
       " ('Aad', 7),\n",
       " ('Abc', 1),\n",
       " ('Abcd', 3),\n",
       " ('Acd', 1),\n",
       " ('Z', 45),\n",
       " ('Zacd', 1),\n",
       " ('Zc', 6),\n",
       " ('Zw', 3),\n",
       " ('ac', 38),\n",
       " ('acd', 755),\n",
       " ('acde', 2),\n",
       " ('acdf', 3),\n",
       " ('acdh', 23),\n",
       " ('acdhj', 1),\n",
       " ('acdk', 1),\n",
       " ('acds', 1),\n",
       " ('acf', 27),\n",
       " ('acg', 1),\n",
       " ('ach', 1),\n",
       " ('ack', 3),\n",
       " ('acklw', 1),\n",
       " ('acq', 3),\n",
       " ('bc', 7),\n",
       " ('bcd', 398),\n",
       " ('cf', 2),\n",
       " ('d', 1),\n",
       " ('e', 791),\n",
       " ('eh', 2),\n",
       " ('ehj', 7),\n",
       " ('f', 1807),\n",
       " ('fg', 32),\n",
       " ('fi', 8),\n",
       " ('fl', 1),\n",
       " ('fw', 10),\n",
       " ('g', 329),\n",
       " ('gi', 3),\n",
       " ('gk', 1),\n",
       " ('h', 480),\n",
       " ('hi', 1),\n",
       " ('hj', 275),\n",
       " ('i', 64),\n",
       " ('ik', 1),\n",
       " ('ikl', 1),\n",
       " ('il', 3),\n",
       " ('j', 120),\n",
       " ('k', 608),\n",
       " ('kl', 5),\n",
       " ('kw', 6),\n",
       " ('l', 270),\n",
       " ('s', 68),\n",
       " ('w', 85),\n",
       " ('ज', 1)]"
      ]
     },
     "execution_count": 28,
     "metadata": {},
     "output_type": "execute_result"
    },
    {
     "data": {
      "application/javascript": [
       "\n",
       "            setTimeout(function() {\n",
       "                var nbb_cell_id = 28;\n",
       "                var nbb_unformatted_code = \"sorted(mydict.items(), key=lambda x: x[0])\";\n",
       "                var nbb_formatted_code = \"sorted(mydict.items(), key=lambda x: x[0])\";\n",
       "                var nbb_cells = Jupyter.notebook.get_cells();\n",
       "                for (var i = 0; i < nbb_cells.length; ++i) {\n",
       "                    if (nbb_cells[i].input_prompt_number == nbb_cell_id) {\n",
       "                        if (nbb_cells[i].get_text() == nbb_unformatted_code) {\n",
       "                             nbb_cells[i].set_text(nbb_formatted_code);\n",
       "                        }\n",
       "                        break;\n",
       "                    }\n",
       "                }\n",
       "            }, 500);\n",
       "            "
      ],
      "text/plain": [
       "<IPython.core.display.Javascript object>"
      ]
     },
     "metadata": {},
     "output_type": "display_data"
    }
   ],
   "source": [
    "sorted(mydict.items(), key=lambda x: x[0])"
   ]
  },
  {
   "cell_type": "code",
   "execution_count": 29,
   "metadata": {},
   "outputs": [
    {
     "data": {
      "text/plain": [
       "array([[0, list(['अ', 'ं', 'क', 'ी'])],\n",
       "       [1, list(['अ', 'ं', 'क', 'ग', 'ण', 'ि', 'त'])],\n",
       "       [2, list(['अ', 'ं', 'क', 'ग', 'ण', 'ि', 'त', 'े'])],\n",
       "       ...,\n",
       "       [14243, list(['द', 'े', 'व', 'ा', 'ध', 'र', '्', 'म'])],\n",
       "       [14334, list(['द', 'ो', 'न'])],\n",
       "       [14557, list(['ध', 'म', 'क', 'े'])]], dtype=object)"
      ]
     },
     "execution_count": 29,
     "metadata": {},
     "output_type": "execute_result"
    },
    {
     "data": {
      "application/javascript": [
       "\n",
       "            setTimeout(function() {\n",
       "                var nbb_cell_id = 29;\n",
       "                var nbb_unformatted_code = \"mydf.values\";\n",
       "                var nbb_formatted_code = \"mydf.values\";\n",
       "                var nbb_cells = Jupyter.notebook.get_cells();\n",
       "                for (var i = 0; i < nbb_cells.length; ++i) {\n",
       "                    if (nbb_cells[i].input_prompt_number == nbb_cell_id) {\n",
       "                        if (nbb_cells[i].get_text() == nbb_unformatted_code) {\n",
       "                             nbb_cells[i].set_text(nbb_formatted_code);\n",
       "                        }\n",
       "                        break;\n",
       "                    }\n",
       "                }\n",
       "            }, 500);\n",
       "            "
      ],
      "text/plain": [
       "<IPython.core.display.Javascript object>"
      ]
     },
     "metadata": {},
     "output_type": "display_data"
    }
   ],
   "source": [
    "mydf.values"
   ]
  },
  {
   "cell_type": "code",
   "execution_count": null,
   "metadata": {},
   "outputs": [],
   "source": []
  },
  {
   "cell_type": "code",
   "execution_count": 30,
   "metadata": {},
   "outputs": [
    {
     "ename": "AttributeError",
     "evalue": "'DataFrame' object has no attribute 'tag'",
     "output_type": "error",
     "traceback": [
      "\u001b[0;31m---------------------------------------------------------------------------\u001b[0m",
      "\u001b[0;31mAttributeError\u001b[0m                            Traceback (most recent call last)",
      "\u001b[0;32m<ipython-input-30-d368997da593>\u001b[0m in \u001b[0;36m<module>\u001b[0;34m\u001b[0m\n\u001b[0;32m----> 1\u001b[0;31m \u001b[0mmydf\u001b[0m\u001b[0;34m.\u001b[0m\u001b[0mtag\u001b[0m\u001b[0;34m.\u001b[0m\u001b[0mvalues\u001b[0m\u001b[0;34m\u001b[0m\u001b[0;34m\u001b[0m\u001b[0m\n\u001b[0m",
      "\u001b[0;32m/root/miniforge3/lib/python3.7/site-packages/pandas/core/generic.py\u001b[0m in \u001b[0;36m__getattr__\u001b[0;34m(self, name)\u001b[0m\n\u001b[1;32m   5272\u001b[0m             \u001b[0;32mif\u001b[0m \u001b[0mself\u001b[0m\u001b[0;34m.\u001b[0m\u001b[0m_info_axis\u001b[0m\u001b[0;34m.\u001b[0m\u001b[0m_can_hold_identifiers_and_holds_name\u001b[0m\u001b[0;34m(\u001b[0m\u001b[0mname\u001b[0m\u001b[0;34m)\u001b[0m\u001b[0;34m:\u001b[0m\u001b[0;34m\u001b[0m\u001b[0;34m\u001b[0m\u001b[0m\n\u001b[1;32m   5273\u001b[0m                 \u001b[0;32mreturn\u001b[0m \u001b[0mself\u001b[0m\u001b[0;34m[\u001b[0m\u001b[0mname\u001b[0m\u001b[0;34m]\u001b[0m\u001b[0;34m\u001b[0m\u001b[0;34m\u001b[0m\u001b[0m\n\u001b[0;32m-> 5274\u001b[0;31m             \u001b[0;32mreturn\u001b[0m \u001b[0mobject\u001b[0m\u001b[0;34m.\u001b[0m\u001b[0m__getattribute__\u001b[0m\u001b[0;34m(\u001b[0m\u001b[0mself\u001b[0m\u001b[0;34m,\u001b[0m \u001b[0mname\u001b[0m\u001b[0;34m)\u001b[0m\u001b[0;34m\u001b[0m\u001b[0;34m\u001b[0m\u001b[0m\n\u001b[0m\u001b[1;32m   5275\u001b[0m \u001b[0;34m\u001b[0m\u001b[0m\n\u001b[1;32m   5276\u001b[0m     \u001b[0;32mdef\u001b[0m \u001b[0m__setattr__\u001b[0m\u001b[0;34m(\u001b[0m\u001b[0mself\u001b[0m\u001b[0;34m,\u001b[0m \u001b[0mname\u001b[0m\u001b[0;34m:\u001b[0m \u001b[0mstr\u001b[0m\u001b[0;34m,\u001b[0m \u001b[0mvalue\u001b[0m\u001b[0;34m)\u001b[0m \u001b[0;34m->\u001b[0m \u001b[0;32mNone\u001b[0m\u001b[0;34m:\u001b[0m\u001b[0;34m\u001b[0m\u001b[0;34m\u001b[0m\u001b[0m\n",
      "\u001b[0;31mAttributeError\u001b[0m: 'DataFrame' object has no attribute 'tag'"
     ]
    },
    {
     "data": {
      "application/javascript": [
       "\n",
       "            setTimeout(function() {\n",
       "                var nbb_cell_id = 30;\n",
       "                var nbb_unformatted_code = \"mydf.tag.values\";\n",
       "                var nbb_formatted_code = \"mydf.tag.values\";\n",
       "                var nbb_cells = Jupyter.notebook.get_cells();\n",
       "                for (var i = 0; i < nbb_cells.length; ++i) {\n",
       "                    if (nbb_cells[i].input_prompt_number == nbb_cell_id) {\n",
       "                        if (nbb_cells[i].get_text() == nbb_unformatted_code) {\n",
       "                             nbb_cells[i].set_text(nbb_formatted_code);\n",
       "                        }\n",
       "                        break;\n",
       "                    }\n",
       "                }\n",
       "            }, 500);\n",
       "            "
      ],
      "text/plain": [
       "<IPython.core.display.Javascript object>"
      ]
     },
     "metadata": {},
     "output_type": "display_data"
    }
   ],
   "source": [
    "mydf.tag.values"
   ]
  },
  {
   "cell_type": "code",
   "execution_count": 31,
   "metadata": {},
   "outputs": [
    {
     "ename": "KeyError",
     "evalue": "'tag'",
     "output_type": "error",
     "traceback": [
      "\u001b[0;31m---------------------------------------------------------------------------\u001b[0m",
      "\u001b[0;31mKeyError\u001b[0m                                  Traceback (most recent call last)",
      "\u001b[0;32m<ipython-input-31-c73fb0f9d1b4>\u001b[0m in \u001b[0;36m<module>\u001b[0;34m\u001b[0m\n\u001b[0;32m----> 1\u001b[0;31m \u001b[0mmydf\u001b[0m\u001b[0;34m.\u001b[0m\u001b[0msort_values\u001b[0m\u001b[0;34m(\u001b[0m\u001b[0;34m\"tag\"\u001b[0m\u001b[0;34m)\u001b[0m\u001b[0;34m[\u001b[0m\u001b[0;34m\"tag\"\u001b[0m\u001b[0;34m]\u001b[0m\u001b[0;34m.\u001b[0m\u001b[0mvalues\u001b[0m\u001b[0;34m\u001b[0m\u001b[0;34m\u001b[0m\u001b[0m\n\u001b[0m",
      "\u001b[0;32m/root/miniforge3/lib/python3.7/site-packages/pandas/core/frame.py\u001b[0m in \u001b[0;36msort_values\u001b[0;34m(self, by, axis, ascending, inplace, kind, na_position, ignore_index)\u001b[0m\n\u001b[1;32m   4925\u001b[0m \u001b[0;34m\u001b[0m\u001b[0m\n\u001b[1;32m   4926\u001b[0m             \u001b[0mby\u001b[0m \u001b[0;34m=\u001b[0m \u001b[0mby\u001b[0m\u001b[0;34m[\u001b[0m\u001b[0;36m0\u001b[0m\u001b[0;34m]\u001b[0m\u001b[0;34m\u001b[0m\u001b[0;34m\u001b[0m\u001b[0m\n\u001b[0;32m-> 4927\u001b[0;31m             \u001b[0mk\u001b[0m \u001b[0;34m=\u001b[0m \u001b[0mself\u001b[0m\u001b[0;34m.\u001b[0m\u001b[0m_get_label_or_level_values\u001b[0m\u001b[0;34m(\u001b[0m\u001b[0mby\u001b[0m\u001b[0;34m,\u001b[0m \u001b[0maxis\u001b[0m\u001b[0;34m=\u001b[0m\u001b[0maxis\u001b[0m\u001b[0;34m)\u001b[0m\u001b[0;34m\u001b[0m\u001b[0;34m\u001b[0m\u001b[0m\n\u001b[0m\u001b[1;32m   4928\u001b[0m \u001b[0;34m\u001b[0m\u001b[0m\n\u001b[1;32m   4929\u001b[0m             \u001b[0;32mif\u001b[0m \u001b[0misinstance\u001b[0m\u001b[0;34m(\u001b[0m\u001b[0mascending\u001b[0m\u001b[0;34m,\u001b[0m \u001b[0;34m(\u001b[0m\u001b[0mtuple\u001b[0m\u001b[0;34m,\u001b[0m \u001b[0mlist\u001b[0m\u001b[0;34m)\u001b[0m\u001b[0;34m)\u001b[0m\u001b[0;34m:\u001b[0m\u001b[0;34m\u001b[0m\u001b[0;34m\u001b[0m\u001b[0m\n",
      "\u001b[0;32m/root/miniforge3/lib/python3.7/site-packages/pandas/core/generic.py\u001b[0m in \u001b[0;36m_get_label_or_level_values\u001b[0;34m(self, key, axis)\u001b[0m\n\u001b[1;32m   1690\u001b[0m             \u001b[0mvalues\u001b[0m \u001b[0;34m=\u001b[0m \u001b[0mself\u001b[0m\u001b[0;34m.\u001b[0m\u001b[0maxes\u001b[0m\u001b[0;34m[\u001b[0m\u001b[0maxis\u001b[0m\u001b[0;34m]\u001b[0m\u001b[0;34m.\u001b[0m\u001b[0mget_level_values\u001b[0m\u001b[0;34m(\u001b[0m\u001b[0mkey\u001b[0m\u001b[0;34m)\u001b[0m\u001b[0;34m.\u001b[0m\u001b[0m_values\u001b[0m\u001b[0;34m\u001b[0m\u001b[0;34m\u001b[0m\u001b[0m\n\u001b[1;32m   1691\u001b[0m         \u001b[0;32melse\u001b[0m\u001b[0;34m:\u001b[0m\u001b[0;34m\u001b[0m\u001b[0;34m\u001b[0m\u001b[0m\n\u001b[0;32m-> 1692\u001b[0;31m             \u001b[0;32mraise\u001b[0m \u001b[0mKeyError\u001b[0m\u001b[0;34m(\u001b[0m\u001b[0mkey\u001b[0m\u001b[0;34m)\u001b[0m\u001b[0;34m\u001b[0m\u001b[0;34m\u001b[0m\u001b[0m\n\u001b[0m\u001b[1;32m   1693\u001b[0m \u001b[0;34m\u001b[0m\u001b[0m\n\u001b[1;32m   1694\u001b[0m         \u001b[0;31m# Check for duplicates\u001b[0m\u001b[0;34m\u001b[0m\u001b[0;34m\u001b[0m\u001b[0;34m\u001b[0m\u001b[0m\n",
      "\u001b[0;31mKeyError\u001b[0m: 'tag'"
     ]
    },
    {
     "data": {
      "application/javascript": [
       "\n",
       "            setTimeout(function() {\n",
       "                var nbb_cell_id = 31;\n",
       "                var nbb_unformatted_code = \"mydf.sort_values(\\\"tag\\\")[\\\"tag\\\"].values\";\n",
       "                var nbb_formatted_code = \"mydf.sort_values(\\\"tag\\\")[\\\"tag\\\"].values\";\n",
       "                var nbb_cells = Jupyter.notebook.get_cells();\n",
       "                for (var i = 0; i < nbb_cells.length; ++i) {\n",
       "                    if (nbb_cells[i].input_prompt_number == nbb_cell_id) {\n",
       "                        if (nbb_cells[i].get_text() == nbb_unformatted_code) {\n",
       "                             nbb_cells[i].set_text(nbb_formatted_code);\n",
       "                        }\n",
       "                        break;\n",
       "                    }\n",
       "                }\n",
       "            }, 500);\n",
       "            "
      ],
      "text/plain": [
       "<IPython.core.display.Javascript object>"
      ]
     },
     "metadata": {},
     "output_type": "display_data"
    }
   ],
   "source": [
    "mydf.sort_values(\"tag\")[\"tag\"].values"
   ]
  },
  {
   "cell_type": "code",
   "execution_count": null,
   "metadata": {},
   "outputs": [],
   "source": []
  }
 ],
 "metadata": {
  "kernelspec": {
   "display_name": "Python 3",
   "language": "python",
   "name": "python3"
  },
  "language_info": {
   "codemirror_mode": {
    "name": "ipython",
    "version": 3
   },
   "file_extension": ".py",
   "mimetype": "text/x-python",
   "name": "python",
   "nbconvert_exporter": "python",
   "pygments_lexer": "ipython3",
   "version": "3.7.6"
  }
 },
 "nbformat": 4,
 "nbformat_minor": 4
}
