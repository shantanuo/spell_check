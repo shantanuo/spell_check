{
 "cells": [
  {
   "cell_type": "code",
   "execution_count": 1,
   "metadata": {},
   "outputs": [
    {
     "data": {
      "application/javascript": [
       "\n",
       "            setTimeout(function() {\n",
       "                var nbb_cell_id = 1;\n",
       "                var nbb_unformatted_code = \"%load_ext nb_black\";\n",
       "                var nbb_formatted_code = \"%load_ext nb_black\";\n",
       "                var nbb_cells = Jupyter.notebook.get_cells();\n",
       "                for (var i = 0; i < nbb_cells.length; ++i) {\n",
       "                    if (nbb_cells[i].input_prompt_number == nbb_cell_id) {\n",
       "                        if (nbb_cells[i].get_text() == nbb_unformatted_code) {\n",
       "                             nbb_cells[i].set_text(nbb_formatted_code);\n",
       "                        }\n",
       "                        break;\n",
       "                    }\n",
       "                }\n",
       "            }, 500);\n",
       "            "
      ],
      "text/plain": [
       "<IPython.core.display.Javascript object>"
      ]
     },
     "metadata": {},
     "output_type": "display_data"
    }
   ],
   "source": [
    "%load_ext nb_black"
   ]
  },
  {
   "cell_type": "code",
   "execution_count": 2,
   "metadata": {},
   "outputs": [
    {
     "data": {
      "application/javascript": [
       "\n",
       "            setTimeout(function() {\n",
       "                var nbb_cell_id = 2;\n",
       "                var nbb_unformatted_code = \"import pandas as pd\\nimport sys\";\n",
       "                var nbb_formatted_code = \"import pandas as pd\\nimport sys\";\n",
       "                var nbb_cells = Jupyter.notebook.get_cells();\n",
       "                for (var i = 0; i < nbb_cells.length; ++i) {\n",
       "                    if (nbb_cells[i].input_prompt_number == nbb_cell_id) {\n",
       "                        if (nbb_cells[i].get_text() == nbb_unformatted_code) {\n",
       "                             nbb_cells[i].set_text(nbb_formatted_code);\n",
       "                        }\n",
       "                        break;\n",
       "                    }\n",
       "                }\n",
       "            }, 500);\n",
       "            "
      ],
      "text/plain": [
       "<IPython.core.display.Javascript object>"
      ]
     },
     "metadata": {},
     "output_type": "display_data"
    }
   ],
   "source": [
    "import pandas as pd\n",
    "import sys"
   ]
  },
  {
   "cell_type": "code",
   "execution_count": 3,
   "metadata": {},
   "outputs": [
    {
     "data": {
      "application/javascript": [
       "\n",
       "            setTimeout(function() {\n",
       "                var nbb_cell_id = 3;\n",
       "                var nbb_unformatted_code = \"df = pd.read_csv(\\\"kosh_complete.csv\\\")\";\n",
       "                var nbb_formatted_code = \"df = pd.read_csv(\\\"kosh_complete.csv\\\")\";\n",
       "                var nbb_cells = Jupyter.notebook.get_cells();\n",
       "                for (var i = 0; i < nbb_cells.length; ++i) {\n",
       "                    if (nbb_cells[i].input_prompt_number == nbb_cell_id) {\n",
       "                        if (nbb_cells[i].get_text() == nbb_unformatted_code) {\n",
       "                             nbb_cells[i].set_text(nbb_formatted_code);\n",
       "                        }\n",
       "                        break;\n",
       "                    }\n",
       "                }\n",
       "            }, 500);\n",
       "            "
      ],
      "text/plain": [
       "<IPython.core.display.Javascript object>"
      ]
     },
     "metadata": {},
     "output_type": "display_data"
    }
   ],
   "source": [
    "df = pd.read_csv(\"kosh_complete.csv\")"
   ]
  },
  {
   "cell_type": "code",
   "execution_count": 4,
   "metadata": {},
   "outputs": [
    {
     "data": {
      "application/javascript": [
       "\n",
       "            setTimeout(function() {\n",
       "                var nbb_cell_id = 4;\n",
       "                var nbb_unformatted_code = \"df = df.replace(\\\"\\\\\\\\\\\", \\\"\\\",)\";\n",
       "                var nbb_formatted_code = \"df = df.replace(\\\"\\\\\\\\\\\", \\\"\\\",)\";\n",
       "                var nbb_cells = Jupyter.notebook.get_cells();\n",
       "                for (var i = 0; i < nbb_cells.length; ++i) {\n",
       "                    if (nbb_cells[i].input_prompt_number == nbb_cell_id) {\n",
       "                        if (nbb_cells[i].get_text() == nbb_unformatted_code) {\n",
       "                             nbb_cells[i].set_text(nbb_formatted_code);\n",
       "                        }\n",
       "                        break;\n",
       "                    }\n",
       "                }\n",
       "            }, 500);\n",
       "            "
      ],
      "text/plain": [
       "<IPython.core.display.Javascript object>"
      ]
     },
     "metadata": {},
     "output_type": "display_data"
    }
   ],
   "source": [
    "df = df.replace(\"\\\\\", \"\",)"
   ]
  },
  {
   "cell_type": "code",
   "execution_count": 5,
   "metadata": {},
   "outputs": [
    {
     "data": {
      "application/javascript": [
       "\n",
       "            setTimeout(function() {\n",
       "                var nbb_cell_id = 5;\n",
       "                var nbb_unformatted_code = \"df.columns = [\\\"index\\\", \\\"one\\\", \\\"two\\\", \\\"three\\\", \\\"four\\\"]\";\n",
       "                var nbb_formatted_code = \"df.columns = [\\\"index\\\", \\\"one\\\", \\\"two\\\", \\\"three\\\", \\\"four\\\"]\";\n",
       "                var nbb_cells = Jupyter.notebook.get_cells();\n",
       "                for (var i = 0; i < nbb_cells.length; ++i) {\n",
       "                    if (nbb_cells[i].input_prompt_number == nbb_cell_id) {\n",
       "                        if (nbb_cells[i].get_text() == nbb_unformatted_code) {\n",
       "                             nbb_cells[i].set_text(nbb_formatted_code);\n",
       "                        }\n",
       "                        break;\n",
       "                    }\n",
       "                }\n",
       "            }, 500);\n",
       "            "
      ],
      "text/plain": [
       "<IPython.core.display.Javascript object>"
      ]
     },
     "metadata": {},
     "output_type": "display_data"
    }
   ],
   "source": [
    "df.columns = [\"index\", \"one\", \"two\", \"three\", \"four\"]"
   ]
  },
  {
   "cell_type": "code",
   "execution_count": 6,
   "metadata": {},
   "outputs": [
    {
     "data": {
      "application/javascript": [
       "\n",
       "            setTimeout(function() {\n",
       "                var nbb_cell_id = 6;\n",
       "                var nbb_unformatted_code = \"df = df.dropna()\";\n",
       "                var nbb_formatted_code = \"df = df.dropna()\";\n",
       "                var nbb_cells = Jupyter.notebook.get_cells();\n",
       "                for (var i = 0; i < nbb_cells.length; ++i) {\n",
       "                    if (nbb_cells[i].input_prompt_number == nbb_cell_id) {\n",
       "                        if (nbb_cells[i].get_text() == nbb_unformatted_code) {\n",
       "                             nbb_cells[i].set_text(nbb_formatted_code);\n",
       "                        }\n",
       "                        break;\n",
       "                    }\n",
       "                }\n",
       "            }, 500);\n",
       "            "
      ],
      "text/plain": [
       "<IPython.core.display.Javascript object>"
      ]
     },
     "metadata": {},
     "output_type": "display_data"
    }
   ],
   "source": [
    "df = df.dropna()"
   ]
  },
  {
   "cell_type": "code",
   "execution_count": 7,
   "metadata": {},
   "outputs": [
    {
     "data": {
      "text/html": [
       "<div>\n",
       "<style scoped>\n",
       "    .dataframe tbody tr th:only-of-type {\n",
       "        vertical-align: middle;\n",
       "    }\n",
       "\n",
       "    .dataframe tbody tr th {\n",
       "        vertical-align: top;\n",
       "    }\n",
       "\n",
       "    .dataframe thead th {\n",
       "        text-align: right;\n",
       "    }\n",
       "</style>\n",
       "<table border=\"1\" class=\"dataframe\">\n",
       "  <thead>\n",
       "    <tr style=\"text-align: right;\">\n",
       "      <th></th>\n",
       "      <th>index</th>\n",
       "      <th>one</th>\n",
       "      <th>two</th>\n",
       "      <th>three</th>\n",
       "      <th>four</th>\n",
       "    </tr>\n",
       "  </thead>\n",
       "  <tbody>\n",
       "    <tr>\n",
       "      <th>245</th>\n",
       "      <td>171439</td>\n",
       "      <td>// અગ્રહાયન</td>\n",
       "      <td>પું.</td>\n",
       "      <td>પુંલિંગ</td>\n",
       "      <td>પું.</td>\n",
       "    </tr>\n",
       "  </tbody>\n",
       "</table>\n",
       "</div>"
      ],
      "text/plain": [
       "      index          one   two    three  four\n",
       "245  171439  // અગ્રહાયન  પું.  પુંલિંગ  પું."
      ]
     },
     "execution_count": 7,
     "metadata": {},
     "output_type": "execute_result"
    },
    {
     "data": {
      "application/javascript": [
       "\n",
       "            setTimeout(function() {\n",
       "                var nbb_cell_id = 7;\n",
       "                var nbb_unformatted_code = \"df[df.one.str.contains(\\\"\\u0a85\\u0a97\\u0acd\\u0ab0\\u0ab9\\u0abe\\u0aaf\\u0aa8\\\")]\";\n",
       "                var nbb_formatted_code = \"df[df.one.str.contains(\\\"\\u0a85\\u0a97\\u0acd\\u0ab0\\u0ab9\\u0abe\\u0aaf\\u0aa8\\\")]\";\n",
       "                var nbb_cells = Jupyter.notebook.get_cells();\n",
       "                for (var i = 0; i < nbb_cells.length; ++i) {\n",
       "                    if (nbb_cells[i].input_prompt_number == nbb_cell_id) {\n",
       "                        if (nbb_cells[i].get_text() == nbb_unformatted_code) {\n",
       "                             nbb_cells[i].set_text(nbb_formatted_code);\n",
       "                        }\n",
       "                        break;\n",
       "                    }\n",
       "                }\n",
       "            }, 500);\n",
       "            "
      ],
      "text/plain": [
       "<IPython.core.display.Javascript object>"
      ]
     },
     "metadata": {},
     "output_type": "display_data"
    }
   ],
   "source": [
    "df[df.one.str.contains(\"અગ્રહાયન\")]"
   ]
  },
  {
   "cell_type": "code",
   "execution_count": 8,
   "metadata": {},
   "outputs": [
    {
     "data": {
      "application/javascript": [
       "\n",
       "            setTimeout(function() {\n",
       "                var nbb_cell_id = 8;\n",
       "                var nbb_unformatted_code = \"df = df.replace(\\\"//\\\", \\\"\\\", regex=True)\\ndf = df.replace(\\\"\\\\(.*\\\\)\\\", \\\"\\\", regex=True)\\ndf = df.replace(\\\",\\\", \\\"\\\\n\\\", regex=True)\";\n",
       "                var nbb_formatted_code = \"df = df.replace(\\\"//\\\", \\\"\\\", regex=True)\\ndf = df.replace(\\\"\\\\(.*\\\\)\\\", \\\"\\\", regex=True)\\ndf = df.replace(\\\",\\\", \\\"\\\\n\\\", regex=True)\";\n",
       "                var nbb_cells = Jupyter.notebook.get_cells();\n",
       "                for (var i = 0; i < nbb_cells.length; ++i) {\n",
       "                    if (nbb_cells[i].input_prompt_number == nbb_cell_id) {\n",
       "                        if (nbb_cells[i].get_text() == nbb_unformatted_code) {\n",
       "                             nbb_cells[i].set_text(nbb_formatted_code);\n",
       "                        }\n",
       "                        break;\n",
       "                    }\n",
       "                }\n",
       "            }, 500);\n",
       "            "
      ],
      "text/plain": [
       "<IPython.core.display.Javascript object>"
      ]
     },
     "metadata": {},
     "output_type": "display_data"
    }
   ],
   "source": [
    "df = df.replace(\"//\", \"\", regex=True)\n",
    "df = df.replace(\"\\(.*\\)\", \"\", regex=True)\n",
    "df = df.replace(\",\", \"\\n\", regex=True)"
   ]
  },
  {
   "cell_type": "code",
   "execution_count": 9,
   "metadata": {},
   "outputs": [
    {
     "data": {
      "application/javascript": [
       "\n",
       "            setTimeout(function() {\n",
       "                var nbb_cell_id = 9;\n",
       "                var nbb_unformatted_code = \"df.one = df.one.str.strip(\\\"*\\\")\\ndf.one = df.one.str.strip()\";\n",
       "                var nbb_formatted_code = \"df.one = df.one.str.strip(\\\"*\\\")\\ndf.one = df.one.str.strip()\";\n",
       "                var nbb_cells = Jupyter.notebook.get_cells();\n",
       "                for (var i = 0; i < nbb_cells.length; ++i) {\n",
       "                    if (nbb_cells[i].input_prompt_number == nbb_cell_id) {\n",
       "                        if (nbb_cells[i].get_text() == nbb_unformatted_code) {\n",
       "                             nbb_cells[i].set_text(nbb_formatted_code);\n",
       "                        }\n",
       "                        break;\n",
       "                    }\n",
       "                }\n",
       "            }, 500);\n",
       "            "
      ],
      "text/plain": [
       "<IPython.core.display.Javascript object>"
      ]
     },
     "metadata": {},
     "output_type": "display_data"
    }
   ],
   "source": [
    "df.one = df.one.str.strip(\"*\")\n",
    "df.one = df.one.str.strip()"
   ]
  },
  {
   "cell_type": "code",
   "execution_count": 10,
   "metadata": {},
   "outputs": [
    {
     "data": {
      "application/javascript": [
       "\n",
       "            setTimeout(function() {\n",
       "                var nbb_cell_id = 10;\n",
       "                var nbb_unformatted_code = \"myobj = open(\\\"guj_list.txt\\\", \\\"w\\\")\\nsys.stdout = myobj\";\n",
       "                var nbb_formatted_code = \"myobj = open(\\\"guj_list.txt\\\", \\\"w\\\")\\nsys.stdout = myobj\";\n",
       "                var nbb_cells = Jupyter.notebook.get_cells();\n",
       "                for (var i = 0; i < nbb_cells.length; ++i) {\n",
       "                    if (nbb_cells[i].input_prompt_number == nbb_cell_id) {\n",
       "                        if (nbb_cells[i].get_text() == nbb_unformatted_code) {\n",
       "                             nbb_cells[i].set_text(nbb_formatted_code);\n",
       "                        }\n",
       "                        break;\n",
       "                    }\n",
       "                }\n",
       "            }, 500);\n",
       "            "
      ],
      "text/plain": [
       "<IPython.core.display.Javascript object>"
      ]
     },
     "metadata": {},
     "output_type": "display_data"
    }
   ],
   "source": [
    "myobj = open(\"guj_list.txt\", \"w\")\n",
    "sys.stdout = myobj"
   ]
  },
  {
   "cell_type": "code",
   "execution_count": 11,
   "metadata": {},
   "outputs": [
    {
     "data": {
      "application/javascript": [
       "\n",
       "            setTimeout(function() {\n",
       "                var nbb_cell_id = 11;\n",
       "                var nbb_unformatted_code = \"for i in df.iloc[:, 1].values:\\n    print(i)\";\n",
       "                var nbb_formatted_code = \"for i in df.iloc[:, 1].values:\\n    print(i)\";\n",
       "                var nbb_cells = Jupyter.notebook.get_cells();\n",
       "                for (var i = 0; i < nbb_cells.length; ++i) {\n",
       "                    if (nbb_cells[i].input_prompt_number == nbb_cell_id) {\n",
       "                        if (nbb_cells[i].get_text() == nbb_unformatted_code) {\n",
       "                             nbb_cells[i].set_text(nbb_formatted_code);\n",
       "                        }\n",
       "                        break;\n",
       "                    }\n",
       "                }\n",
       "            }, 500);\n",
       "            "
      ],
      "text/plain": [
       "<IPython.core.display.Javascript object>"
      ]
     },
     "metadata": {},
     "output_type": "display_data"
    }
   ],
   "source": [
    "for i in df.iloc[:, 1].values:\n",
    "    print(i)"
   ]
  },
  {
   "cell_type": "code",
   "execution_count": null,
   "metadata": {},
   "outputs": [],
   "source": [
    "# restart kernel"
   ]
  },
  {
   "cell_type": "code",
   "execution_count": 1,
   "metadata": {},
   "outputs": [],
   "source": [
    "guj = list()\n",
    "with open(\"guj_list.txt\") as f:\n",
    "    for i in f:\n",
    "        guj.append(i.strip(\"\\n\").strip())"
   ]
  },
  {
   "cell_type": "code",
   "execution_count": 2,
   "metadata": {},
   "outputs": [],
   "source": [
    "mydict = {\n",
    "    b\"090\": b\"0A8\",\n",
    "    b\"091\": b\"0A9\",\n",
    "    b\"092\": b\"0AA\",\n",
    "    b\"093\": b\"0AB\",\n",
    "    b\"094\": b\"0AC\",\n",
    "    b\"095\": b\"0AD\",\n",
    "    b\"096\": b\"0AE\",\n",
    "    b\"097\": b\"0AF\",\n",
    "}"
   ]
  },
  {
   "cell_type": "code",
   "execution_count": 3,
   "metadata": {},
   "outputs": [],
   "source": [
    "import sys\n",
    "myobj = open(\"gu_IN6.dic\", \"w\")\n",
    "sys.stdout = myobj"
   ]
  },
  {
   "cell_type": "code",
   "execution_count": 4,
   "metadata": {},
   "outputs": [],
   "source": [
    "for y in guj:\n",
    "    newlist = list()\n",
    "    for i in y:\n",
    "        x_replaced = False\n",
    "        x = i.encode(\"raw_unicode_escape\")\n",
    "        for k, v in mydict.items():\n",
    "            if v.lower() in x:\n",
    "                z = x.replace(v.lower(), k)\n",
    "                newlist.append(z)\n",
    "                x_replaced = True\n",
    "        if not x_replaced:\n",
    "            newlist.append(x)\n",
    "\n",
    "    print(b\"\".join(newlist).decode(\"utf-8\").encode(\"ascii\").decode(\"unicode-escape\"))"
   ]
  },
  {
   "cell_type": "code",
   "execution_count": null,
   "metadata": {},
   "outputs": [],
   "source": [
    "# restart kernel"
   ]
  },
  {
   "cell_type": "code",
   "execution_count": 1,
   "metadata": {},
   "outputs": [],
   "source": [
    "guj = list()\n",
    "with open(\"gu_IN6.dic\") as f:\n",
    "    for i in f:\n",
    "        guj.append(i.strip(\"\\n\").strip())"
   ]
  },
  {
   "cell_type": "code",
   "execution_count": 2,
   "metadata": {},
   "outputs": [],
   "source": [
    "marathi = list()\n",
    "with open(\"/root/marathi/dicts/mr_IN.dic\") as f:\n",
    "    for i in f:\n",
    "        marathi.append(i.split(\"/\")[0].strip(\"\\n\"))"
   ]
  },
  {
   "cell_type": "code",
   "execution_count": 3,
   "metadata": {},
   "outputs": [],
   "source": [
    "hindi = list()\n",
    "with open ('/root/hindi/dictionaries/hi_IN.dic') as f:\n",
    "    for i in f:\n",
    "        hindi.append(i.split('/')[0].strip('\\n'))"
   ]
  },
  {
   "cell_type": "code",
   "execution_count": 4,
   "metadata": {},
   "outputs": [
    {
     "data": {
      "text/plain": [
       "20626"
      ]
     },
     "execution_count": 4,
     "metadata": {},
     "output_type": "execute_result"
    }
   ],
   "source": [
    "len(set(guj) & set(hindi))"
   ]
  },
  {
   "cell_type": "code",
   "execution_count": 5,
   "metadata": {},
   "outputs": [
    {
     "data": {
      "text/plain": [
       "12365"
      ]
     },
     "execution_count": 5,
     "metadata": {},
     "output_type": "execute_result"
    }
   ],
   "source": [
    "len(set(guj) & set(marathi))"
   ]
  },
  {
   "cell_type": "code",
   "execution_count": 6,
   "metadata": {},
   "outputs": [
    {
     "data": {
      "text/plain": [
       "14150"
      ]
     },
     "execution_count": 6,
     "metadata": {},
     "output_type": "execute_result"
    }
   ],
   "source": [
    "len(set(hindi) & set(marathi))"
   ]
  },
  {
   "cell_type": "code",
   "execution_count": 7,
   "metadata": {},
   "outputs": [
    {
     "data": {
      "text/plain": [
       "8253"
      ]
     },
     "execution_count": 7,
     "metadata": {},
     "output_type": "execute_result"
    }
   ],
   "source": [
    "len(set(guj) & set(marathi) & set(hindi))"
   ]
  },
  {
   "cell_type": "code",
   "execution_count": 8,
   "metadata": {},
   "outputs": [
    {
     "data": {
      "text/plain": [
       "['संसदीय',\n",
       " 'ब्रह्मास्त्र',\n",
       " 'हारजीत',\n",
       " 'जिमखाना',\n",
       " 'दाई',\n",
       " 'दादासाहेब',\n",
       " 'दमन',\n",
       " 'भक्तगण',\n",
       " 'पॉसिबिलिटी',\n",
       " 'बेदखल',\n",
       " 'सिम्बॉल',\n",
       " 'भाषाशास्त्रीय',\n",
       " 'नवरात्र',\n",
       " 'सुधार',\n",
       " 'डिग्री',\n",
       " 'कुबेर',\n",
       " 'मिटिंग',\n",
       " 'संघर्षरत',\n",
       " 'चूर्ण',\n",
       " 'आदेशिका']"
      ]
     },
     "execution_count": 8,
     "metadata": {},
     "output_type": "execute_result"
    }
   ],
   "source": [
    "# sample of 20 words\n",
    "list(set(hindi) & set(marathi))[11000:11020]"
   ]
  },
  {
   "cell_type": "code",
   "execution_count": 9,
   "metadata": {},
   "outputs": [
    {
     "data": {
      "text/plain": [
       "['उपपत्नी',\n",
       " 'यदुनंदन',\n",
       " 'पूर्वस्नातक',\n",
       " 'देस',\n",
       " 'पांडित्य',\n",
       " 'कथाकार',\n",
       " 'क्यारी',\n",
       " 'आरोग्यप्रद',\n",
       " 'सार्वभौमिक',\n",
       " 'लेलिह',\n",
       " 'उच्चतर',\n",
       " 'सरपेच',\n",
       " 'महाविस्फोट',\n",
       " 'रक्तचंदन',\n",
       " 'कदुष्ण',\n",
       " 'इथियोपिया',\n",
       " 'शस्य',\n",
       " 'श्रद्धावान',\n",
       " 'पुत्रवान',\n",
       " 'देशहित']"
      ]
     },
     "execution_count": 9,
     "metadata": {},
     "output_type": "execute_result"
    }
   ],
   "source": [
    "# sample of 20 words\n",
    "list(set(hindi) & set(guj))[11000:11020]"
   ]
  },
  {
   "cell_type": "code",
   "execution_count": 10,
   "metadata": {},
   "outputs": [
    {
     "data": {
      "text/plain": [
       "['विदारित',\n",
       " 'सिंचन',\n",
       " 'असह्य',\n",
       " 'फोडणी',\n",
       " 'कठोरता',\n",
       " 'प्रादुर्भूत',\n",
       " 'दाट',\n",
       " 'अपेक्षा',\n",
       " 'त्रैलोक्य',\n",
       " 'विध्वंसक',\n",
       " 'मार्केट',\n",
       " 'विश्लेषण',\n",
       " 'व्यायाम',\n",
       " 'स्पृश्यास्पृश्य',\n",
       " 'शब्दातीत',\n",
       " 'गतानुगतिक',\n",
       " 'कथित',\n",
       " 'विज्ञापना',\n",
       " 'फेडरेशन',\n",
       " 'गडबड']"
      ]
     },
     "execution_count": 10,
     "metadata": {},
     "output_type": "execute_result"
    }
   ],
   "source": [
    "# sample of 20 words\n",
    "list(set(guj) & set(marathi))[11000:11020]"
   ]
  },
  {
   "cell_type": "code",
   "execution_count": 12,
   "metadata": {},
   "outputs": [
    {
     "data": {
      "text/plain": [
       "['नंदनवन',\n",
       " 'रथयात्रा',\n",
       " 'आयव्यय',\n",
       " 'शौच',\n",
       " 'कमजोर',\n",
       " 'नजारा',\n",
       " 'विशद',\n",
       " 'सर्वकालीन',\n",
       " 'वधू',\n",
       " 'सेक्टर',\n",
       " 'संसद',\n",
       " 'नमकहराम',\n",
       " 'वर्णमाला',\n",
       " 'मध्यस्थ',\n",
       " 'दुःखित',\n",
       " 'आक्षेप',\n",
       " 'समंजस',\n",
       " 'गिफ्ट',\n",
       " 'कपास',\n",
       " 'मिथुन']"
      ]
     },
     "execution_count": 12,
     "metadata": {},
     "output_type": "execute_result"
    }
   ],
   "source": [
    "# sample of 20 words\n",
    "list(set(guj) & set(marathi) & set(hindi))[1100:1120]"
   ]
  },
  {
   "cell_type": "code",
   "execution_count": null,
   "metadata": {},
   "outputs": [],
   "source": []
  }
 ],
 "metadata": {
  "kernelspec": {
   "display_name": "Python 3",
   "language": "python",
   "name": "python3"
  },
  "language_info": {
   "codemirror_mode": {
    "name": "ipython",
    "version": 3
   },
   "file_extension": ".py",
   "mimetype": "text/x-python",
   "name": "python",
   "nbconvert_exporter": "python",
   "pygments_lexer": "ipython3",
   "version": "3.7.6"
  }
 },
 "nbformat": 4,
 "nbformat_minor": 4
}
